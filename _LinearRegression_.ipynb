{
  "cells": [
    {
      "cell_type": "markdown",
      "metadata": {
        "id": "view-in-github",
        "colab_type": "text"
      },
      "source": [
        "<a href=\"https://colab.research.google.com/github/AlinaKhan111/Linear-Regression-Project/blob/main/_LinearRegression_.ipynb\" target=\"_parent\"><img src=\"https://colab.research.google.com/assets/colab-badge.svg\" alt=\"Open In Colab\"/></a>"
      ]
    },
    {
      "cell_type": "markdown",
      "metadata": {
        "id": "QLMjmnd4lsqW"
      },
      "source": [
        "#In this mini project, **we will be training a Linear Regression model to perform accurate prediction of Price (Target Feature, $y$) of Used Cars, using the dataset of Used Cars having 25 Input Features ($X$) and 1 Target Feature of Price, available [here](https://www.kaggle.com/datasets/austinreese/craigslist-carstrucks-data).**"
      ]
    },
    {
      "cell_type": "markdown",
      "metadata": {
        "id": "HGL8Mi64nmWp"
      },
      "source": [
        "#In this dataset, we will be having **data of 426880 Cars, each having initially an Input Feature Vector of 25 Dimensions which is a Row Vector ($\\vec{x}^i$) and a scalar Target Feature ($y_i$).**"
      ]
    },
    {
      "cell_type": "markdown",
      "metadata": {
        "id": "FH7VWC4QoKyN"
      },
      "source": [
        "#Let's download the data from Kaggle."
      ]
    },
    {
      "cell_type": "code",
      "execution_count": 2,
      "metadata": {
        "id": "x60a6XarCJIj"
      },
      "outputs": [],
      "source": [
        "from google.colab import files"
      ]
    },
    {
      "cell_type": "code",
      "execution_count": 3,
      "metadata": {
        "colab": {
          "base_uri": "https://localhost:8080/",
          "height": 90
        },
        "id": "qGzOjdA1Fs9S",
        "outputId": "38416928-fbf4-435b-f348-d0ddf22afc6a"
      },
      "outputs": [
        {
          "output_type": "display_data",
          "data": {
            "text/plain": [
              "<IPython.core.display.HTML object>"
            ],
            "text/html": [
              "\n",
              "     <input type=\"file\" id=\"files-2319b832-cc53-4202-9f5b-2922f89bbc2f\" name=\"files[]\" multiple disabled\n",
              "        style=\"border:none\" />\n",
              "     <output id=\"result-2319b832-cc53-4202-9f5b-2922f89bbc2f\">\n",
              "      Upload widget is only available when the cell has been executed in the\n",
              "      current browser session. Please rerun this cell to enable.\n",
              "      </output>\n",
              "      <script>// Copyright 2017 Google LLC\n",
              "//\n",
              "// Licensed under the Apache License, Version 2.0 (the \"License\");\n",
              "// you may not use this file except in compliance with the License.\n",
              "// You may obtain a copy of the License at\n",
              "//\n",
              "//      http://www.apache.org/licenses/LICENSE-2.0\n",
              "//\n",
              "// Unless required by applicable law or agreed to in writing, software\n",
              "// distributed under the License is distributed on an \"AS IS\" BASIS,\n",
              "// WITHOUT WARRANTIES OR CONDITIONS OF ANY KIND, either express or implied.\n",
              "// See the License for the specific language governing permissions and\n",
              "// limitations under the License.\n",
              "\n",
              "/**\n",
              " * @fileoverview Helpers for google.colab Python module.\n",
              " */\n",
              "(function(scope) {\n",
              "function span(text, styleAttributes = {}) {\n",
              "  const element = document.createElement('span');\n",
              "  element.textContent = text;\n",
              "  for (const key of Object.keys(styleAttributes)) {\n",
              "    element.style[key] = styleAttributes[key];\n",
              "  }\n",
              "  return element;\n",
              "}\n",
              "\n",
              "// Max number of bytes which will be uploaded at a time.\n",
              "const MAX_PAYLOAD_SIZE = 100 * 1024;\n",
              "\n",
              "function _uploadFiles(inputId, outputId) {\n",
              "  const steps = uploadFilesStep(inputId, outputId);\n",
              "  const outputElement = document.getElementById(outputId);\n",
              "  // Cache steps on the outputElement to make it available for the next call\n",
              "  // to uploadFilesContinue from Python.\n",
              "  outputElement.steps = steps;\n",
              "\n",
              "  return _uploadFilesContinue(outputId);\n",
              "}\n",
              "\n",
              "// This is roughly an async generator (not supported in the browser yet),\n",
              "// where there are multiple asynchronous steps and the Python side is going\n",
              "// to poll for completion of each step.\n",
              "// This uses a Promise to block the python side on completion of each step,\n",
              "// then passes the result of the previous step as the input to the next step.\n",
              "function _uploadFilesContinue(outputId) {\n",
              "  const outputElement = document.getElementById(outputId);\n",
              "  const steps = outputElement.steps;\n",
              "\n",
              "  const next = steps.next(outputElement.lastPromiseValue);\n",
              "  return Promise.resolve(next.value.promise).then((value) => {\n",
              "    // Cache the last promise value to make it available to the next\n",
              "    // step of the generator.\n",
              "    outputElement.lastPromiseValue = value;\n",
              "    return next.value.response;\n",
              "  });\n",
              "}\n",
              "\n",
              "/**\n",
              " * Generator function which is called between each async step of the upload\n",
              " * process.\n",
              " * @param {string} inputId Element ID of the input file picker element.\n",
              " * @param {string} outputId Element ID of the output display.\n",
              " * @return {!Iterable<!Object>} Iterable of next steps.\n",
              " */\n",
              "function* uploadFilesStep(inputId, outputId) {\n",
              "  const inputElement = document.getElementById(inputId);\n",
              "  inputElement.disabled = false;\n",
              "\n",
              "  const outputElement = document.getElementById(outputId);\n",
              "  outputElement.innerHTML = '';\n",
              "\n",
              "  const pickedPromise = new Promise((resolve) => {\n",
              "    inputElement.addEventListener('change', (e) => {\n",
              "      resolve(e.target.files);\n",
              "    });\n",
              "  });\n",
              "\n",
              "  const cancel = document.createElement('button');\n",
              "  inputElement.parentElement.appendChild(cancel);\n",
              "  cancel.textContent = 'Cancel upload';\n",
              "  const cancelPromise = new Promise((resolve) => {\n",
              "    cancel.onclick = () => {\n",
              "      resolve(null);\n",
              "    };\n",
              "  });\n",
              "\n",
              "  // Wait for the user to pick the files.\n",
              "  const files = yield {\n",
              "    promise: Promise.race([pickedPromise, cancelPromise]),\n",
              "    response: {\n",
              "      action: 'starting',\n",
              "    }\n",
              "  };\n",
              "\n",
              "  cancel.remove();\n",
              "\n",
              "  // Disable the input element since further picks are not allowed.\n",
              "  inputElement.disabled = true;\n",
              "\n",
              "  if (!files) {\n",
              "    return {\n",
              "      response: {\n",
              "        action: 'complete',\n",
              "      }\n",
              "    };\n",
              "  }\n",
              "\n",
              "  for (const file of files) {\n",
              "    const li = document.createElement('li');\n",
              "    li.append(span(file.name, {fontWeight: 'bold'}));\n",
              "    li.append(span(\n",
              "        `(${file.type || 'n/a'}) - ${file.size} bytes, ` +\n",
              "        `last modified: ${\n",
              "            file.lastModifiedDate ? file.lastModifiedDate.toLocaleDateString() :\n",
              "                                    'n/a'} - `));\n",
              "    const percent = span('0% done');\n",
              "    li.appendChild(percent);\n",
              "\n",
              "    outputElement.appendChild(li);\n",
              "\n",
              "    const fileDataPromise = new Promise((resolve) => {\n",
              "      const reader = new FileReader();\n",
              "      reader.onload = (e) => {\n",
              "        resolve(e.target.result);\n",
              "      };\n",
              "      reader.readAsArrayBuffer(file);\n",
              "    });\n",
              "    // Wait for the data to be ready.\n",
              "    let fileData = yield {\n",
              "      promise: fileDataPromise,\n",
              "      response: {\n",
              "        action: 'continue',\n",
              "      }\n",
              "    };\n",
              "\n",
              "    // Use a chunked sending to avoid message size limits. See b/62115660.\n",
              "    let position = 0;\n",
              "    do {\n",
              "      const length = Math.min(fileData.byteLength - position, MAX_PAYLOAD_SIZE);\n",
              "      const chunk = new Uint8Array(fileData, position, length);\n",
              "      position += length;\n",
              "\n",
              "      const base64 = btoa(String.fromCharCode.apply(null, chunk));\n",
              "      yield {\n",
              "        response: {\n",
              "          action: 'append',\n",
              "          file: file.name,\n",
              "          data: base64,\n",
              "        },\n",
              "      };\n",
              "\n",
              "      let percentDone = fileData.byteLength === 0 ?\n",
              "          100 :\n",
              "          Math.round((position / fileData.byteLength) * 100);\n",
              "      percent.textContent = `${percentDone}% done`;\n",
              "\n",
              "    } while (position < fileData.byteLength);\n",
              "  }\n",
              "\n",
              "  // All done.\n",
              "  yield {\n",
              "    response: {\n",
              "      action: 'complete',\n",
              "    }\n",
              "  };\n",
              "}\n",
              "\n",
              "scope.google = scope.google || {};\n",
              "scope.google.colab = scope.google.colab || {};\n",
              "scope.google.colab._files = {\n",
              "  _uploadFiles,\n",
              "  _uploadFilesContinue,\n",
              "};\n",
              "})(self);\n",
              "</script> "
            ]
          },
          "metadata": {}
        },
        {
          "output_type": "stream",
          "name": "stdout",
          "text": [
            "Saving kaggle.json to kaggle.json\n"
          ]
        },
        {
          "output_type": "execute_result",
          "data": {
            "text/plain": [
              "{'kaggle.json': b'{\"username\":\"alinakhan111\",\"key\":\"8845eb71666910110744925ce1c47f63\"}'}"
            ]
          },
          "metadata": {},
          "execution_count": 3
        }
      ],
      "source": [
        "files.upload()"
      ]
    },
    {
      "cell_type": "code",
      "execution_count": 4,
      "metadata": {
        "colab": {
          "base_uri": "https://localhost:8080/"
        },
        "id": "t7By68_zFxLu",
        "outputId": "a65dfd1f-87a6-4405-9a00-5c00c5a16b07"
      },
      "outputs": [
        {
          "output_type": "stream",
          "name": "stdout",
          "text": [
            "mkdir: cannot create directory ‘/root/.kaggle’: File exists\n"
          ]
        }
      ],
      "source": [
        "!mkdir ~/.kaggle"
      ]
    },
    {
      "cell_type": "code",
      "execution_count": 5,
      "metadata": {
        "id": "GmvyMfnOGnyn"
      },
      "outputs": [],
      "source": [
        "!mv /content/kaggle.json ~/.kaggle"
      ]
    },
    {
      "cell_type": "code",
      "execution_count": 6,
      "metadata": {
        "id": "TKhUds90G3dH"
      },
      "outputs": [],
      "source": [
        "!chmod 600 ~/.kaggle/kaggle.json"
      ]
    },
    {
      "cell_type": "code",
      "execution_count": 7,
      "metadata": {
        "colab": {
          "base_uri": "https://localhost:8080/"
        },
        "id": "B2fQB7h3HqU1",
        "outputId": "4f7ee021-26f4-4bd6-c399-e8201c9801a2"
      },
      "outputs": [
        {
          "output_type": "stream",
          "name": "stdout",
          "text": [
            "Requirement already satisfied: kaggle in /usr/local/lib/python3.10/dist-packages (1.5.16)\n",
            "Requirement already satisfied: six>=1.10 in /usr/local/lib/python3.10/dist-packages (from kaggle) (1.16.0)\n",
            "Requirement already satisfied: certifi in /usr/local/lib/python3.10/dist-packages (from kaggle) (2024.2.2)\n",
            "Requirement already satisfied: python-dateutil in /usr/local/lib/python3.10/dist-packages (from kaggle) (2.8.2)\n",
            "Requirement already satisfied: requests in /usr/local/lib/python3.10/dist-packages (from kaggle) (2.31.0)\n",
            "Requirement already satisfied: tqdm in /usr/local/lib/python3.10/dist-packages (from kaggle) (4.66.2)\n",
            "Requirement already satisfied: python-slugify in /usr/local/lib/python3.10/dist-packages (from kaggle) (8.0.4)\n",
            "Requirement already satisfied: urllib3 in /usr/local/lib/python3.10/dist-packages (from kaggle) (2.0.7)\n",
            "Requirement already satisfied: bleach in /usr/local/lib/python3.10/dist-packages (from kaggle) (6.1.0)\n",
            "Requirement already satisfied: webencodings in /usr/local/lib/python3.10/dist-packages (from bleach->kaggle) (0.5.1)\n",
            "Requirement already satisfied: text-unidecode>=1.3 in /usr/local/lib/python3.10/dist-packages (from python-slugify->kaggle) (1.3)\n",
            "Requirement already satisfied: charset-normalizer<4,>=2 in /usr/local/lib/python3.10/dist-packages (from requests->kaggle) (3.3.2)\n",
            "Requirement already satisfied: idna<4,>=2.5 in /usr/local/lib/python3.10/dist-packages (from requests->kaggle) (3.6)\n"
          ]
        }
      ],
      "source": [
        "!pip install kaggle"
      ]
    },
    {
      "cell_type": "code",
      "execution_count": 8,
      "metadata": {
        "colab": {
          "base_uri": "https://localhost:8080/"
        },
        "id": "Rea08jicHGmS",
        "outputId": "8cf4a314-6251-4cd6-d456-4745cc2fdc33"
      },
      "outputs": [
        {
          "output_type": "stream",
          "name": "stdout",
          "text": [
            "craigslist-carstrucks-data.zip: Skipping, found more recently modified local copy (use --force to force download)\n"
          ]
        }
      ],
      "source": [
        "!kaggle datasets download -d austinreese/craigslist-carstrucks-data"
      ]
    },
    {
      "cell_type": "markdown",
      "metadata": {
        "id": "la0ou32KoQyI"
      },
      "source": [
        "#Let's Unzip it."
      ]
    },
    {
      "cell_type": "code",
      "execution_count": 9,
      "metadata": {
        "colab": {
          "base_uri": "https://localhost:8080/"
        },
        "id": "CWNCX595H0e9",
        "outputId": "d836cbc1-45a3-4c5b-a5f9-0abaefd61a2b"
      },
      "outputs": [
        {
          "output_type": "stream",
          "name": "stdout",
          "text": [
            "Archive:  /content/craigslist-carstrucks-data.zip\n",
            "replace vehicles.csv? [y]es, [n]o, [A]ll, [N]one, [r]ename: "
          ]
        }
      ],
      "source": [
        "!unzip /content/craigslist-carstrucks-data.zip"
      ]
    },
    {
      "cell_type": "code",
      "execution_count": 10,
      "metadata": {
        "id": "Em_uOq_uM5x8"
      },
      "outputs": [],
      "source": [
        "import pandas as pd\n",
        "import numpy as np\n",
        "import seaborn as sns"
      ]
    },
    {
      "cell_type": "markdown",
      "metadata": {
        "id": "rERWQUORoVYi"
      },
      "source": [
        "#Let's read the data."
      ]
    },
    {
      "cell_type": "code",
      "execution_count": 11,
      "metadata": {
        "id": "Q7hLAdEvSmsN"
      },
      "outputs": [],
      "source": [
        "data = pd.read_csv(\"/content/vehicles.csv\")"
      ]
    },
    {
      "cell_type": "markdown",
      "metadata": {
        "id": "eVen_4C8oZxF"
      },
      "source": [
        "#Let's have a preliminary look on our data."
      ]
    },
    {
      "cell_type": "code",
      "execution_count": 12,
      "metadata": {
        "colab": {
          "base_uri": "https://localhost:8080/",
          "height": 290
        },
        "id": "fcEGwF1VTQHf",
        "outputId": "157a9740-c06a-4c37-c1f6-ced0775c2e93"
      },
      "outputs": [
        {
          "output_type": "execute_result",
          "data": {
            "text/plain": [
              "           id                                                url  \\\n",
              "0  7222695916  https://prescott.craigslist.org/cto/d/prescott...   \n",
              "1  7218891961  https://fayar.craigslist.org/ctd/d/bentonville...   \n",
              "2  7221797935  https://keys.craigslist.org/cto/d/summerland-k...   \n",
              "3  7222270760  https://worcester.craigslist.org/cto/d/west-br...   \n",
              "4  7210384030  https://greensboro.craigslist.org/cto/d/trinit...   \n",
              "\n",
              "                   region                         region_url  price  year  \\\n",
              "0                prescott    https://prescott.craigslist.org   6000   NaN   \n",
              "1            fayetteville       https://fayar.craigslist.org  11900   NaN   \n",
              "2            florida keys        https://keys.craigslist.org  21000   NaN   \n",
              "3  worcester / central MA   https://worcester.craigslist.org   1500   NaN   \n",
              "4              greensboro  https://greensboro.craigslist.org   4900   NaN   \n",
              "\n",
              "  manufacturer model condition cylinders  ... size  type paint_color  \\\n",
              "0          NaN   NaN       NaN       NaN  ...  NaN   NaN         NaN   \n",
              "1          NaN   NaN       NaN       NaN  ...  NaN   NaN         NaN   \n",
              "2          NaN   NaN       NaN       NaN  ...  NaN   NaN         NaN   \n",
              "3          NaN   NaN       NaN       NaN  ...  NaN   NaN         NaN   \n",
              "4          NaN   NaN       NaN       NaN  ...  NaN   NaN         NaN   \n",
              "\n",
              "  image_url description county state lat long posting_date  \n",
              "0       NaN         NaN    NaN    az NaN  NaN          NaN  \n",
              "1       NaN         NaN    NaN    ar NaN  NaN          NaN  \n",
              "2       NaN         NaN    NaN    fl NaN  NaN          NaN  \n",
              "3       NaN         NaN    NaN    ma NaN  NaN          NaN  \n",
              "4       NaN         NaN    NaN    nc NaN  NaN          NaN  \n",
              "\n",
              "[5 rows x 26 columns]"
            ],
            "text/html": [
              "\n",
              "  <div id=\"df-d978b3c4-755a-4f55-8c72-469e31e45c71\" class=\"colab-df-container\">\n",
              "    <div>\n",
              "<style scoped>\n",
              "    .dataframe tbody tr th:only-of-type {\n",
              "        vertical-align: middle;\n",
              "    }\n",
              "\n",
              "    .dataframe tbody tr th {\n",
              "        vertical-align: top;\n",
              "    }\n",
              "\n",
              "    .dataframe thead th {\n",
              "        text-align: right;\n",
              "    }\n",
              "</style>\n",
              "<table border=\"1\" class=\"dataframe\">\n",
              "  <thead>\n",
              "    <tr style=\"text-align: right;\">\n",
              "      <th></th>\n",
              "      <th>id</th>\n",
              "      <th>url</th>\n",
              "      <th>region</th>\n",
              "      <th>region_url</th>\n",
              "      <th>price</th>\n",
              "      <th>year</th>\n",
              "      <th>manufacturer</th>\n",
              "      <th>model</th>\n",
              "      <th>condition</th>\n",
              "      <th>cylinders</th>\n",
              "      <th>...</th>\n",
              "      <th>size</th>\n",
              "      <th>type</th>\n",
              "      <th>paint_color</th>\n",
              "      <th>image_url</th>\n",
              "      <th>description</th>\n",
              "      <th>county</th>\n",
              "      <th>state</th>\n",
              "      <th>lat</th>\n",
              "      <th>long</th>\n",
              "      <th>posting_date</th>\n",
              "    </tr>\n",
              "  </thead>\n",
              "  <tbody>\n",
              "    <tr>\n",
              "      <th>0</th>\n",
              "      <td>7222695916</td>\n",
              "      <td>https://prescott.craigslist.org/cto/d/prescott...</td>\n",
              "      <td>prescott</td>\n",
              "      <td>https://prescott.craigslist.org</td>\n",
              "      <td>6000</td>\n",
              "      <td>NaN</td>\n",
              "      <td>NaN</td>\n",
              "      <td>NaN</td>\n",
              "      <td>NaN</td>\n",
              "      <td>NaN</td>\n",
              "      <td>...</td>\n",
              "      <td>NaN</td>\n",
              "      <td>NaN</td>\n",
              "      <td>NaN</td>\n",
              "      <td>NaN</td>\n",
              "      <td>NaN</td>\n",
              "      <td>NaN</td>\n",
              "      <td>az</td>\n",
              "      <td>NaN</td>\n",
              "      <td>NaN</td>\n",
              "      <td>NaN</td>\n",
              "    </tr>\n",
              "    <tr>\n",
              "      <th>1</th>\n",
              "      <td>7218891961</td>\n",
              "      <td>https://fayar.craigslist.org/ctd/d/bentonville...</td>\n",
              "      <td>fayetteville</td>\n",
              "      <td>https://fayar.craigslist.org</td>\n",
              "      <td>11900</td>\n",
              "      <td>NaN</td>\n",
              "      <td>NaN</td>\n",
              "      <td>NaN</td>\n",
              "      <td>NaN</td>\n",
              "      <td>NaN</td>\n",
              "      <td>...</td>\n",
              "      <td>NaN</td>\n",
              "      <td>NaN</td>\n",
              "      <td>NaN</td>\n",
              "      <td>NaN</td>\n",
              "      <td>NaN</td>\n",
              "      <td>NaN</td>\n",
              "      <td>ar</td>\n",
              "      <td>NaN</td>\n",
              "      <td>NaN</td>\n",
              "      <td>NaN</td>\n",
              "    </tr>\n",
              "    <tr>\n",
              "      <th>2</th>\n",
              "      <td>7221797935</td>\n",
              "      <td>https://keys.craigslist.org/cto/d/summerland-k...</td>\n",
              "      <td>florida keys</td>\n",
              "      <td>https://keys.craigslist.org</td>\n",
              "      <td>21000</td>\n",
              "      <td>NaN</td>\n",
              "      <td>NaN</td>\n",
              "      <td>NaN</td>\n",
              "      <td>NaN</td>\n",
              "      <td>NaN</td>\n",
              "      <td>...</td>\n",
              "      <td>NaN</td>\n",
              "      <td>NaN</td>\n",
              "      <td>NaN</td>\n",
              "      <td>NaN</td>\n",
              "      <td>NaN</td>\n",
              "      <td>NaN</td>\n",
              "      <td>fl</td>\n",
              "      <td>NaN</td>\n",
              "      <td>NaN</td>\n",
              "      <td>NaN</td>\n",
              "    </tr>\n",
              "    <tr>\n",
              "      <th>3</th>\n",
              "      <td>7222270760</td>\n",
              "      <td>https://worcester.craigslist.org/cto/d/west-br...</td>\n",
              "      <td>worcester / central MA</td>\n",
              "      <td>https://worcester.craigslist.org</td>\n",
              "      <td>1500</td>\n",
              "      <td>NaN</td>\n",
              "      <td>NaN</td>\n",
              "      <td>NaN</td>\n",
              "      <td>NaN</td>\n",
              "      <td>NaN</td>\n",
              "      <td>...</td>\n",
              "      <td>NaN</td>\n",
              "      <td>NaN</td>\n",
              "      <td>NaN</td>\n",
              "      <td>NaN</td>\n",
              "      <td>NaN</td>\n",
              "      <td>NaN</td>\n",
              "      <td>ma</td>\n",
              "      <td>NaN</td>\n",
              "      <td>NaN</td>\n",
              "      <td>NaN</td>\n",
              "    </tr>\n",
              "    <tr>\n",
              "      <th>4</th>\n",
              "      <td>7210384030</td>\n",
              "      <td>https://greensboro.craigslist.org/cto/d/trinit...</td>\n",
              "      <td>greensboro</td>\n",
              "      <td>https://greensboro.craigslist.org</td>\n",
              "      <td>4900</td>\n",
              "      <td>NaN</td>\n",
              "      <td>NaN</td>\n",
              "      <td>NaN</td>\n",
              "      <td>NaN</td>\n",
              "      <td>NaN</td>\n",
              "      <td>...</td>\n",
              "      <td>NaN</td>\n",
              "      <td>NaN</td>\n",
              "      <td>NaN</td>\n",
              "      <td>NaN</td>\n",
              "      <td>NaN</td>\n",
              "      <td>NaN</td>\n",
              "      <td>nc</td>\n",
              "      <td>NaN</td>\n",
              "      <td>NaN</td>\n",
              "      <td>NaN</td>\n",
              "    </tr>\n",
              "  </tbody>\n",
              "</table>\n",
              "<p>5 rows × 26 columns</p>\n",
              "</div>\n",
              "    <div class=\"colab-df-buttons\">\n",
              "\n",
              "  <div class=\"colab-df-container\">\n",
              "    <button class=\"colab-df-convert\" onclick=\"convertToInteractive('df-d978b3c4-755a-4f55-8c72-469e31e45c71')\"\n",
              "            title=\"Convert this dataframe to an interactive table.\"\n",
              "            style=\"display:none;\">\n",
              "\n",
              "  <svg xmlns=\"http://www.w3.org/2000/svg\" height=\"24px\" viewBox=\"0 -960 960 960\">\n",
              "    <path d=\"M120-120v-720h720v720H120Zm60-500h600v-160H180v160Zm220 220h160v-160H400v160Zm0 220h160v-160H400v160ZM180-400h160v-160H180v160Zm440 0h160v-160H620v160ZM180-180h160v-160H180v160Zm440 0h160v-160H620v160Z\"/>\n",
              "  </svg>\n",
              "    </button>\n",
              "\n",
              "  <style>\n",
              "    .colab-df-container {\n",
              "      display:flex;\n",
              "      gap: 12px;\n",
              "    }\n",
              "\n",
              "    .colab-df-convert {\n",
              "      background-color: #E8F0FE;\n",
              "      border: none;\n",
              "      border-radius: 50%;\n",
              "      cursor: pointer;\n",
              "      display: none;\n",
              "      fill: #1967D2;\n",
              "      height: 32px;\n",
              "      padding: 0 0 0 0;\n",
              "      width: 32px;\n",
              "    }\n",
              "\n",
              "    .colab-df-convert:hover {\n",
              "      background-color: #E2EBFA;\n",
              "      box-shadow: 0px 1px 2px rgba(60, 64, 67, 0.3), 0px 1px 3px 1px rgba(60, 64, 67, 0.15);\n",
              "      fill: #174EA6;\n",
              "    }\n",
              "\n",
              "    .colab-df-buttons div {\n",
              "      margin-bottom: 4px;\n",
              "    }\n",
              "\n",
              "    [theme=dark] .colab-df-convert {\n",
              "      background-color: #3B4455;\n",
              "      fill: #D2E3FC;\n",
              "    }\n",
              "\n",
              "    [theme=dark] .colab-df-convert:hover {\n",
              "      background-color: #434B5C;\n",
              "      box-shadow: 0px 1px 3px 1px rgba(0, 0, 0, 0.15);\n",
              "      filter: drop-shadow(0px 1px 2px rgba(0, 0, 0, 0.3));\n",
              "      fill: #FFFFFF;\n",
              "    }\n",
              "  </style>\n",
              "\n",
              "    <script>\n",
              "      const buttonEl =\n",
              "        document.querySelector('#df-d978b3c4-755a-4f55-8c72-469e31e45c71 button.colab-df-convert');\n",
              "      buttonEl.style.display =\n",
              "        google.colab.kernel.accessAllowed ? 'block' : 'none';\n",
              "\n",
              "      async function convertToInteractive(key) {\n",
              "        const element = document.querySelector('#df-d978b3c4-755a-4f55-8c72-469e31e45c71');\n",
              "        const dataTable =\n",
              "          await google.colab.kernel.invokeFunction('convertToInteractive',\n",
              "                                                    [key], {});\n",
              "        if (!dataTable) return;\n",
              "\n",
              "        const docLinkHtml = 'Like what you see? Visit the ' +\n",
              "          '<a target=\"_blank\" href=https://colab.research.google.com/notebooks/data_table.ipynb>data table notebook</a>'\n",
              "          + ' to learn more about interactive tables.';\n",
              "        element.innerHTML = '';\n",
              "        dataTable['output_type'] = 'display_data';\n",
              "        await google.colab.output.renderOutput(dataTable, element);\n",
              "        const docLink = document.createElement('div');\n",
              "        docLink.innerHTML = docLinkHtml;\n",
              "        element.appendChild(docLink);\n",
              "      }\n",
              "    </script>\n",
              "  </div>\n",
              "\n",
              "\n",
              "<div id=\"df-b0e282fc-0582-4301-80e7-b7ba6c291b53\">\n",
              "  <button class=\"colab-df-quickchart\" onclick=\"quickchart('df-b0e282fc-0582-4301-80e7-b7ba6c291b53')\"\n",
              "            title=\"Suggest charts\"\n",
              "            style=\"display:none;\">\n",
              "\n",
              "<svg xmlns=\"http://www.w3.org/2000/svg\" height=\"24px\"viewBox=\"0 0 24 24\"\n",
              "     width=\"24px\">\n",
              "    <g>\n",
              "        <path d=\"M19 3H5c-1.1 0-2 .9-2 2v14c0 1.1.9 2 2 2h14c1.1 0 2-.9 2-2V5c0-1.1-.9-2-2-2zM9 17H7v-7h2v7zm4 0h-2V7h2v10zm4 0h-2v-4h2v4z\"/>\n",
              "    </g>\n",
              "</svg>\n",
              "  </button>\n",
              "\n",
              "<style>\n",
              "  .colab-df-quickchart {\n",
              "      --bg-color: #E8F0FE;\n",
              "      --fill-color: #1967D2;\n",
              "      --hover-bg-color: #E2EBFA;\n",
              "      --hover-fill-color: #174EA6;\n",
              "      --disabled-fill-color: #AAA;\n",
              "      --disabled-bg-color: #DDD;\n",
              "  }\n",
              "\n",
              "  [theme=dark] .colab-df-quickchart {\n",
              "      --bg-color: #3B4455;\n",
              "      --fill-color: #D2E3FC;\n",
              "      --hover-bg-color: #434B5C;\n",
              "      --hover-fill-color: #FFFFFF;\n",
              "      --disabled-bg-color: #3B4455;\n",
              "      --disabled-fill-color: #666;\n",
              "  }\n",
              "\n",
              "  .colab-df-quickchart {\n",
              "    background-color: var(--bg-color);\n",
              "    border: none;\n",
              "    border-radius: 50%;\n",
              "    cursor: pointer;\n",
              "    display: none;\n",
              "    fill: var(--fill-color);\n",
              "    height: 32px;\n",
              "    padding: 0;\n",
              "    width: 32px;\n",
              "  }\n",
              "\n",
              "  .colab-df-quickchart:hover {\n",
              "    background-color: var(--hover-bg-color);\n",
              "    box-shadow: 0 1px 2px rgba(60, 64, 67, 0.3), 0 1px 3px 1px rgba(60, 64, 67, 0.15);\n",
              "    fill: var(--button-hover-fill-color);\n",
              "  }\n",
              "\n",
              "  .colab-df-quickchart-complete:disabled,\n",
              "  .colab-df-quickchart-complete:disabled:hover {\n",
              "    background-color: var(--disabled-bg-color);\n",
              "    fill: var(--disabled-fill-color);\n",
              "    box-shadow: none;\n",
              "  }\n",
              "\n",
              "  .colab-df-spinner {\n",
              "    border: 2px solid var(--fill-color);\n",
              "    border-color: transparent;\n",
              "    border-bottom-color: var(--fill-color);\n",
              "    animation:\n",
              "      spin 1s steps(1) infinite;\n",
              "  }\n",
              "\n",
              "  @keyframes spin {\n",
              "    0% {\n",
              "      border-color: transparent;\n",
              "      border-bottom-color: var(--fill-color);\n",
              "      border-left-color: var(--fill-color);\n",
              "    }\n",
              "    20% {\n",
              "      border-color: transparent;\n",
              "      border-left-color: var(--fill-color);\n",
              "      border-top-color: var(--fill-color);\n",
              "    }\n",
              "    30% {\n",
              "      border-color: transparent;\n",
              "      border-left-color: var(--fill-color);\n",
              "      border-top-color: var(--fill-color);\n",
              "      border-right-color: var(--fill-color);\n",
              "    }\n",
              "    40% {\n",
              "      border-color: transparent;\n",
              "      border-right-color: var(--fill-color);\n",
              "      border-top-color: var(--fill-color);\n",
              "    }\n",
              "    60% {\n",
              "      border-color: transparent;\n",
              "      border-right-color: var(--fill-color);\n",
              "    }\n",
              "    80% {\n",
              "      border-color: transparent;\n",
              "      border-right-color: var(--fill-color);\n",
              "      border-bottom-color: var(--fill-color);\n",
              "    }\n",
              "    90% {\n",
              "      border-color: transparent;\n",
              "      border-bottom-color: var(--fill-color);\n",
              "    }\n",
              "  }\n",
              "</style>\n",
              "\n",
              "  <script>\n",
              "    async function quickchart(key) {\n",
              "      const quickchartButtonEl =\n",
              "        document.querySelector('#' + key + ' button');\n",
              "      quickchartButtonEl.disabled = true;  // To prevent multiple clicks.\n",
              "      quickchartButtonEl.classList.add('colab-df-spinner');\n",
              "      try {\n",
              "        const charts = await google.colab.kernel.invokeFunction(\n",
              "            'suggestCharts', [key], {});\n",
              "      } catch (error) {\n",
              "        console.error('Error during call to suggestCharts:', error);\n",
              "      }\n",
              "      quickchartButtonEl.classList.remove('colab-df-spinner');\n",
              "      quickchartButtonEl.classList.add('colab-df-quickchart-complete');\n",
              "    }\n",
              "    (() => {\n",
              "      let quickchartButtonEl =\n",
              "        document.querySelector('#df-b0e282fc-0582-4301-80e7-b7ba6c291b53 button');\n",
              "      quickchartButtonEl.style.display =\n",
              "        google.colab.kernel.accessAllowed ? 'block' : 'none';\n",
              "    })();\n",
              "  </script>\n",
              "</div>\n",
              "    </div>\n",
              "  </div>\n"
            ],
            "application/vnd.google.colaboratory.intrinsic+json": {
              "type": "dataframe",
              "variable_name": "data"
            }
          },
          "metadata": {},
          "execution_count": 12
        }
      ],
      "source": [
        "data.head()"
      ]
    },
    {
      "cell_type": "markdown",
      "metadata": {
        "id": "_1Ph-Dx4ojBy"
      },
      "source": [
        "#Let's see how many and what columns are there in our dataset."
      ]
    },
    {
      "cell_type": "code",
      "execution_count": 13,
      "metadata": {
        "colab": {
          "base_uri": "https://localhost:8080/"
        },
        "id": "WZNiol6gTdKM",
        "outputId": "3832a2f1-5e31-46bf-b400-673febaccc8c"
      },
      "outputs": [
        {
          "output_type": "execute_result",
          "data": {
            "text/plain": [
              "Index(['id', 'url', 'region', 'region_url', 'price', 'year', 'manufacturer',\n",
              "       'model', 'condition', 'cylinders', 'fuel', 'odometer', 'title_status',\n",
              "       'transmission', 'VIN', 'drive', 'size', 'type', 'paint_color',\n",
              "       'image_url', 'description', 'county', 'state', 'lat', 'long',\n",
              "       'posting_date'],\n",
              "      dtype='object')"
            ]
          },
          "metadata": {},
          "execution_count": 13
        }
      ],
      "source": [
        "data.columns"
      ]
    },
    {
      "cell_type": "markdown",
      "metadata": {
        "id": "EMcLgzLGoslZ"
      },
      "source": [
        "#Let's see how many rows are there in our dataset."
      ]
    },
    {
      "cell_type": "code",
      "execution_count": 14,
      "metadata": {
        "colab": {
          "base_uri": "https://localhost:8080/"
        },
        "id": "dQ25A037UJ0j",
        "outputId": "a379e327-a67b-415c-a2bd-5192bac54ec4"
      },
      "outputs": [
        {
          "output_type": "execute_result",
          "data": {
            "text/plain": [
              "(426880, 26)"
            ]
          },
          "metadata": {},
          "execution_count": 14
        }
      ],
      "source": [
        "data.shape"
      ]
    },
    {
      "cell_type": "markdown",
      "metadata": {
        "id": "w_miA-TcpAs9"
      },
      "source": [
        "###As we can see above that **each row of the dataset has the data of a single used car having 25 Dimensional input feature vector which is a row vector ($\\vec{x}^i$) and a target feature (reference output or correct answer, $y_i$)**, making each row of the dataset as a 26 Dimensional row vector having 25 Dimensional Input feature row vector and a scalar target feature."
      ]
    },
    {
      "cell_type": "markdown",
      "metadata": {
        "id": "bXATIcNCqmLT"
      },
      "source": [
        "#Let's determine that whether any column of our dataset has missing values or not."
      ]
    },
    {
      "cell_type": "code",
      "execution_count": 15,
      "metadata": {
        "colab": {
          "base_uri": "https://localhost:8080/"
        },
        "id": "ooBKv-3vU9D_",
        "outputId": "a4685e73-9762-4636-e340-eed191b8b54d"
      },
      "outputs": [
        {
          "output_type": "execute_result",
          "data": {
            "text/plain": [
              "id                   0\n",
              "url                  0\n",
              "region               0\n",
              "region_url           0\n",
              "price                0\n",
              "year              1205\n",
              "manufacturer     17646\n",
              "model             5277\n",
              "condition       174104\n",
              "cylinders       177678\n",
              "fuel              3013\n",
              "odometer          4400\n",
              "title_status      8242\n",
              "transmission      2556\n",
              "VIN             161042\n",
              "drive           130567\n",
              "size            306361\n",
              "type             92858\n",
              "paint_color     130203\n",
              "image_url           68\n",
              "description         70\n",
              "county          426880\n",
              "state                0\n",
              "lat               6549\n",
              "long              6549\n",
              "posting_date        68\n",
              "dtype: int64"
            ]
          },
          "metadata": {},
          "execution_count": 15
        }
      ],
      "source": [
        "data.isna().sum()"
      ]
    },
    {
      "cell_type": "markdown",
      "metadata": {
        "id": "HPH2FAp2qqyF"
      },
      "source": [
        "###It can be observed above that **only some columns: ```id```, ```url```, ```region```, ```region_url```, ```price``` and ```state``` has no missing values** and rest all the other columns have missing values.  "
      ]
    },
    {
      "cell_type": "markdown",
      "metadata": {
        "id": "58cAR9DRrRrS"
      },
      "source": [
        "###Before filling up the missing values, **let's remove or ```drop``` all the irrelevant columns which is expected to play no role** in making accurate prediction of Price of a used car."
      ]
    },
    {
      "cell_type": "code",
      "execution_count": 16,
      "metadata": {
        "id": "jmJ2QjQfVHpH"
      },
      "outputs": [],
      "source": [
        "data.drop(labels=data.columns[0:4],axis=1,inplace=True)"
      ]
    },
    {
      "cell_type": "code",
      "execution_count": 17,
      "metadata": {
        "id": "lc0hvyajYhkK"
      },
      "outputs": [],
      "source": [
        "data.drop(labels=\"title_status\",axis=1,inplace=True)"
      ]
    },
    {
      "cell_type": "code",
      "execution_count": 18,
      "metadata": {
        "id": "qc0EJJvxa3Rh"
      },
      "outputs": [],
      "source": [
        "data.drop(labels=data.columns[14:],axis=1,inplace=True)"
      ]
    },
    {
      "cell_type": "code",
      "execution_count": 19,
      "metadata": {
        "id": "OxCMjWcocJh5"
      },
      "outputs": [],
      "source": [
        "data.drop(labels=\"VIN\",axis=1,inplace=True)"
      ]
    },
    {
      "cell_type": "markdown",
      "metadata": {
        "id": "uNVvtCMpsIIY"
      },
      "source": [
        "###Above, we can see that **we have removed or ```drop```ed the following columns: ```id```, ```url```, ```region```, ```region_url```, ```title_status```, ```VIN```, ```image_url```, ```description```, ```county```, ```state```, ```lat```, ```long``` and ```posting_date``` as these columns are expected to play no role in making accurate prediction** in the Price of a used car."
      ]
    },
    {
      "cell_type": "code",
      "execution_count": 20,
      "metadata": {
        "colab": {
          "base_uri": "https://localhost:8080/"
        },
        "id": "0QWLUBr6mA9F",
        "outputId": "758b7d2b-05cc-49d9-c7ba-8df8a3e0e841"
      },
      "outputs": [
        {
          "output_type": "execute_result",
          "data": {
            "text/plain": [
              "(426880, 13)"
            ]
          },
          "metadata": {},
          "execution_count": 20
        }
      ],
      "source": [
        "data.shape"
      ]
    },
    {
      "cell_type": "markdown",
      "metadata": {
        "id": "BbL-VXe8tf3x"
      },
      "source": [
        "#**After removing or ```drop```ing** all the 13 irrelevant columns from the dataset, **we are left with only 13 columns in the dataset.**"
      ]
    },
    {
      "cell_type": "code",
      "execution_count": 21,
      "metadata": {
        "colab": {
          "base_uri": "https://localhost:8080/"
        },
        "id": "jJRkoce4mwiX",
        "outputId": "34a117e3-0b1f-407d-c5bf-8ad797d3e6ab"
      },
      "outputs": [
        {
          "output_type": "execute_result",
          "data": {
            "text/plain": [
              "Index(['price', 'year', 'manufacturer', 'model', 'condition', 'cylinders',\n",
              "       'fuel', 'odometer', 'transmission', 'drive', 'size', 'type',\n",
              "       'paint_color'],\n",
              "      dtype='object')"
            ]
          },
          "metadata": {},
          "execution_count": 21
        }
      ],
      "source": [
        "data.columns"
      ]
    },
    {
      "cell_type": "markdown",
      "metadata": {
        "id": "ha2_VNYuumeQ"
      },
      "source": [
        "###Now, our filtered dataset has only **13 relevant columns left which has a 12 Dimensional input feature row vector ($\\vec{x}^i$) and a scalar target feature ($y_i$).**"
      ]
    },
    {
      "cell_type": "markdown",
      "metadata": {
        "id": "3OeS3Sniw02_"
      },
      "source": [
        "#From this filtered dataset, **we are now going to remove or ```drop``` all the complete rows or complete data of all the used bikes for which the whole input feature row vector ($\\vec{x}^i$) is ```numpy.nan``` or ```np.nan```**, that is at maximum 12 columns in those rows are missing (NaN or ```np.nan```)."
      ]
    },
    {
      "cell_type": "code",
      "execution_count": 22,
      "metadata": {
        "id": "xGEUyQaRTD4a"
      },
      "outputs": [],
      "source": [
        "data.dropna(axis=0,thresh=12,inplace=True)"
      ]
    },
    {
      "cell_type": "code",
      "execution_count": 23,
      "metadata": {
        "colab": {
          "base_uri": "https://localhost:8080/"
        },
        "id": "njW-zGVbVlNG",
        "outputId": "deb722d9-4371-4524-9c81-16ad31c399a5"
      },
      "outputs": [
        {
          "output_type": "execute_result",
          "data": {
            "text/plain": [
              "price               0\n",
              "year                0\n",
              "manufacturer     4059\n",
              "model             975\n",
              "condition       13570\n",
              "cylinders        1766\n",
              "fuel                0\n",
              "odometer          408\n",
              "transmission       11\n",
              "drive            2491\n",
              "size            36793\n",
              "type             1893\n",
              "paint_color      2856\n",
              "dtype: int64"
            ]
          },
          "metadata": {},
          "execution_count": 23
        }
      ],
      "source": [
        "data.isna().sum()"
      ]
    },
    {
      "cell_type": "markdown",
      "metadata": {
        "id": "MPQlQ-FXw-E0"
      },
      "source": [
        "###After removing or ```drop```ing the rows, we are left with less number of missing values."
      ]
    },
    {
      "cell_type": "code",
      "execution_count": 24,
      "metadata": {
        "id": "kCQUHWBSBr2V"
      },
      "outputs": [],
      "source": [
        "data[\"odometer\"].fillna(value=data[\"odometer\"].mean(),inplace=True)"
      ]
    },
    {
      "cell_type": "code",
      "execution_count": 25,
      "metadata": {
        "id": "gIYRFTg3CEKK"
      },
      "outputs": [],
      "source": [
        "data[\"condition\"].fillna(value=data[\"condition\"].value_counts().index[data[\"condition\"].value_counts().argmax()],\n",
        "                         inplace=True)"
      ]
    },
    {
      "cell_type": "code",
      "execution_count": 26,
      "metadata": {
        "id": "DjyKepnqCLje"
      },
      "outputs": [],
      "source": [
        "data[\"paint_color\"].fillna(value=data[\"paint_color\"].value_counts().index[data[\"paint_color\"].value_counts().argmax()],\n",
        "                           inplace=True)"
      ]
    },
    {
      "cell_type": "code",
      "execution_count": 27,
      "metadata": {
        "id": "bglHoLphCmF9"
      },
      "outputs": [],
      "source": [
        "data[\"transmission\"].fillna(value=data[\"transmission\"].value_counts().index[data[\"transmission\"].value_counts().argmax()],\n",
        "                           inplace=True)"
      ]
    },
    {
      "cell_type": "code",
      "execution_count": 28,
      "metadata": {
        "id": "-DveAOUZighn"
      },
      "outputs": [],
      "source": [
        "data[\"manufacturer\"].fillna(value=data[\"manufacturer\"].value_counts().index[data[\"manufacturer\"].value_counts().argmax()],\n",
        "                           inplace=True)"
      ]
    },
    {
      "cell_type": "markdown",
      "metadata": {
        "id": "r3s5Re82w5ey"
      },
      "source": [
        "###As we can see above that, we have filled up missing values or **applied ```fillna``` function to fill missing values in the following columns: ```odometer```, ```condition```, ```paint_color```, ```transmission``` and ```manufacturer```.** In order to **fill up missing values in the ```odometer``` column, we have used the mean of values in that column because we are presuming that the data inside the column of ```odometer``` is Normally Distributed**, that is $\\mathcal{N}(\\mu_\\text{odometer},\\sigma^2)$ and the **missing values in the rest of columns are being filled up by the most frequently occurring values in those columns.**"
      ]
    },
    {
      "cell_type": "markdown",
      "metadata": {
        "id": "eVcFfwPDz6q_"
      },
      "source": [
        "#For **filling up the missing values in rest of the columns, we are going to use the Cross Tabulation Analysis because the values of these rest columns are dependent on other columns.**"
      ]
    },
    {
      "cell_type": "markdown",
      "metadata": {
        "id": "vLvJxXlN0n0O"
      },
      "source": [
        "#**Let's try to understand that what Cross Tabulation is?**"
      ]
    },
    {
      "cell_type": "markdown",
      "metadata": {
        "id": "M0aNTFLa068p"
      },
      "source": [
        "###In Cross Tabulation Analysis we create a Contingency Table, basically a table having rows and columns indexed by values of a different Single Feature or combination of values of two or more than two features present in the pandas dataframe."
      ]
    },
    {
      "cell_type": "markdown",
      "metadata": {
        "id": "F-iuP2vhFuvC"
      },
      "source": [
        "###**Each cell** in this table, that is the **intersection of any column and row in the table has the count or frequency of occurrence of all the values used as index of a row as well as column of that specific cell jointly**, in the pandas dataframe. High Frequency implies High Relative Frequency which implies High Probability. Therefore, **using the Contingency table, we can easily determine that which values of different features are co-occuring most frequently or most probably and then we can use this information to fill up missing values.**"
      ]
    },
    {
      "cell_type": "code",
      "execution_count": 29,
      "metadata": {
        "id": "uq5ziWbsCoHm"
      },
      "outputs": [],
      "source": [
        "crosstab_df_mdl_yr_mfc = pd.crosstab(data[\"model\"],\n",
        " [data[\"year\"],data[\"manufacturer\"]],rownames=[\"model\"],\n",
        "                                     colnames=[\"year\",\"manufacturer\"])"
      ]
    },
    {
      "cell_type": "markdown",
      "metadata": {
        "id": "9hQQ-eNDPC2t"
      },
      "source": [
        "###In the code snippet above, we have created a **Contingency table with rows as different Models of used cars and columns as different years as well as manufacturers of used cars, jointly.** Let's understand this with the help of an example."
      ]
    },
    {
      "cell_type": "code",
      "execution_count": 30,
      "metadata": {
        "colab": {
          "base_uri": "https://localhost:8080/",
          "height": 523
        },
        "id": "0u_lrpIBM4Xc",
        "outputId": "9c4a2d25-5b13-462d-c005-3d2046b59af7"
      },
      "outputs": [
        {
          "output_type": "execute_result",
          "data": {
            "text/plain": [
              "year          1900.0 1901.0    1905.0   1913.0      1918.0 1920.0 1923.0  \\\n",
              "manufacturer   acura   ford chevrolet cadillac ford   ford   ford   ford   \n",
              "model                                                                      \n",
              "\"t\"                0      0         0        0    1      0      0      0   \n",
              "%                  0      0         0        0    0      0      0      0   \n",
              "& altima           0      0         0        0    0      0      0      0   \n",
              "'99 H1 Hummer      0      0         0        0    0      0      0      0   \n",
              "(210)              0      0         0        0    0      0      0      0   \n",
              "...              ...    ...       ...      ...  ...    ...    ...    ...   \n",
              "zl1 camaro         0      0         0        0    0      0      0      0   \n",
              "zr2 sonoma         0      0         0        0    0      0      0      0   \n",
              "zx2                0      0         0        0    0      0      0      0   \n",
              "♿                  0      0         0        0    0      0      0      0   \n",
              "♿ vmi              0      0         0        0    0      0      0      0   \n",
              "\n",
              "year          1924.0       ... 2021.0                                       \\\n",
              "manufacturer   dodge ford  ...    ram rover subaru toyota volkswagen volvo   \n",
              "model                      ...                                               \n",
              "\"t\"                0    0  ...      0     0      0      0          0     0   \n",
              "%                  0    0  ...      0     0      0      0          0     0   \n",
              "& altima           0    0  ...      0     0      0      0          0     0   \n",
              "'99 H1 Hummer      0    0  ...      0     0      0      0          0     0   \n",
              "(210)              0    0  ...      0     0      0      0          0     0   \n",
              "...              ...  ...  ...    ...   ...    ...    ...        ...   ...   \n",
              "zl1 camaro         0    0  ...      0     0      0      0          0     0   \n",
              "zr2 sonoma         0    0  ...      0     0      0      0          0     0   \n",
              "zx2                0    0  ...      0     0      0      0          0     0   \n",
              "♿                  0    0  ...      0     0      0      0          0     0   \n",
              "♿ vmi              0    0  ...      0     0      0      0          0     0   \n",
              "\n",
              "year             2022.0                         \n",
              "manufacturer  chevrolet ford mitsubishi toyota  \n",
              "model                                           \n",
              "\"t\"                   0    0          0      0  \n",
              "%                     0    0          0      0  \n",
              "& altima              0    0          0      0  \n",
              "'99 H1 Hummer         0    0          0      0  \n",
              "(210)                 0    0          0      0  \n",
              "...                 ...  ...        ...    ...  \n",
              "zl1 camaro            0    0          0      0  \n",
              "zr2 sonoma            0    0          0      0  \n",
              "zx2                   0    0          0      0  \n",
              "♿                     0    0          0      0  \n",
              "♿ vmi                 0    0          0      0  \n",
              "\n",
              "[14487 rows x 1708 columns]"
            ],
            "text/html": [
              "\n",
              "  <div id=\"df-64c043b4-500f-462a-8655-72921f774c92\" class=\"colab-df-container\">\n",
              "    <div>\n",
              "<style scoped>\n",
              "    .dataframe tbody tr th:only-of-type {\n",
              "        vertical-align: middle;\n",
              "    }\n",
              "\n",
              "    .dataframe tbody tr th {\n",
              "        vertical-align: top;\n",
              "    }\n",
              "\n",
              "    .dataframe thead tr th {\n",
              "        text-align: left;\n",
              "    }\n",
              "\n",
              "    .dataframe thead tr:last-of-type th {\n",
              "        text-align: right;\n",
              "    }\n",
              "</style>\n",
              "<table border=\"1\" class=\"dataframe\">\n",
              "  <thead>\n",
              "    <tr>\n",
              "      <th>year</th>\n",
              "      <th>1900.0</th>\n",
              "      <th>1901.0</th>\n",
              "      <th>1905.0</th>\n",
              "      <th colspan=\"2\" halign=\"left\">1913.0</th>\n",
              "      <th>1918.0</th>\n",
              "      <th>1920.0</th>\n",
              "      <th>1923.0</th>\n",
              "      <th colspan=\"2\" halign=\"left\">1924.0</th>\n",
              "      <th>...</th>\n",
              "      <th colspan=\"6\" halign=\"left\">2021.0</th>\n",
              "      <th colspan=\"4\" halign=\"left\">2022.0</th>\n",
              "    </tr>\n",
              "    <tr>\n",
              "      <th>manufacturer</th>\n",
              "      <th>acura</th>\n",
              "      <th>ford</th>\n",
              "      <th>chevrolet</th>\n",
              "      <th>cadillac</th>\n",
              "      <th>ford</th>\n",
              "      <th>ford</th>\n",
              "      <th>ford</th>\n",
              "      <th>ford</th>\n",
              "      <th>dodge</th>\n",
              "      <th>ford</th>\n",
              "      <th>...</th>\n",
              "      <th>ram</th>\n",
              "      <th>rover</th>\n",
              "      <th>subaru</th>\n",
              "      <th>toyota</th>\n",
              "      <th>volkswagen</th>\n",
              "      <th>volvo</th>\n",
              "      <th>chevrolet</th>\n",
              "      <th>ford</th>\n",
              "      <th>mitsubishi</th>\n",
              "      <th>toyota</th>\n",
              "    </tr>\n",
              "    <tr>\n",
              "      <th>model</th>\n",
              "      <th></th>\n",
              "      <th></th>\n",
              "      <th></th>\n",
              "      <th></th>\n",
              "      <th></th>\n",
              "      <th></th>\n",
              "      <th></th>\n",
              "      <th></th>\n",
              "      <th></th>\n",
              "      <th></th>\n",
              "      <th></th>\n",
              "      <th></th>\n",
              "      <th></th>\n",
              "      <th></th>\n",
              "      <th></th>\n",
              "      <th></th>\n",
              "      <th></th>\n",
              "      <th></th>\n",
              "      <th></th>\n",
              "      <th></th>\n",
              "      <th></th>\n",
              "    </tr>\n",
              "  </thead>\n",
              "  <tbody>\n",
              "    <tr>\n",
              "      <th>\"t\"</th>\n",
              "      <td>0</td>\n",
              "      <td>0</td>\n",
              "      <td>0</td>\n",
              "      <td>0</td>\n",
              "      <td>1</td>\n",
              "      <td>0</td>\n",
              "      <td>0</td>\n",
              "      <td>0</td>\n",
              "      <td>0</td>\n",
              "      <td>0</td>\n",
              "      <td>...</td>\n",
              "      <td>0</td>\n",
              "      <td>0</td>\n",
              "      <td>0</td>\n",
              "      <td>0</td>\n",
              "      <td>0</td>\n",
              "      <td>0</td>\n",
              "      <td>0</td>\n",
              "      <td>0</td>\n",
              "      <td>0</td>\n",
              "      <td>0</td>\n",
              "    </tr>\n",
              "    <tr>\n",
              "      <th>%</th>\n",
              "      <td>0</td>\n",
              "      <td>0</td>\n",
              "      <td>0</td>\n",
              "      <td>0</td>\n",
              "      <td>0</td>\n",
              "      <td>0</td>\n",
              "      <td>0</td>\n",
              "      <td>0</td>\n",
              "      <td>0</td>\n",
              "      <td>0</td>\n",
              "      <td>...</td>\n",
              "      <td>0</td>\n",
              "      <td>0</td>\n",
              "      <td>0</td>\n",
              "      <td>0</td>\n",
              "      <td>0</td>\n",
              "      <td>0</td>\n",
              "      <td>0</td>\n",
              "      <td>0</td>\n",
              "      <td>0</td>\n",
              "      <td>0</td>\n",
              "    </tr>\n",
              "    <tr>\n",
              "      <th>&amp; altima</th>\n",
              "      <td>0</td>\n",
              "      <td>0</td>\n",
              "      <td>0</td>\n",
              "      <td>0</td>\n",
              "      <td>0</td>\n",
              "      <td>0</td>\n",
              "      <td>0</td>\n",
              "      <td>0</td>\n",
              "      <td>0</td>\n",
              "      <td>0</td>\n",
              "      <td>...</td>\n",
              "      <td>0</td>\n",
              "      <td>0</td>\n",
              "      <td>0</td>\n",
              "      <td>0</td>\n",
              "      <td>0</td>\n",
              "      <td>0</td>\n",
              "      <td>0</td>\n",
              "      <td>0</td>\n",
              "      <td>0</td>\n",
              "      <td>0</td>\n",
              "    </tr>\n",
              "    <tr>\n",
              "      <th>'99 H1 Hummer</th>\n",
              "      <td>0</td>\n",
              "      <td>0</td>\n",
              "      <td>0</td>\n",
              "      <td>0</td>\n",
              "      <td>0</td>\n",
              "      <td>0</td>\n",
              "      <td>0</td>\n",
              "      <td>0</td>\n",
              "      <td>0</td>\n",
              "      <td>0</td>\n",
              "      <td>...</td>\n",
              "      <td>0</td>\n",
              "      <td>0</td>\n",
              "      <td>0</td>\n",
              "      <td>0</td>\n",
              "      <td>0</td>\n",
              "      <td>0</td>\n",
              "      <td>0</td>\n",
              "      <td>0</td>\n",
              "      <td>0</td>\n",
              "      <td>0</td>\n",
              "    </tr>\n",
              "    <tr>\n",
              "      <th>(210)</th>\n",
              "      <td>0</td>\n",
              "      <td>0</td>\n",
              "      <td>0</td>\n",
              "      <td>0</td>\n",
              "      <td>0</td>\n",
              "      <td>0</td>\n",
              "      <td>0</td>\n",
              "      <td>0</td>\n",
              "      <td>0</td>\n",
              "      <td>0</td>\n",
              "      <td>...</td>\n",
              "      <td>0</td>\n",
              "      <td>0</td>\n",
              "      <td>0</td>\n",
              "      <td>0</td>\n",
              "      <td>0</td>\n",
              "      <td>0</td>\n",
              "      <td>0</td>\n",
              "      <td>0</td>\n",
              "      <td>0</td>\n",
              "      <td>0</td>\n",
              "    </tr>\n",
              "    <tr>\n",
              "      <th>...</th>\n",
              "      <td>...</td>\n",
              "      <td>...</td>\n",
              "      <td>...</td>\n",
              "      <td>...</td>\n",
              "      <td>...</td>\n",
              "      <td>...</td>\n",
              "      <td>...</td>\n",
              "      <td>...</td>\n",
              "      <td>...</td>\n",
              "      <td>...</td>\n",
              "      <td>...</td>\n",
              "      <td>...</td>\n",
              "      <td>...</td>\n",
              "      <td>...</td>\n",
              "      <td>...</td>\n",
              "      <td>...</td>\n",
              "      <td>...</td>\n",
              "      <td>...</td>\n",
              "      <td>...</td>\n",
              "      <td>...</td>\n",
              "      <td>...</td>\n",
              "    </tr>\n",
              "    <tr>\n",
              "      <th>zl1 camaro</th>\n",
              "      <td>0</td>\n",
              "      <td>0</td>\n",
              "      <td>0</td>\n",
              "      <td>0</td>\n",
              "      <td>0</td>\n",
              "      <td>0</td>\n",
              "      <td>0</td>\n",
              "      <td>0</td>\n",
              "      <td>0</td>\n",
              "      <td>0</td>\n",
              "      <td>...</td>\n",
              "      <td>0</td>\n",
              "      <td>0</td>\n",
              "      <td>0</td>\n",
              "      <td>0</td>\n",
              "      <td>0</td>\n",
              "      <td>0</td>\n",
              "      <td>0</td>\n",
              "      <td>0</td>\n",
              "      <td>0</td>\n",
              "      <td>0</td>\n",
              "    </tr>\n",
              "    <tr>\n",
              "      <th>zr2 sonoma</th>\n",
              "      <td>0</td>\n",
              "      <td>0</td>\n",
              "      <td>0</td>\n",
              "      <td>0</td>\n",
              "      <td>0</td>\n",
              "      <td>0</td>\n",
              "      <td>0</td>\n",
              "      <td>0</td>\n",
              "      <td>0</td>\n",
              "      <td>0</td>\n",
              "      <td>...</td>\n",
              "      <td>0</td>\n",
              "      <td>0</td>\n",
              "      <td>0</td>\n",
              "      <td>0</td>\n",
              "      <td>0</td>\n",
              "      <td>0</td>\n",
              "      <td>0</td>\n",
              "      <td>0</td>\n",
              "      <td>0</td>\n",
              "      <td>0</td>\n",
              "    </tr>\n",
              "    <tr>\n",
              "      <th>zx2</th>\n",
              "      <td>0</td>\n",
              "      <td>0</td>\n",
              "      <td>0</td>\n",
              "      <td>0</td>\n",
              "      <td>0</td>\n",
              "      <td>0</td>\n",
              "      <td>0</td>\n",
              "      <td>0</td>\n",
              "      <td>0</td>\n",
              "      <td>0</td>\n",
              "      <td>...</td>\n",
              "      <td>0</td>\n",
              "      <td>0</td>\n",
              "      <td>0</td>\n",
              "      <td>0</td>\n",
              "      <td>0</td>\n",
              "      <td>0</td>\n",
              "      <td>0</td>\n",
              "      <td>0</td>\n",
              "      <td>0</td>\n",
              "      <td>0</td>\n",
              "    </tr>\n",
              "    <tr>\n",
              "      <th>♿</th>\n",
              "      <td>0</td>\n",
              "      <td>0</td>\n",
              "      <td>0</td>\n",
              "      <td>0</td>\n",
              "      <td>0</td>\n",
              "      <td>0</td>\n",
              "      <td>0</td>\n",
              "      <td>0</td>\n",
              "      <td>0</td>\n",
              "      <td>0</td>\n",
              "      <td>...</td>\n",
              "      <td>0</td>\n",
              "      <td>0</td>\n",
              "      <td>0</td>\n",
              "      <td>0</td>\n",
              "      <td>0</td>\n",
              "      <td>0</td>\n",
              "      <td>0</td>\n",
              "      <td>0</td>\n",
              "      <td>0</td>\n",
              "      <td>0</td>\n",
              "    </tr>\n",
              "    <tr>\n",
              "      <th>♿ vmi</th>\n",
              "      <td>0</td>\n",
              "      <td>0</td>\n",
              "      <td>0</td>\n",
              "      <td>0</td>\n",
              "      <td>0</td>\n",
              "      <td>0</td>\n",
              "      <td>0</td>\n",
              "      <td>0</td>\n",
              "      <td>0</td>\n",
              "      <td>0</td>\n",
              "      <td>...</td>\n",
              "      <td>0</td>\n",
              "      <td>0</td>\n",
              "      <td>0</td>\n",
              "      <td>0</td>\n",
              "      <td>0</td>\n",
              "      <td>0</td>\n",
              "      <td>0</td>\n",
              "      <td>0</td>\n",
              "      <td>0</td>\n",
              "      <td>0</td>\n",
              "    </tr>\n",
              "  </tbody>\n",
              "</table>\n",
              "<p>14487 rows × 1708 columns</p>\n",
              "</div>\n",
              "    <div class=\"colab-df-buttons\">\n",
              "\n",
              "  <div class=\"colab-df-container\">\n",
              "    <button class=\"colab-df-convert\" onclick=\"convertToInteractive('df-64c043b4-500f-462a-8655-72921f774c92')\"\n",
              "            title=\"Convert this dataframe to an interactive table.\"\n",
              "            style=\"display:none;\">\n",
              "\n",
              "  <svg xmlns=\"http://www.w3.org/2000/svg\" height=\"24px\" viewBox=\"0 -960 960 960\">\n",
              "    <path d=\"M120-120v-720h720v720H120Zm60-500h600v-160H180v160Zm220 220h160v-160H400v160Zm0 220h160v-160H400v160ZM180-400h160v-160H180v160Zm440 0h160v-160H620v160ZM180-180h160v-160H180v160Zm440 0h160v-160H620v160Z\"/>\n",
              "  </svg>\n",
              "    </button>\n",
              "\n",
              "  <style>\n",
              "    .colab-df-container {\n",
              "      display:flex;\n",
              "      gap: 12px;\n",
              "    }\n",
              "\n",
              "    .colab-df-convert {\n",
              "      background-color: #E8F0FE;\n",
              "      border: none;\n",
              "      border-radius: 50%;\n",
              "      cursor: pointer;\n",
              "      display: none;\n",
              "      fill: #1967D2;\n",
              "      height: 32px;\n",
              "      padding: 0 0 0 0;\n",
              "      width: 32px;\n",
              "    }\n",
              "\n",
              "    .colab-df-convert:hover {\n",
              "      background-color: #E2EBFA;\n",
              "      box-shadow: 0px 1px 2px rgba(60, 64, 67, 0.3), 0px 1px 3px 1px rgba(60, 64, 67, 0.15);\n",
              "      fill: #174EA6;\n",
              "    }\n",
              "\n",
              "    .colab-df-buttons div {\n",
              "      margin-bottom: 4px;\n",
              "    }\n",
              "\n",
              "    [theme=dark] .colab-df-convert {\n",
              "      background-color: #3B4455;\n",
              "      fill: #D2E3FC;\n",
              "    }\n",
              "\n",
              "    [theme=dark] .colab-df-convert:hover {\n",
              "      background-color: #434B5C;\n",
              "      box-shadow: 0px 1px 3px 1px rgba(0, 0, 0, 0.15);\n",
              "      filter: drop-shadow(0px 1px 2px rgba(0, 0, 0, 0.3));\n",
              "      fill: #FFFFFF;\n",
              "    }\n",
              "  </style>\n",
              "\n",
              "    <script>\n",
              "      const buttonEl =\n",
              "        document.querySelector('#df-64c043b4-500f-462a-8655-72921f774c92 button.colab-df-convert');\n",
              "      buttonEl.style.display =\n",
              "        google.colab.kernel.accessAllowed ? 'block' : 'none';\n",
              "\n",
              "      async function convertToInteractive(key) {\n",
              "        const element = document.querySelector('#df-64c043b4-500f-462a-8655-72921f774c92');\n",
              "        const dataTable =\n",
              "          await google.colab.kernel.invokeFunction('convertToInteractive',\n",
              "                                                    [key], {});\n",
              "        if (!dataTable) return;\n",
              "\n",
              "        const docLinkHtml = 'Like what you see? Visit the ' +\n",
              "          '<a target=\"_blank\" href=https://colab.research.google.com/notebooks/data_table.ipynb>data table notebook</a>'\n",
              "          + ' to learn more about interactive tables.';\n",
              "        element.innerHTML = '';\n",
              "        dataTable['output_type'] = 'display_data';\n",
              "        await google.colab.output.renderOutput(dataTable, element);\n",
              "        const docLink = document.createElement('div');\n",
              "        docLink.innerHTML = docLinkHtml;\n",
              "        element.appendChild(docLink);\n",
              "      }\n",
              "    </script>\n",
              "  </div>\n",
              "\n",
              "\n",
              "<div id=\"df-46168098-53c5-4e98-8e02-cfff20448fc7\">\n",
              "  <button class=\"colab-df-quickchart\" onclick=\"quickchart('df-46168098-53c5-4e98-8e02-cfff20448fc7')\"\n",
              "            title=\"Suggest charts\"\n",
              "            style=\"display:none;\">\n",
              "\n",
              "<svg xmlns=\"http://www.w3.org/2000/svg\" height=\"24px\"viewBox=\"0 0 24 24\"\n",
              "     width=\"24px\">\n",
              "    <g>\n",
              "        <path d=\"M19 3H5c-1.1 0-2 .9-2 2v14c0 1.1.9 2 2 2h14c1.1 0 2-.9 2-2V5c0-1.1-.9-2-2-2zM9 17H7v-7h2v7zm4 0h-2V7h2v10zm4 0h-2v-4h2v4z\"/>\n",
              "    </g>\n",
              "</svg>\n",
              "  </button>\n",
              "\n",
              "<style>\n",
              "  .colab-df-quickchart {\n",
              "      --bg-color: #E8F0FE;\n",
              "      --fill-color: #1967D2;\n",
              "      --hover-bg-color: #E2EBFA;\n",
              "      --hover-fill-color: #174EA6;\n",
              "      --disabled-fill-color: #AAA;\n",
              "      --disabled-bg-color: #DDD;\n",
              "  }\n",
              "\n",
              "  [theme=dark] .colab-df-quickchart {\n",
              "      --bg-color: #3B4455;\n",
              "      --fill-color: #D2E3FC;\n",
              "      --hover-bg-color: #434B5C;\n",
              "      --hover-fill-color: #FFFFFF;\n",
              "      --disabled-bg-color: #3B4455;\n",
              "      --disabled-fill-color: #666;\n",
              "  }\n",
              "\n",
              "  .colab-df-quickchart {\n",
              "    background-color: var(--bg-color);\n",
              "    border: none;\n",
              "    border-radius: 50%;\n",
              "    cursor: pointer;\n",
              "    display: none;\n",
              "    fill: var(--fill-color);\n",
              "    height: 32px;\n",
              "    padding: 0;\n",
              "    width: 32px;\n",
              "  }\n",
              "\n",
              "  .colab-df-quickchart:hover {\n",
              "    background-color: var(--hover-bg-color);\n",
              "    box-shadow: 0 1px 2px rgba(60, 64, 67, 0.3), 0 1px 3px 1px rgba(60, 64, 67, 0.15);\n",
              "    fill: var(--button-hover-fill-color);\n",
              "  }\n",
              "\n",
              "  .colab-df-quickchart-complete:disabled,\n",
              "  .colab-df-quickchart-complete:disabled:hover {\n",
              "    background-color: var(--disabled-bg-color);\n",
              "    fill: var(--disabled-fill-color);\n",
              "    box-shadow: none;\n",
              "  }\n",
              "\n",
              "  .colab-df-spinner {\n",
              "    border: 2px solid var(--fill-color);\n",
              "    border-color: transparent;\n",
              "    border-bottom-color: var(--fill-color);\n",
              "    animation:\n",
              "      spin 1s steps(1) infinite;\n",
              "  }\n",
              "\n",
              "  @keyframes spin {\n",
              "    0% {\n",
              "      border-color: transparent;\n",
              "      border-bottom-color: var(--fill-color);\n",
              "      border-left-color: var(--fill-color);\n",
              "    }\n",
              "    20% {\n",
              "      border-color: transparent;\n",
              "      border-left-color: var(--fill-color);\n",
              "      border-top-color: var(--fill-color);\n",
              "    }\n",
              "    30% {\n",
              "      border-color: transparent;\n",
              "      border-left-color: var(--fill-color);\n",
              "      border-top-color: var(--fill-color);\n",
              "      border-right-color: var(--fill-color);\n",
              "    }\n",
              "    40% {\n",
              "      border-color: transparent;\n",
              "      border-right-color: var(--fill-color);\n",
              "      border-top-color: var(--fill-color);\n",
              "    }\n",
              "    60% {\n",
              "      border-color: transparent;\n",
              "      border-right-color: var(--fill-color);\n",
              "    }\n",
              "    80% {\n",
              "      border-color: transparent;\n",
              "      border-right-color: var(--fill-color);\n",
              "      border-bottom-color: var(--fill-color);\n",
              "    }\n",
              "    90% {\n",
              "      border-color: transparent;\n",
              "      border-bottom-color: var(--fill-color);\n",
              "    }\n",
              "  }\n",
              "</style>\n",
              "\n",
              "  <script>\n",
              "    async function quickchart(key) {\n",
              "      const quickchartButtonEl =\n",
              "        document.querySelector('#' + key + ' button');\n",
              "      quickchartButtonEl.disabled = true;  // To prevent multiple clicks.\n",
              "      quickchartButtonEl.classList.add('colab-df-spinner');\n",
              "      try {\n",
              "        const charts = await google.colab.kernel.invokeFunction(\n",
              "            'suggestCharts', [key], {});\n",
              "      } catch (error) {\n",
              "        console.error('Error during call to suggestCharts:', error);\n",
              "      }\n",
              "      quickchartButtonEl.classList.remove('colab-df-spinner');\n",
              "      quickchartButtonEl.classList.add('colab-df-quickchart-complete');\n",
              "    }\n",
              "    (() => {\n",
              "      let quickchartButtonEl =\n",
              "        document.querySelector('#df-46168098-53c5-4e98-8e02-cfff20448fc7 button');\n",
              "      quickchartButtonEl.style.display =\n",
              "        google.colab.kernel.accessAllowed ? 'block' : 'none';\n",
              "    })();\n",
              "  </script>\n",
              "</div>\n",
              "    </div>\n",
              "  </div>\n"
            ],
            "application/vnd.google.colaboratory.intrinsic+json": {
              "type": "dataframe",
              "variable_name": "crosstab_df_mdl_yr_mfc"
            }
          },
          "metadata": {},
          "execution_count": 30
        }
      ],
      "source": [
        "crosstab_df_mdl_yr_mfc"
      ]
    },
    {
      "cell_type": "markdown",
      "metadata": {
        "id": "GWL_Mfw6OSfy"
      },
      "source": [
        "#Each entry in a cell shows a Frequency or Count, as shown above."
      ]
    },
    {
      "cell_type": "markdown",
      "metadata": {
        "id": "_s4ffO27oRna"
      },
      "source": [
        "#**Let's try to determine that ```if (data[\"year\"] == 2022) and (data[\"manufacturer\"] == \"toyota\")``` then what will be the most probable or most frequent ```model```.**"
      ]
    },
    {
      "cell_type": "code",
      "execution_count": 31,
      "metadata": {
        "colab": {
          "base_uri": "https://localhost:8080/"
        },
        "id": "njU7jKVfl-65",
        "outputId": "c2f3779e-413e-45c5-bf18-5138a0abd9fc"
      },
      "outputs": [
        {
          "output_type": "execute_result",
          "data": {
            "text/plain": [
              "(2022.0, 'toyota')"
            ]
          },
          "metadata": {},
          "execution_count": 31
        }
      ],
      "source": [
        "crosstab_df_mdl_yr_mfc.columns[-1]"
      ]
    },
    {
      "cell_type": "markdown",
      "metadata": {
        "id": "rSlKW_PDpajJ"
      },
      "source": [
        "#**Let's first try to determine the Frequency Distribution over different ```model```s based on the condition that ```(data[\"year\"] == 2022) and (data[\"manufacturer\"] == \"toyota\")```.**  "
      ]
    },
    {
      "cell_type": "markdown",
      "metadata": {
        "id": "_lcdNrjCqZjj"
      },
      "source": [
        "#**In mathematical terms, we are trying to determine $F($ ```model```|(```year = 2022``` $\\cap$ ```manufacturer = \"toyota\"```)$)$**"
      ]
    },
    {
      "cell_type": "markdown",
      "metadata": {
        "id": "uJnB6qcHruki"
      },
      "source": [
        "#**And the frequency distribution, $F($ ```model```|(```year = 2022``` $\\cap$ ```manufacturer = \"toyota\"```)$)$ is:**"
      ]
    },
    {
      "cell_type": "code",
      "execution_count": 32,
      "metadata": {
        "id": "VwMEIvbBmbGh"
      },
      "outputs": [],
      "source": [
        "freq_dist = crosstab_df_mdl_yr_mfc[crosstab_df_mdl_yr_mfc.columns[-1]]"
      ]
    },
    {
      "cell_type": "code",
      "execution_count": 33,
      "metadata": {
        "colab": {
          "base_uri": "https://localhost:8080/"
        },
        "id": "LXhLZPuAssj0",
        "outputId": "03c2315a-a4b3-4904-ef64-c5c90b07a571"
      },
      "outputs": [
        {
          "output_type": "execute_result",
          "data": {
            "text/plain": [
              "model\n",
              "\"t\"              0\n",
              "%                0\n",
              "& altima         0\n",
              "'99 H1 Hummer    0\n",
              "(210)            0\n",
              "                ..\n",
              "zl1 camaro       0\n",
              "zr2 sonoma       0\n",
              "zx2              0\n",
              "♿                0\n",
              "♿ vmi            0\n",
              "Name: (2022.0, toyota), Length: 14487, dtype: int64"
            ]
          },
          "metadata": {},
          "execution_count": 33
        }
      ],
      "source": [
        "freq_dist"
      ]
    },
    {
      "cell_type": "markdown",
      "metadata": {
        "id": "JexK9bTMubBQ"
      },
      "source": [
        "###Now, let's try to determine that **out of all the models, which model has got the highest frequency or most frequent or most probable.**"
      ]
    },
    {
      "cell_type": "code",
      "execution_count": 34,
      "metadata": {
        "colab": {
          "base_uri": "https://localhost:8080/",
          "height": 35
        },
        "id": "f7Y34RbSrniY",
        "outputId": "6a369d51-ef0a-445b-ccc1-c2c6318613a6"
      },
      "outputs": [
        {
          "output_type": "execute_result",
          "data": {
            "text/plain": [
              "'mighty max'"
            ],
            "application/vnd.google.colaboratory.intrinsic+json": {
              "type": "string"
            }
          },
          "metadata": {},
          "execution_count": 34
        }
      ],
      "source": [
        "freq_dist.index[freq_dist.argmax()]"
      ]
    },
    {
      "cell_type": "markdown",
      "metadata": {
        "id": "D1IFYAj_vMGE"
      },
      "source": [
        "###Therefore, we can conclude that, **$F($ ```model = \"mighty max\"```|(```year = 2022``` $\\cap$ ```manufacturer = \"toyota\"```)$)$ is highest among all the other Frequencies.** Therefore, **everytime in our data whenever in any row, ```(year == 2022) and (manufacturer == \"toyota\")``` and if missing value is there in the ```model``` of that row then we are going to fill up that missing value with ```\"mighty max\"```.**"
      ]
    },
    {
      "cell_type": "markdown",
      "metadata": {
        "id": "na1e9Zt_2jQm"
      },
      "source": [
        "###**Note:** Actually we are computing $F($ ```model = \"mighty max\"``` $\\cap$ ```year = 2022``` $\\cap$ ```manufacturer = \"toyota\"```$)$ instead of computing $F($ ```model = \"mighty max\"```|(```year = 2022``` $\\cap$ ```manufacturer = \"toyota\"```)$)$ because from the equation of Conditional Probability, we know that:\n",
        "\n",
        "\\begin{equation}\n",
        "P(A|B) = \\frac{P(A \\cap B)}{P(B)}\n",
        "\\end{equation}"
      ]
    },
    {
      "cell_type": "markdown",
      "metadata": {
        "id": "Y3FX5J_q4SxU"
      },
      "source": [
        "###Following on the same definition of the Conditional Probability, we can say that:\n",
        "\n",
        "#$P(\\text{model} | \\text{year} \\cap \\text{manufacturer}) = \\frac{P(\\text{model} \\cap \\text{year} \\cap \\text{manufacturer})}{P(\\text{year} \\cap \\text{manufacturer})}$"
      ]
    },
    {
      "cell_type": "markdown",
      "metadata": {
        "id": "SSqRrxvE7eHq"
      },
      "source": [
        "###But the fact is that, **$P(\\text{year} \\cap \\text{manufacturer})$ remains constant** and therefore:"
      ]
    },
    {
      "cell_type": "markdown",
      "metadata": {
        "id": "LJvZs6Zt8xfa"
      },
      "source": [
        "$P(\\text{model} | \\text{year} \\cap \\text{manufacturer}) ∝ P(\\text{model} \\cap \\text{year} \\cap \\text{manufacturer})$"
      ]
    },
    {
      "cell_type": "markdown",
      "metadata": {
        "id": "-e9GRFqx86xm"
      },
      "source": [
        "#OR"
      ]
    },
    {
      "cell_type": "markdown",
      "metadata": {
        "id": "U9sJzoz79BqB"
      },
      "source": [
        "$F(\\text{model} | \\text{year} \\cap \\text{manufacturer}) ∝ F(\\text{model} \\cap \\text{year} \\cap \\text{manufacturer})$"
      ]
    },
    {
      "cell_type": "markdown",
      "metadata": {
        "id": "W_KiJE9N9IxN"
      },
      "source": [
        "###**Therefore, whether we compute the highest $F(\\text{model} | \\text{year} \\cap \\text{manufacturer})$ or $F(\\text{model} \\cap \\text{year} \\cap \\text{manufacturer})$, it's the same thing, we will get the same value of ```model``` for ```year``` $\\cap$ ```manufacturer```.**"
      ]
    },
    {
      "cell_type": "markdown",
      "metadata": {
        "id": "6PqrIC539q-g"
      },
      "source": [
        "###**And, it's easier to compute $F(\\text{model} \\cap \\text{year} \\cap \\text{manufacturer})$ rather than computing $F(\\text{model} | \\text{year} \\cap \\text{manufacturer})$, therefore we decided to compute $F(\\text{model} \\cap \\text{year} \\cap \\text{manufacturer})$**"
      ]
    },
    {
      "cell_type": "markdown",
      "metadata": {
        "id": "5BjExQGTwxRL"
      },
      "source": [
        "###In a similar way **we can determine the highest occurring ```model``` for the combination of each ```year``` as well as ```manufacturer```, that is ```(year``` $\\cap$ ```manufacturer)```**"
      ]
    },
    {
      "cell_type": "code",
      "execution_count": 35,
      "metadata": {
        "id": "0LclX7BdDM6J"
      },
      "outputs": [],
      "source": [
        "mapping_dict = dict()\n",
        "\n",
        "for single_col in crosstab_df_mdl_yr_mfc.columns:\n",
        "  mapping_dict[single_col] = crosstab_df_mdl_yr_mfc[single_col].index[crosstab_df_mdl_yr_mfc[single_col].argmax()]"
      ]
    },
    {
      "cell_type": "markdown",
      "metadata": {
        "id": "nFi4F1dIxZT4"
      },
      "source": [
        "#The code snippet above is actually maintaining the dictionary of most frequent occuring ```model``` for ```(year``` $\\cap$ ```manufacturer)```"
      ]
    },
    {
      "cell_type": "code",
      "execution_count": 36,
      "metadata": {
        "id": "s72vpu7hFXNO"
      },
      "outputs": [],
      "source": [
        "for k in mapping_dict.keys():\n",
        "  boolean_mask = (data[\"year\"] == k[0]) & (data[\"manufacturer\"] == k[1])\n",
        "  data.loc[boolean_mask,\"model\"] = data.loc[boolean_mask,\"model\"].fillna(value=mapping_dict[k],inplace=False)"
      ]
    },
    {
      "cell_type": "markdown",
      "metadata": {
        "id": "f_D2LH-1x6db"
      },
      "source": [
        "#The code snippet above is using the dictionary maintained to fill up the missing values in the rows having specific ```year``` as well as ```manufacturer```."
      ]
    },
    {
      "cell_type": "code",
      "execution_count": 37,
      "metadata": {
        "id": "xei59aWJezzj"
      },
      "outputs": [],
      "source": [
        "data[\"model\"].fillna(value=data[\"model\"].value_counts().index[data[\"model\"].value_counts().argmax()],\n",
        "                           inplace=True)"
      ]
    },
    {
      "cell_type": "markdown",
      "metadata": {
        "id": "p-5kYVjqyS_w"
      },
      "source": [
        "#Even after filling up missing values using the dictionary, **still some missing values are left and therefore we are simply going to fill up them with the most frequently occurring ```model``` irrespective of ```(year``` $\\cap$ ```manufacturer)```**"
      ]
    },
    {
      "cell_type": "code",
      "execution_count": 38,
      "metadata": {
        "id": "QYVIjN4qjLFO"
      },
      "outputs": [],
      "source": [
        "data[\"cylinders\"].fillna(value=data[\"cylinders\"].value_counts().index[data[\"cylinders\"].value_counts().argmax()],\n",
        "                           inplace=True)"
      ]
    },
    {
      "cell_type": "markdown",
      "metadata": {
        "id": "abZKM6PO0r5r"
      },
      "source": [
        "#As the **values in ```cylinder``` column usually doesn't depends upon the values in any other column and therefore, we are not going to create any kind of contingency table in this case** and simply fill up all the missing values with the most frequently occurring value."
      ]
    },
    {
      "cell_type": "code",
      "execution_count": 39,
      "metadata": {
        "id": "AY-3HPNdkmsx"
      },
      "outputs": [],
      "source": [
        "crosstab_df_type_mfc = pd.crosstab(data[\"type\"],\n",
        "                                       data[\"manufacturer\"],rownames=[\"type\"],\n",
        "                                     colnames=[\"manufacturer\"])"
      ]
    },
    {
      "cell_type": "code",
      "execution_count": 40,
      "metadata": {
        "id": "_uE0OFAFlK4l"
      },
      "outputs": [],
      "source": [
        "mapping_dict = dict()\n",
        "\n",
        "for single_col in crosstab_df_type_mfc.columns:\n",
        "  mapping_dict[single_col] = crosstab_df_type_mfc[single_col].index[crosstab_df_type_mfc[single_col].argmax()]"
      ]
    },
    {
      "cell_type": "code",
      "execution_count": 41,
      "metadata": {
        "id": "tIjxN3eolfEK"
      },
      "outputs": [],
      "source": [
        "for k in mapping_dict.keys():\n",
        "  boolean_mask = (data[\"manufacturer\"] == k)\n",
        "  data.loc[boolean_mask,\"type\"] = data.loc[boolean_mask,\"type\"].fillna(value=mapping_dict[k],inplace=False)"
      ]
    },
    {
      "cell_type": "code",
      "execution_count": 42,
      "metadata": {
        "id": "L_sZdpYio4XZ"
      },
      "outputs": [],
      "source": [
        "crosstab_df_drive_mfc_mdl = pd.crosstab(data[\"drive\"],\n",
        "                                       [data[\"manufacturer\"], data[\"model\"]],rownames=[\"drive\"],\n",
        "                                     colnames=[\"manufacturer\",\"model\"])"
      ]
    },
    {
      "cell_type": "code",
      "execution_count": 43,
      "metadata": {
        "id": "0qIc1uhHpafH"
      },
      "outputs": [],
      "source": [
        "mapping_dict = dict()\n",
        "\n",
        "for single_col in crosstab_df_drive_mfc_mdl.columns:\n",
        "  mapping_dict[single_col] = crosstab_df_drive_mfc_mdl[single_col].index[crosstab_df_drive_mfc_mdl[single_col].argmax()]"
      ]
    },
    {
      "cell_type": "code",
      "execution_count": 46,
      "metadata": {
        "id": "gm9aJfKWpu7Y"
      },
      "outputs": [],
      "source": [
        "for k in mapping_dict.keys():\n",
        "  boolean_mask = (data[\"manufacturer\"] == k[0]) & (data[\"model\"] == k[1])\n",
        "  data.loc[boolean_mask,\"drive\"] = data.loc[boolean_mask,\"drive\"].fillna(value=mapping_dict[k],inplace=False)"
      ]
    },
    {
      "cell_type": "code",
      "execution_count": 47,
      "metadata": {
        "id": "yuT6x7dZrn78"
      },
      "outputs": [],
      "source": [
        "data[\"drive\"].fillna(value=data[\"drive\"].value_counts().index[data[\"drive\"].value_counts().argmax()],\n",
        "                           inplace=True)"
      ]
    },
    {
      "cell_type": "code",
      "execution_count": 48,
      "metadata": {
        "id": "rDr0tyfnsCMa"
      },
      "outputs": [],
      "source": [
        "crosstab_df_size_mfc_mdl = pd.crosstab(data[\"size\"],\n",
        "                                       [data[\"manufacturer\"], data[\"model\"]],rownames=[\"size\"],\n",
        "                                     colnames=[\"manufacturer\",\"model\"])"
      ]
    },
    {
      "cell_type": "code",
      "execution_count": 49,
      "metadata": {
        "id": "yGrsdLnlsPpy"
      },
      "outputs": [],
      "source": [
        "mapping_dict = dict()\n",
        "\n",
        "for single_col in crosstab_df_size_mfc_mdl.columns:\n",
        "  mapping_dict[single_col] = crosstab_df_size_mfc_mdl[single_col].index[crosstab_df_size_mfc_mdl[single_col].argmax()]"
      ]
    },
    {
      "cell_type": "code",
      "execution_count": 50,
      "metadata": {
        "id": "LoiTM47asjJN"
      },
      "outputs": [],
      "source": [
        "for k in mapping_dict.keys():\n",
        "  boolean_mask = (data[\"manufacturer\"] == k[0]) & (data[\"model\"] == k[1])\n",
        "  data.loc[boolean_mask,\"size\"] = data.loc[boolean_mask,\"size\"].fillna(value=mapping_dict[k],inplace=False)"
      ]
    },
    {
      "cell_type": "code",
      "execution_count": 51,
      "metadata": {
        "id": "b-C2faEyuVS9"
      },
      "outputs": [],
      "source": [
        "data[\"size\"].fillna(value=data[\"size\"].value_counts().index[data[\"size\"].value_counts().argmax()],\n",
        "                           inplace=True)"
      ]
    },
    {
      "cell_type": "markdown",
      "metadata": {
        "id": "-gmNoM_bzPY7"
      },
      "source": [
        "###In the code snippets above, **we are filling up the missing values in:**\n",
        "\n",
        "1. ```type``` column based on ```manufacturer``` by creating their contingency table.\n",
        "\n",
        "2. ```drive``` column based on ```(manufacturer``` $\\cap$ ```model)``` by creating their contingency table.\n",
        "\n",
        "3. ```size``` column based on ```(manufacturer``` $\\cap$ ```model)``` by creating their contingency table."
      ]
    },
    {
      "cell_type": "code",
      "execution_count": 52,
      "metadata": {
        "colab": {
          "base_uri": "https://localhost:8080/"
        },
        "id": "wUsRp-fwv7dH",
        "outputId": "71252c99-7916-41dd-db71-b5c097de21c2"
      },
      "outputs": [
        {
          "output_type": "execute_result",
          "data": {
            "text/plain": [
              "price           0\n",
              "year            0\n",
              "manufacturer    0\n",
              "model           0\n",
              "condition       0\n",
              "cylinders       0\n",
              "fuel            0\n",
              "odometer        0\n",
              "transmission    0\n",
              "drive           0\n",
              "size            0\n",
              "type            0\n",
              "paint_color     0\n",
              "dtype: int64"
            ]
          },
          "metadata": {},
          "execution_count": 52
        }
      ],
      "source": [
        "data.isna().sum()"
      ]
    },
    {
      "cell_type": "markdown",
      "metadata": {
        "id": "1N-UfwRb1DfC"
      },
      "source": [
        "#As we can see above that we are not left with any missing values in any column."
      ]
    },
    {
      "cell_type": "markdown",
      "metadata": {
        "id": "AIuk1PKx1Ovw"
      },
      "source": [
        "#Finally, let's write the cleaned data into another ```.csv``` file **so that for training the Linear Regression model, we can directly read this file, ignoring to repeat all the above steps which we did before to clean the data.**"
      ]
    },
    {
      "cell_type": "code",
      "execution_count": 53,
      "metadata": {
        "id": "E5lVt6yAueQi"
      },
      "outputs": [],
      "source": [
        "data.to_csv(\"/content/cleaned_vehicles.csv\")"
      ]
    },
    {
      "cell_type": "markdown",
      "metadata": {
        "id": "icR6PADR1sC_"
      },
      "source": [
        "#Now, **let's copy this file to the google drive** so that it can be retained anytime whenever needed."
      ]
    },
    {
      "cell_type": "code",
      "execution_count": 54,
      "metadata": {
        "colab": {
          "base_uri": "https://localhost:8080/"
        },
        "id": "sKUMKMl1unPH",
        "outputId": "02f96efe-e228-4175-8207-1bafa5ef6a4f"
      },
      "outputs": [
        {
          "output_type": "stream",
          "name": "stdout",
          "text": [
            "cp: cannot create regular file '/content/drive/MyDrive/': No such file or directory\n"
          ]
        }
      ],
      "source": [
        "!cp /content/cleaned_vehicles.csv /content/drive/MyDrive/"
      ]
    },
    {
      "cell_type": "markdown",
      "metadata": {
        "id": "vJ8cMgj5sGA_"
      },
      "source": [
        "##Let's copy the file of the cleaned data from google drive back into the local drive and **encode categorical values either into integers or One Hot Encoding.**"
      ]
    },
    {
      "cell_type": "code",
      "execution_count": 55,
      "metadata": {
        "id": "Utc6OJVIhvXn"
      },
      "outputs": [],
      "source": [
        "import pandas as pd\n",
        "import numpy as np\n",
        "import matplotlib.pyplot as plt\n",
        "import seaborn as sns\n",
        "from sklearn.preprocessing import PolynomialFeatures"
      ]
    },
    {
      "cell_type": "code",
      "execution_count": 56,
      "metadata": {
        "colab": {
          "base_uri": "https://localhost:8080/"
        },
        "id": "eKJNnyItvSIZ",
        "outputId": "14c5df65-b271-4106-fd41-425256a96ab3"
      },
      "outputs": [
        {
          "output_type": "stream",
          "name": "stdout",
          "text": [
            "cp: cannot stat '/content/drive/MyDrive/cleaned_vehicles.csv': No such file or directory\n"
          ]
        }
      ],
      "source": [
        "!cp /content/drive/MyDrive/cleaned_vehicles.csv /content"
      ]
    },
    {
      "cell_type": "code",
      "execution_count": 57,
      "metadata": {
        "id": "BeJ1iK6xtpI1"
      },
      "outputs": [],
      "source": [
        "data = pd.read_csv(\"/content/cleaned_vehicles.csv\")"
      ]
    },
    {
      "cell_type": "code",
      "execution_count": 58,
      "metadata": {
        "id": "VHrTlEuIt0eL"
      },
      "outputs": [],
      "source": [
        "data = data.iloc[:,1:]"
      ]
    },
    {
      "cell_type": "code",
      "execution_count": 59,
      "metadata": {
        "colab": {
          "base_uri": "https://localhost:8080/",
          "height": 206
        },
        "id": "9r3vsowht3JM",
        "outputId": "cfc16150-08fc-46ec-ec1c-eddc9728f658"
      },
      "outputs": [
        {
          "output_type": "execute_result",
          "data": {
            "text/plain": [
              "   price    year manufacturer                        model  condition  \\\n",
              "0  15000  2013.0         ford                    f-150 xlt  excellent   \n",
              "1  27990  2012.0          gmc  sierra 2500 hd extended cab       good   \n",
              "2  34590  2016.0    chevrolet        silverado 1500 double       good   \n",
              "3  35000  2019.0       toyota                       tacoma  excellent   \n",
              "4  29990  2016.0    chevrolet        colorado extended cab       good   \n",
              "\n",
              "     cylinders fuel  odometer transmission drive       size    type  \\\n",
              "0  6 cylinders  gas  128000.0    automatic   rwd  full-size   truck   \n",
              "1  8 cylinders  gas   68696.0        other   4wd  full-size  pickup   \n",
              "2  6 cylinders  gas   29499.0        other   4wd  full-size  pickup   \n",
              "3  6 cylinders  gas   43000.0    automatic   4wd   mid-size   truck   \n",
              "4  6 cylinders  gas   17302.0        other   4wd   mid-size  pickup   \n",
              "\n",
              "  paint_color  \n",
              "0       black  \n",
              "1       black  \n",
              "2      silver  \n",
              "3        grey  \n",
              "4         red  "
            ],
            "text/html": [
              "\n",
              "  <div id=\"df-05286986-4108-4848-b0cf-2ce9d66fa35a\" class=\"colab-df-container\">\n",
              "    <div>\n",
              "<style scoped>\n",
              "    .dataframe tbody tr th:only-of-type {\n",
              "        vertical-align: middle;\n",
              "    }\n",
              "\n",
              "    .dataframe tbody tr th {\n",
              "        vertical-align: top;\n",
              "    }\n",
              "\n",
              "    .dataframe thead th {\n",
              "        text-align: right;\n",
              "    }\n",
              "</style>\n",
              "<table border=\"1\" class=\"dataframe\">\n",
              "  <thead>\n",
              "    <tr style=\"text-align: right;\">\n",
              "      <th></th>\n",
              "      <th>price</th>\n",
              "      <th>year</th>\n",
              "      <th>manufacturer</th>\n",
              "      <th>model</th>\n",
              "      <th>condition</th>\n",
              "      <th>cylinders</th>\n",
              "      <th>fuel</th>\n",
              "      <th>odometer</th>\n",
              "      <th>transmission</th>\n",
              "      <th>drive</th>\n",
              "      <th>size</th>\n",
              "      <th>type</th>\n",
              "      <th>paint_color</th>\n",
              "    </tr>\n",
              "  </thead>\n",
              "  <tbody>\n",
              "    <tr>\n",
              "      <th>0</th>\n",
              "      <td>15000</td>\n",
              "      <td>2013.0</td>\n",
              "      <td>ford</td>\n",
              "      <td>f-150 xlt</td>\n",
              "      <td>excellent</td>\n",
              "      <td>6 cylinders</td>\n",
              "      <td>gas</td>\n",
              "      <td>128000.0</td>\n",
              "      <td>automatic</td>\n",
              "      <td>rwd</td>\n",
              "      <td>full-size</td>\n",
              "      <td>truck</td>\n",
              "      <td>black</td>\n",
              "    </tr>\n",
              "    <tr>\n",
              "      <th>1</th>\n",
              "      <td>27990</td>\n",
              "      <td>2012.0</td>\n",
              "      <td>gmc</td>\n",
              "      <td>sierra 2500 hd extended cab</td>\n",
              "      <td>good</td>\n",
              "      <td>8 cylinders</td>\n",
              "      <td>gas</td>\n",
              "      <td>68696.0</td>\n",
              "      <td>other</td>\n",
              "      <td>4wd</td>\n",
              "      <td>full-size</td>\n",
              "      <td>pickup</td>\n",
              "      <td>black</td>\n",
              "    </tr>\n",
              "    <tr>\n",
              "      <th>2</th>\n",
              "      <td>34590</td>\n",
              "      <td>2016.0</td>\n",
              "      <td>chevrolet</td>\n",
              "      <td>silverado 1500 double</td>\n",
              "      <td>good</td>\n",
              "      <td>6 cylinders</td>\n",
              "      <td>gas</td>\n",
              "      <td>29499.0</td>\n",
              "      <td>other</td>\n",
              "      <td>4wd</td>\n",
              "      <td>full-size</td>\n",
              "      <td>pickup</td>\n",
              "      <td>silver</td>\n",
              "    </tr>\n",
              "    <tr>\n",
              "      <th>3</th>\n",
              "      <td>35000</td>\n",
              "      <td>2019.0</td>\n",
              "      <td>toyota</td>\n",
              "      <td>tacoma</td>\n",
              "      <td>excellent</td>\n",
              "      <td>6 cylinders</td>\n",
              "      <td>gas</td>\n",
              "      <td>43000.0</td>\n",
              "      <td>automatic</td>\n",
              "      <td>4wd</td>\n",
              "      <td>mid-size</td>\n",
              "      <td>truck</td>\n",
              "      <td>grey</td>\n",
              "    </tr>\n",
              "    <tr>\n",
              "      <th>4</th>\n",
              "      <td>29990</td>\n",
              "      <td>2016.0</td>\n",
              "      <td>chevrolet</td>\n",
              "      <td>colorado extended cab</td>\n",
              "      <td>good</td>\n",
              "      <td>6 cylinders</td>\n",
              "      <td>gas</td>\n",
              "      <td>17302.0</td>\n",
              "      <td>other</td>\n",
              "      <td>4wd</td>\n",
              "      <td>mid-size</td>\n",
              "      <td>pickup</td>\n",
              "      <td>red</td>\n",
              "    </tr>\n",
              "  </tbody>\n",
              "</table>\n",
              "</div>\n",
              "    <div class=\"colab-df-buttons\">\n",
              "\n",
              "  <div class=\"colab-df-container\">\n",
              "    <button class=\"colab-df-convert\" onclick=\"convertToInteractive('df-05286986-4108-4848-b0cf-2ce9d66fa35a')\"\n",
              "            title=\"Convert this dataframe to an interactive table.\"\n",
              "            style=\"display:none;\">\n",
              "\n",
              "  <svg xmlns=\"http://www.w3.org/2000/svg\" height=\"24px\" viewBox=\"0 -960 960 960\">\n",
              "    <path d=\"M120-120v-720h720v720H120Zm60-500h600v-160H180v160Zm220 220h160v-160H400v160Zm0 220h160v-160H400v160ZM180-400h160v-160H180v160Zm440 0h160v-160H620v160ZM180-180h160v-160H180v160Zm440 0h160v-160H620v160Z\"/>\n",
              "  </svg>\n",
              "    </button>\n",
              "\n",
              "  <style>\n",
              "    .colab-df-container {\n",
              "      display:flex;\n",
              "      gap: 12px;\n",
              "    }\n",
              "\n",
              "    .colab-df-convert {\n",
              "      background-color: #E8F0FE;\n",
              "      border: none;\n",
              "      border-radius: 50%;\n",
              "      cursor: pointer;\n",
              "      display: none;\n",
              "      fill: #1967D2;\n",
              "      height: 32px;\n",
              "      padding: 0 0 0 0;\n",
              "      width: 32px;\n",
              "    }\n",
              "\n",
              "    .colab-df-convert:hover {\n",
              "      background-color: #E2EBFA;\n",
              "      box-shadow: 0px 1px 2px rgba(60, 64, 67, 0.3), 0px 1px 3px 1px rgba(60, 64, 67, 0.15);\n",
              "      fill: #174EA6;\n",
              "    }\n",
              "\n",
              "    .colab-df-buttons div {\n",
              "      margin-bottom: 4px;\n",
              "    }\n",
              "\n",
              "    [theme=dark] .colab-df-convert {\n",
              "      background-color: #3B4455;\n",
              "      fill: #D2E3FC;\n",
              "    }\n",
              "\n",
              "    [theme=dark] .colab-df-convert:hover {\n",
              "      background-color: #434B5C;\n",
              "      box-shadow: 0px 1px 3px 1px rgba(0, 0, 0, 0.15);\n",
              "      filter: drop-shadow(0px 1px 2px rgba(0, 0, 0, 0.3));\n",
              "      fill: #FFFFFF;\n",
              "    }\n",
              "  </style>\n",
              "\n",
              "    <script>\n",
              "      const buttonEl =\n",
              "        document.querySelector('#df-05286986-4108-4848-b0cf-2ce9d66fa35a button.colab-df-convert');\n",
              "      buttonEl.style.display =\n",
              "        google.colab.kernel.accessAllowed ? 'block' : 'none';\n",
              "\n",
              "      async function convertToInteractive(key) {\n",
              "        const element = document.querySelector('#df-05286986-4108-4848-b0cf-2ce9d66fa35a');\n",
              "        const dataTable =\n",
              "          await google.colab.kernel.invokeFunction('convertToInteractive',\n",
              "                                                    [key], {});\n",
              "        if (!dataTable) return;\n",
              "\n",
              "        const docLinkHtml = 'Like what you see? Visit the ' +\n",
              "          '<a target=\"_blank\" href=https://colab.research.google.com/notebooks/data_table.ipynb>data table notebook</a>'\n",
              "          + ' to learn more about interactive tables.';\n",
              "        element.innerHTML = '';\n",
              "        dataTable['output_type'] = 'display_data';\n",
              "        await google.colab.output.renderOutput(dataTable, element);\n",
              "        const docLink = document.createElement('div');\n",
              "        docLink.innerHTML = docLinkHtml;\n",
              "        element.appendChild(docLink);\n",
              "      }\n",
              "    </script>\n",
              "  </div>\n",
              "\n",
              "\n",
              "<div id=\"df-9410fe07-6a34-4a58-aeae-89cbfc69a1c3\">\n",
              "  <button class=\"colab-df-quickchart\" onclick=\"quickchart('df-9410fe07-6a34-4a58-aeae-89cbfc69a1c3')\"\n",
              "            title=\"Suggest charts\"\n",
              "            style=\"display:none;\">\n",
              "\n",
              "<svg xmlns=\"http://www.w3.org/2000/svg\" height=\"24px\"viewBox=\"0 0 24 24\"\n",
              "     width=\"24px\">\n",
              "    <g>\n",
              "        <path d=\"M19 3H5c-1.1 0-2 .9-2 2v14c0 1.1.9 2 2 2h14c1.1 0 2-.9 2-2V5c0-1.1-.9-2-2-2zM9 17H7v-7h2v7zm4 0h-2V7h2v10zm4 0h-2v-4h2v4z\"/>\n",
              "    </g>\n",
              "</svg>\n",
              "  </button>\n",
              "\n",
              "<style>\n",
              "  .colab-df-quickchart {\n",
              "      --bg-color: #E8F0FE;\n",
              "      --fill-color: #1967D2;\n",
              "      --hover-bg-color: #E2EBFA;\n",
              "      --hover-fill-color: #174EA6;\n",
              "      --disabled-fill-color: #AAA;\n",
              "      --disabled-bg-color: #DDD;\n",
              "  }\n",
              "\n",
              "  [theme=dark] .colab-df-quickchart {\n",
              "      --bg-color: #3B4455;\n",
              "      --fill-color: #D2E3FC;\n",
              "      --hover-bg-color: #434B5C;\n",
              "      --hover-fill-color: #FFFFFF;\n",
              "      --disabled-bg-color: #3B4455;\n",
              "      --disabled-fill-color: #666;\n",
              "  }\n",
              "\n",
              "  .colab-df-quickchart {\n",
              "    background-color: var(--bg-color);\n",
              "    border: none;\n",
              "    border-radius: 50%;\n",
              "    cursor: pointer;\n",
              "    display: none;\n",
              "    fill: var(--fill-color);\n",
              "    height: 32px;\n",
              "    padding: 0;\n",
              "    width: 32px;\n",
              "  }\n",
              "\n",
              "  .colab-df-quickchart:hover {\n",
              "    background-color: var(--hover-bg-color);\n",
              "    box-shadow: 0 1px 2px rgba(60, 64, 67, 0.3), 0 1px 3px 1px rgba(60, 64, 67, 0.15);\n",
              "    fill: var(--button-hover-fill-color);\n",
              "  }\n",
              "\n",
              "  .colab-df-quickchart-complete:disabled,\n",
              "  .colab-df-quickchart-complete:disabled:hover {\n",
              "    background-color: var(--disabled-bg-color);\n",
              "    fill: var(--disabled-fill-color);\n",
              "    box-shadow: none;\n",
              "  }\n",
              "\n",
              "  .colab-df-spinner {\n",
              "    border: 2px solid var(--fill-color);\n",
              "    border-color: transparent;\n",
              "    border-bottom-color: var(--fill-color);\n",
              "    animation:\n",
              "      spin 1s steps(1) infinite;\n",
              "  }\n",
              "\n",
              "  @keyframes spin {\n",
              "    0% {\n",
              "      border-color: transparent;\n",
              "      border-bottom-color: var(--fill-color);\n",
              "      border-left-color: var(--fill-color);\n",
              "    }\n",
              "    20% {\n",
              "      border-color: transparent;\n",
              "      border-left-color: var(--fill-color);\n",
              "      border-top-color: var(--fill-color);\n",
              "    }\n",
              "    30% {\n",
              "      border-color: transparent;\n",
              "      border-left-color: var(--fill-color);\n",
              "      border-top-color: var(--fill-color);\n",
              "      border-right-color: var(--fill-color);\n",
              "    }\n",
              "    40% {\n",
              "      border-color: transparent;\n",
              "      border-right-color: var(--fill-color);\n",
              "      border-top-color: var(--fill-color);\n",
              "    }\n",
              "    60% {\n",
              "      border-color: transparent;\n",
              "      border-right-color: var(--fill-color);\n",
              "    }\n",
              "    80% {\n",
              "      border-color: transparent;\n",
              "      border-right-color: var(--fill-color);\n",
              "      border-bottom-color: var(--fill-color);\n",
              "    }\n",
              "    90% {\n",
              "      border-color: transparent;\n",
              "      border-bottom-color: var(--fill-color);\n",
              "    }\n",
              "  }\n",
              "</style>\n",
              "\n",
              "  <script>\n",
              "    async function quickchart(key) {\n",
              "      const quickchartButtonEl =\n",
              "        document.querySelector('#' + key + ' button');\n",
              "      quickchartButtonEl.disabled = true;  // To prevent multiple clicks.\n",
              "      quickchartButtonEl.classList.add('colab-df-spinner');\n",
              "      try {\n",
              "        const charts = await google.colab.kernel.invokeFunction(\n",
              "            'suggestCharts', [key], {});\n",
              "      } catch (error) {\n",
              "        console.error('Error during call to suggestCharts:', error);\n",
              "      }\n",
              "      quickchartButtonEl.classList.remove('colab-df-spinner');\n",
              "      quickchartButtonEl.classList.add('colab-df-quickchart-complete');\n",
              "    }\n",
              "    (() => {\n",
              "      let quickchartButtonEl =\n",
              "        document.querySelector('#df-9410fe07-6a34-4a58-aeae-89cbfc69a1c3 button');\n",
              "      quickchartButtonEl.style.display =\n",
              "        google.colab.kernel.accessAllowed ? 'block' : 'none';\n",
              "    })();\n",
              "  </script>\n",
              "</div>\n",
              "    </div>\n",
              "  </div>\n"
            ],
            "application/vnd.google.colaboratory.intrinsic+json": {
              "type": "dataframe",
              "variable_name": "data"
            }
          },
          "metadata": {},
          "execution_count": 59
        }
      ],
      "source": [
        "data.head()"
      ]
    },
    {
      "cell_type": "code",
      "execution_count": 60,
      "metadata": {
        "colab": {
          "base_uri": "https://localhost:8080/"
        },
        "id": "qiNyNKGkt8pv",
        "outputId": "7e4efcf0-d71b-4b96-e9f4-9357705728f0"
      },
      "outputs": [
        {
          "output_type": "execute_result",
          "data": {
            "text/plain": [
              "(144017, 13)"
            ]
          },
          "metadata": {},
          "execution_count": 60
        }
      ],
      "source": [
        "data.shape"
      ]
    },
    {
      "cell_type": "markdown",
      "metadata": {
        "id": "2dxl3DlWuVcF"
      },
      "source": [
        "#As we can see that now the cleaned data has the data of 144017 Used cars."
      ]
    },
    {
      "cell_type": "markdown",
      "metadata": {
        "id": "o-tDwyZMi_TS"
      },
      "source": [
        "#**Let's determine which columns are Categorical so that we can encode them into Integer or One Hot Encoded Values.**"
      ]
    },
    {
      "cell_type": "code",
      "execution_count": 61,
      "metadata": {
        "id": "XkW4VHc2i4kO"
      },
      "outputs": [],
      "source": [
        "categorical_columns = list()\n",
        "\n",
        "for single_column in data.columns:\n",
        "\n",
        "  if data[single_column].dtype == \"object\":\n",
        "    categorical_columns.append(single_column)"
      ]
    },
    {
      "cell_type": "code",
      "execution_count": 62,
      "metadata": {
        "colab": {
          "base_uri": "https://localhost:8080/"
        },
        "id": "pY6v786hkddV",
        "outputId": "01ef7248-4408-417f-828e-6188809562d2"
      },
      "outputs": [
        {
          "output_type": "stream",
          "name": "stdout",
          "text": [
            "['manufacturer', 'model', 'condition', 'cylinders', 'fuel', 'transmission', 'drive', 'size', 'type', 'paint_color']\n"
          ]
        }
      ],
      "source": [
        "print(categorical_columns)\n"
      ]
    },
    {
      "cell_type": "markdown",
      "metadata": {
        "id": "52t2cDtCk24i"
      },
      "source": [
        "###Let's first encode the categorical values of **all those columns which are Ordinal or their values have some Order associated with them and hence they can be compared**, such as the column of ```cylinders``` which can be compared such as ```3 cylinders``` or ```4 cylinders```. So, the following columns are Ordinal:\n",
        "\n",
        "###```condition```\n",
        "###```cylinders```\n",
        "###```transmission```\n",
        "###```drive```\n",
        "###```size```\n",
        "\n",
        "###Rest of the columns are Nominal.\n",
        "\n",
        "##Therefore, **categorical columns are of two types: Nominal (having no order associated with their values) as well as Ordinal (having some order associated with them).**\n"
      ]
    },
    {
      "cell_type": "markdown",
      "metadata": {
        "id": "Pdl1634dosd-"
      },
      "source": [
        "#**Let's encode the values of Ordinal Columns now.**"
      ]
    },
    {
      "cell_type": "markdown",
      "metadata": {
        "id": "lZmvXE7dsWmF"
      },
      "source": [
        "###But, first let us determine that what are the unique values available in all the Ordinal Columns."
      ]
    },
    {
      "cell_type": "code",
      "execution_count": 63,
      "metadata": {
        "colab": {
          "base_uri": "https://localhost:8080/"
        },
        "id": "6Ixz5cI3r065",
        "outputId": "bd58f4b7-b51c-451b-f4cd-92b7fc8141ca"
      },
      "outputs": [
        {
          "output_type": "stream",
          "name": "stdout",
          "text": [
            "The unique values in condition column are ['excellent' 'good' 'like new' 'new' 'fair' 'salvage']\n",
            "The unique values in cylinders column are ['6 cylinders' '8 cylinders' '4 cylinders' '5 cylinders' '10 cylinders'\n",
            " '3 cylinders' 'other' '12 cylinders']\n",
            "The unique values in transmission column are ['automatic' 'other' 'manual']\n",
            "The unique values in drive column are ['rwd' '4wd' 'fwd']\n",
            "The unique values in size column are ['full-size' 'mid-size' 'compact' 'sub-compact']\n"
          ]
        }
      ],
      "source": [
        "for single_column in [\"condition\",\"cylinders\",\"transmission\",\"drive\",\"size\"]:\n",
        "\n",
        "  print(\"The unique values in {} column are {}\".format(single_column,\n",
        "                                                       data[single_column].unique()))"
      ]
    },
    {
      "cell_type": "markdown",
      "metadata": {
        "id": "S7KkcjiWbSFP"
      },
      "source": [
        "###Let's create the dictionary of mappings for all the categorical values to Integers, in all the Ordinal Columns."
      ]
    },
    {
      "cell_type": "code",
      "execution_count": 64,
      "metadata": {
        "id": "4p5ZZtOquJWq"
      },
      "outputs": [],
      "source": [
        "condition_encoding_dict = {'excellent':6, 'good':3, 'like new':4, 'new':5, 'fair':2, 'salvage':1}\n",
        "cylinders_encoding_dict = {'6 cylinders':6, '8 cylinders':8, '4 cylinders':4, '5 cylinders':5,\n",
        "                           '10 cylinders':10, '3 cylinders':3, 'other':7, '12 cylinders':12}\n",
        "transmission_encoding_dict = {'automatic':3, 'other':2, 'manual':1}\n",
        "drive_encoding_dict = {'rwd':2, '4wd':3, 'fwd':1}\n",
        "size_encoding_dict = {'full-size':4, 'mid-size':3, 'compact':1, 'sub-compact':2}"
      ]
    },
    {
      "cell_type": "markdown",
      "metadata": {
        "id": "cNFHHtW5cMod"
      },
      "source": [
        "###Let's replace all the categorical values in all the Ordinal columns, with their respective integer mappings."
      ]
    },
    {
      "cell_type": "code",
      "execution_count": 65,
      "metadata": {
        "id": "WTAyT2hLzAuK"
      },
      "outputs": [],
      "source": [
        "data[\"condition\"].replace(to_replace=condition_encoding_dict.keys(),\n",
        "                          value=condition_encoding_dict.values(),inplace=True)\n",
        "\n",
        "data[\"cylinders\"].replace(to_replace=cylinders_encoding_dict.keys(),\n",
        "                          value=cylinders_encoding_dict.values(),inplace=True)\n",
        "\n",
        "data[\"transmission\"].replace(to_replace=transmission_encoding_dict.keys(),\n",
        "                             value=transmission_encoding_dict.values(),inplace=True)\n",
        "\n",
        "data[\"drive\"].replace(to_replace=drive_encoding_dict.keys(),\n",
        "                      value=drive_encoding_dict.values(),inplace=True)\n",
        "\n",
        "data[\"size\"].replace(to_replace=size_encoding_dict.keys(),\n",
        "                     value=size_encoding_dict.values(),inplace=True)"
      ]
    },
    {
      "cell_type": "markdown",
      "metadata": {
        "id": "jiMRv0BO0obu"
      },
      "source": [
        "#**Let's now encode all the Nominal Columns with the help of One Hot Encoding.**"
      ]
    },
    {
      "cell_type": "markdown",
      "metadata": {
        "id": "mqYiQAqG0-2W"
      },
      "source": [
        "###Let's first that see how many unique values are there in each of the Nominal Columns."
      ]
    },
    {
      "cell_type": "code",
      "execution_count": 66,
      "metadata": {
        "colab": {
          "base_uri": "https://localhost:8080/"
        },
        "id": "Iai79JNi1pT8",
        "outputId": "86a57f83-26a1-4ad3-a796-0f77fd705cd0"
      },
      "outputs": [
        {
          "output_type": "stream",
          "name": "stdout",
          "text": [
            "The number of unique values in manufacturer column are 41\n",
            "The number of unique values in model column are 14487\n",
            "The number of unique values in fuel column are 5\n",
            "The number of unique values in type column are 13\n",
            "The number of unique values in paint_color column are 12\n"
          ]
        }
      ],
      "source": [
        "for single_column in [\"manufacturer\",\"model\",\"fuel\",\"type\",\"paint_color\"]:\n",
        "\n",
        "  print(\"The number of unique values in {} column are {}\".format(single_column,\n",
        "                                                       data[single_column].unique().shape[0]))"
      ]
    },
    {
      "cell_type": "markdown",
      "metadata": {
        "id": "VmCAh3hhHxg7"
      },
      "source": [
        "###**As all the Nominal columns except, ```model``` have very less number of unique values so we can One Hot Encode all the values of rest of the columns.**"
      ]
    },
    {
      "cell_type": "markdown",
      "metadata": {
        "id": "3TBBpGFWIuHb"
      },
      "source": [
        "###Let's see what can we do with the values of ```model``` column."
      ]
    },
    {
      "cell_type": "markdown",
      "metadata": {
        "id": "zCw40W-QJBTG"
      },
      "source": [
        "###**Let's first encode all the unique values in the ```model``` column and visualize the frequency distribution of the integer values in ```model``` column.**"
      ]
    },
    {
      "cell_type": "code",
      "execution_count": 67,
      "metadata": {
        "id": "6NxGxRXAI2dI"
      },
      "outputs": [],
      "source": [
        "data[\"model\"].replace(to_replace=data[\"model\"].unique(),\n",
        "                      value=list(range(data[\"model\"].unique().shape[0])),\n",
        "                      inplace=True)"
      ]
    },
    {
      "cell_type": "code",
      "execution_count": 68,
      "metadata": {
        "colab": {
          "base_uri": "https://localhost:8080/",
          "height": 472
        },
        "id": "tmx_aN-SK7KQ",
        "outputId": "dbac403c-95dd-4450-d505-858b848b73ae"
      },
      "outputs": [
        {
          "output_type": "execute_result",
          "data": {
            "text/plain": [
              "Text(0, 0.5, 'Frequency of Integer Labels')"
            ]
          },
          "metadata": {},
          "execution_count": 68
        },
        {
          "output_type": "display_data",
          "data": {
            "text/plain": [
              "<Figure size 640x480 with 1 Axes>"
            ],
            "image/png": "[encoded data removed]"
          },
          "metadata": {}
        }
      ],
      "source": [
        "plt.hist(data[\"model\"])\n",
        "plt.xlabel(\"Integer Encodings of Different Models of Different Cars\")\n",
        "plt.ylabel(\"Frequency of Integer Labels\")"
      ]
    },
    {
      "cell_type": "markdown",
      "metadata": {
        "id": "hgSzkDHOPkcw"
      },
      "source": [
        "##As can be visualized that **all the integer mappings roughly below 2000 are occupying majority of the area under the Frequency Distribution** and thats the piece of information which we are going to use **to determine the various integer mappings that need to be One Hot Encoded and rest of the Integer mappings will be merged into a single integer mapping.**   "
      ]
    },
    {
      "cell_type": "markdown",
      "metadata": {
        "id": "72IdpIQihwSy"
      },
      "source": [
        "##**We will One Hot Encode only those top 'k' (Top 'k' most frequently occuring)Integer mappings seperately which are contributing to majority (let's say 70%) of the area under the curve of Frequency Distribution and merge rest of them into a single integer value.**"
      ]
    },
    {
      "cell_type": "code",
      "execution_count": 69,
      "metadata": {
        "id": "7J16ADjqRFZE"
      },
      "outputs": [],
      "source": [
        "models_freq_dist = dict(data[\"model\"].value_counts())"
      ]
    },
    {
      "cell_type": "markdown",
      "metadata": {
        "id": "CfFrHZWriyzD"
      },
      "source": [
        "##And the best part is that all the integer mappings we computed above are by default arranged in descending order according to their frequencies and **we simply have to get the list of all the integer mappings whose frequencies when summed up are contributing to 70% of the area under the Frequency Distribution.**"
      ]
    },
    {
      "cell_type": "code",
      "execution_count": 70,
      "metadata": {
        "id": "ODtIA3eoRPno"
      },
      "outputs": [],
      "source": [
        "area_cut_off = 0.71\n",
        "top_models = list()\n",
        "total_area = 0\n",
        "total_frequency = data.shape[0]\n",
        "\n",
        "for k,v in models_freq_dist.items():\n",
        "\n",
        "  if (total_area/total_frequency) > area_cut_off:\n",
        "    break\n",
        "\n",
        "  top_models.append(k)\n",
        "\n",
        "  total_area += models_freq_dist[k]"
      ]
    },
    {
      "cell_type": "code",
      "execution_count": 71,
      "metadata": {
        "colab": {
          "base_uri": "https://localhost:8080/"
        },
        "id": "A0Sdjql6kr-S",
        "outputId": "09e80c69-401d-42a5-e14a-64daa824cdea"
      },
      "outputs": [
        {
          "output_type": "stream",
          "name": "stdout",
          "text": [
            "826\n"
          ]
        }
      ],
      "source": [
        "k = len(top_models)\n",
        "print(k)"
      ]
    },
    {
      "cell_type": "markdown",
      "metadata": {
        "id": "K0obDaGhlP59"
      },
      "source": [
        "##**Therefore, it can be said that there are 773 top most frequently occurring models whose frequencies when summed up contribute to 70% of the area under the Frequency Distribution.**  "
      ]
    },
    {
      "cell_type": "markdown",
      "metadata": {
        "id": "zlFD0EuUo2M-"
      },
      "source": [
        "##Let's assign a unique integer value to each of the integer mappings till index 772 (k-1) and then after that because we need to merge all the integer mappings, assign the index 773 to all of them."
      ]
    },
    {
      "cell_type": "code",
      "execution_count": 72,
      "metadata": {
        "id": "a3BRQNx8mEHQ"
      },
      "outputs": [],
      "source": [
        "updated_mapping_dict = dict()\n",
        "\n",
        "for i,item in enumerate(models_freq_dist.items()):\n",
        "\n",
        "  if i <= (k-1):\n",
        "    updated_mapping_dict[item[0]] = i\n",
        "  else:\n",
        "    updated_mapping_dict[item[0]] = k"
      ]
    },
    {
      "cell_type": "code",
      "execution_count": 73,
      "metadata": {
        "id": "Cc9h26b0q-p1"
      },
      "outputs": [],
      "source": [
        "data[\"model\"].replace(to_replace=updated_mapping_dict.keys(),\n",
        "                       value=updated_mapping_dict.values(),inplace=True)"
      ]
    },
    {
      "cell_type": "code",
      "execution_count": 74,
      "metadata": {
        "colab": {
          "base_uri": "https://localhost:8080/",
          "height": 206
        },
        "id": "ifN-2yT5rdcG",
        "outputId": "a3d9e66d-5eec-4d43-aecd-342a0af53e8a"
      },
      "outputs": [
        {
          "output_type": "execute_result",
          "data": {
            "text/plain": [
              "   price    year manufacturer  model  condition  cylinders fuel  odometer  \\\n",
              "0  15000  2013.0         ford    131          6          6  gas  128000.0   \n",
              "1  27990  2012.0          gmc    165          3          8  gas   68696.0   \n",
              "2  34590  2016.0    chevrolet     66          3          6  gas   29499.0   \n",
              "3  35000  2019.0       toyota      6          6          6  gas   43000.0   \n",
              "4  29990  2016.0    chevrolet     88          3          6  gas   17302.0   \n",
              "\n",
              "   transmission  drive  size    type paint_color  \n",
              "0             3      2     4   truck       black  \n",
              "1             2      3     4  pickup       black  \n",
              "2             2      3     4  pickup      silver  \n",
              "3             3      3     3   truck        grey  \n",
              "4             2      3     3  pickup         red  "
            ],
            "text/html": [
              "\n",
              "  <div id=\"df-b960301e-59bb-4a4d-934b-929dc23a8434\" class=\"colab-df-container\">\n",
              "    <div>\n",
              "<style scoped>\n",
              "    .dataframe tbody tr th:only-of-type {\n",
              "        vertical-align: middle;\n",
              "    }\n",
              "\n",
              "    .dataframe tbody tr th {\n",
              "        vertical-align: top;\n",
              "    }\n",
              "\n",
              "    .dataframe thead th {\n",
              "        text-align: right;\n",
              "    }\n",
              "</style>\n",
              "<table border=\"1\" class=\"dataframe\">\n",
              "  <thead>\n",
              "    <tr style=\"text-align: right;\">\n",
              "      <th></th>\n",
              "      <th>price</th>\n",
              "      <th>year</th>\n",
              "      <th>manufacturer</th>\n",
              "      <th>model</th>\n",
              "      <th>condition</th>\n",
              "      <th>cylinders</th>\n",
              "      <th>fuel</th>\n",
              "      <th>odometer</th>\n",
              "      <th>transmission</th>\n",
              "      <th>drive</th>\n",
              "      <th>size</th>\n",
              "      <th>type</th>\n",
              "      <th>paint_color</th>\n",
              "    </tr>\n",
              "  </thead>\n",
              "  <tbody>\n",
              "    <tr>\n",
              "      <th>0</th>\n",
              "      <td>15000</td>\n",
              "      <td>2013.0</td>\n",
              "      <td>ford</td>\n",
              "      <td>131</td>\n",
              "      <td>6</td>\n",
              "      <td>6</td>\n",
              "      <td>gas</td>\n",
              "      <td>128000.0</td>\n",
              "      <td>3</td>\n",
              "      <td>2</td>\n",
              "      <td>4</td>\n",
              "      <td>truck</td>\n",
              "      <td>black</td>\n",
              "    </tr>\n",
              "    <tr>\n",
              "      <th>1</th>\n",
              "      <td>27990</td>\n",
              "      <td>2012.0</td>\n",
              "      <td>gmc</td>\n",
              "      <td>165</td>\n",
              "      <td>3</td>\n",
              "      <td>8</td>\n",
              "      <td>gas</td>\n",
              "      <td>68696.0</td>\n",
              "      <td>2</td>\n",
              "      <td>3</td>\n",
              "      <td>4</td>\n",
              "      <td>pickup</td>\n",
              "      <td>black</td>\n",
              "    </tr>\n",
              "    <tr>\n",
              "      <th>2</th>\n",
              "      <td>34590</td>\n",
              "      <td>2016.0</td>\n",
              "      <td>chevrolet</td>\n",
              "      <td>66</td>\n",
              "      <td>3</td>\n",
              "      <td>6</td>\n",
              "      <td>gas</td>\n",
              "      <td>29499.0</td>\n",
              "      <td>2</td>\n",
              "      <td>3</td>\n",
              "      <td>4</td>\n",
              "      <td>pickup</td>\n",
              "      <td>silver</td>\n",
              "    </tr>\n",
              "    <tr>\n",
              "      <th>3</th>\n",
              "      <td>35000</td>\n",
              "      <td>2019.0</td>\n",
              "      <td>toyota</td>\n",
              "      <td>6</td>\n",
              "      <td>6</td>\n",
              "      <td>6</td>\n",
              "      <td>gas</td>\n",
              "      <td>43000.0</td>\n",
              "      <td>3</td>\n",
              "      <td>3</td>\n",
              "      <td>3</td>\n",
              "      <td>truck</td>\n",
              "      <td>grey</td>\n",
              "    </tr>\n",
              "    <tr>\n",
              "      <th>4</th>\n",
              "      <td>29990</td>\n",
              "      <td>2016.0</td>\n",
              "      <td>chevrolet</td>\n",
              "      <td>88</td>\n",
              "      <td>3</td>\n",
              "      <td>6</td>\n",
              "      <td>gas</td>\n",
              "      <td>17302.0</td>\n",
              "      <td>2</td>\n",
              "      <td>3</td>\n",
              "      <td>3</td>\n",
              "      <td>pickup</td>\n",
              "      <td>red</td>\n",
              "    </tr>\n",
              "  </tbody>\n",
              "</table>\n",
              "</div>\n",
              "    <div class=\"colab-df-buttons\">\n",
              "\n",
              "  <div class=\"colab-df-container\">\n",
              "    <button class=\"colab-df-convert\" onclick=\"convertToInteractive('df-b960301e-59bb-4a4d-934b-929dc23a8434')\"\n",
              "            title=\"Convert this dataframe to an interactive table.\"\n",
              "            style=\"display:none;\">\n",
              "\n",
              "  <svg xmlns=\"http://www.w3.org/2000/svg\" height=\"24px\" viewBox=\"0 -960 960 960\">\n",
              "    <path d=\"M120-120v-720h720v720H120Zm60-500h600v-160H180v160Zm220 220h160v-160H400v160Zm0 220h160v-160H400v160ZM180-400h160v-160H180v160Zm440 0h160v-160H620v160ZM180-180h160v-160H180v160Zm440 0h160v-160H620v160Z\"/>\n",
              "  </svg>\n",
              "    </button>\n",
              "\n",
              "  <style>\n",
              "    .colab-df-container {\n",
              "      display:flex;\n",
              "      gap: 12px;\n",
              "    }\n",
              "\n",
              "    .colab-df-convert {\n",
              "      background-color: #E8F0FE;\n",
              "      border: none;\n",
              "      border-radius: 50%;\n",
              "      cursor: pointer;\n",
              "      display: none;\n",
              "      fill: #1967D2;\n",
              "      height: 32px;\n",
              "      padding: 0 0 0 0;\n",
              "      width: 32px;\n",
              "    }\n",
              "\n",
              "    .colab-df-convert:hover {\n",
              "      background-color: #E2EBFA;\n",
              "      box-shadow: 0px 1px 2px rgba(60, 64, 67, 0.3), 0px 1px 3px 1px rgba(60, 64, 67, 0.15);\n",
              "      fill: #174EA6;\n",
              "    }\n",
              "\n",
              "    .colab-df-buttons div {\n",
              "      margin-bottom: 4px;\n",
              "    }\n",
              "\n",
              "    [theme=dark] .colab-df-convert {\n",
              "      background-color: #3B4455;\n",
              "      fill: #D2E3FC;\n",
              "    }\n",
              "\n",
              "    [theme=dark] .colab-df-convert:hover {\n",
              "      background-color: #434B5C;\n",
              "      box-shadow: 0px 1px 3px 1px rgba(0, 0, 0, 0.15);\n",
              "      filter: drop-shadow(0px 1px 2px rgba(0, 0, 0, 0.3));\n",
              "      fill: #FFFFFF;\n",
              "    }\n",
              "  </style>\n",
              "\n",
              "    <script>\n",
              "      const buttonEl =\n",
              "        document.querySelector('#df-b960301e-59bb-4a4d-934b-929dc23a8434 button.colab-df-convert');\n",
              "      buttonEl.style.display =\n",
              "        google.colab.kernel.accessAllowed ? 'block' : 'none';\n",
              "\n",
              "      async function convertToInteractive(key) {\n",
              "        const element = document.querySelector('#df-b960301e-59bb-4a4d-934b-929dc23a8434');\n",
              "        const dataTable =\n",
              "          await google.colab.kernel.invokeFunction('convertToInteractive',\n",
              "                                                    [key], {});\n",
              "        if (!dataTable) return;\n",
              "\n",
              "        const docLinkHtml = 'Like what you see? Visit the ' +\n",
              "          '<a target=\"_blank\" href=https://colab.research.google.com/notebooks/data_table.ipynb>data table notebook</a>'\n",
              "          + ' to learn more about interactive tables.';\n",
              "        element.innerHTML = '';\n",
              "        dataTable['output_type'] = 'display_data';\n",
              "        await google.colab.output.renderOutput(dataTable, element);\n",
              "        const docLink = document.createElement('div');\n",
              "        docLink.innerHTML = docLinkHtml;\n",
              "        element.appendChild(docLink);\n",
              "      }\n",
              "    </script>\n",
              "  </div>\n",
              "\n",
              "\n",
              "<div id=\"df-06b200ba-4914-443f-be93-f438954ef05c\">\n",
              "  <button class=\"colab-df-quickchart\" onclick=\"quickchart('df-06b200ba-4914-443f-be93-f438954ef05c')\"\n",
              "            title=\"Suggest charts\"\n",
              "            style=\"display:none;\">\n",
              "\n",
              "<svg xmlns=\"http://www.w3.org/2000/svg\" height=\"24px\"viewBox=\"0 0 24 24\"\n",
              "     width=\"24px\">\n",
              "    <g>\n",
              "        <path d=\"M19 3H5c-1.1 0-2 .9-2 2v14c0 1.1.9 2 2 2h14c1.1 0 2-.9 2-2V5c0-1.1-.9-2-2-2zM9 17H7v-7h2v7zm4 0h-2V7h2v10zm4 0h-2v-4h2v4z\"/>\n",
              "    </g>\n",
              "</svg>\n",
              "  </button>\n",
              "\n",
              "<style>\n",
              "  .colab-df-quickchart {\n",
              "      --bg-color: #E8F0FE;\n",
              "      --fill-color: #1967D2;\n",
              "      --hover-bg-color: #E2EBFA;\n",
              "      --hover-fill-color: #174EA6;\n",
              "      --disabled-fill-color: #AAA;\n",
              "      --disabled-bg-color: #DDD;\n",
              "  }\n",
              "\n",
              "  [theme=dark] .colab-df-quickchart {\n",
              "      --bg-color: #3B4455;\n",
              "      --fill-color: #D2E3FC;\n",
              "      --hover-bg-color: #434B5C;\n",
              "      --hover-fill-color: #FFFFFF;\n",
              "      --disabled-bg-color: #3B4455;\n",
              "      --disabled-fill-color: #666;\n",
              "  }\n",
              "\n",
              "  .colab-df-quickchart {\n",
              "    background-color: var(--bg-color);\n",
              "    border: none;\n",
              "    border-radius: 50%;\n",
              "    cursor: pointer;\n",
              "    display: none;\n",
              "    fill: var(--fill-color);\n",
              "    height: 32px;\n",
              "    padding: 0;\n",
              "    width: 32px;\n",
              "  }\n",
              "\n",
              "  .colab-df-quickchart:hover {\n",
              "    background-color: var(--hover-bg-color);\n",
              "    box-shadow: 0 1px 2px rgba(60, 64, 67, 0.3), 0 1px 3px 1px rgba(60, 64, 67, 0.15);\n",
              "    fill: var(--button-hover-fill-color);\n",
              "  }\n",
              "\n",
              "  .colab-df-quickchart-complete:disabled,\n",
              "  .colab-df-quickchart-complete:disabled:hover {\n",
              "    background-color: var(--disabled-bg-color);\n",
              "    fill: var(--disabled-fill-color);\n",
              "    box-shadow: none;\n",
              "  }\n",
              "\n",
              "  .colab-df-spinner {\n",
              "    border: 2px solid var(--fill-color);\n",
              "    border-color: transparent;\n",
              "    border-bottom-color: var(--fill-color);\n",
              "    animation:\n",
              "      spin 1s steps(1) infinite;\n",
              "  }\n",
              "\n",
              "  @keyframes spin {\n",
              "    0% {\n",
              "      border-color: transparent;\n",
              "      border-bottom-color: var(--fill-color);\n",
              "      border-left-color: var(--fill-color);\n",
              "    }\n",
              "    20% {\n",
              "      border-color: transparent;\n",
              "      border-left-color: var(--fill-color);\n",
              "      border-top-color: var(--fill-color);\n",
              "    }\n",
              "    30% {\n",
              "      border-color: transparent;\n",
              "      border-left-color: var(--fill-color);\n",
              "      border-top-color: var(--fill-color);\n",
              "      border-right-color: var(--fill-color);\n",
              "    }\n",
              "    40% {\n",
              "      border-color: transparent;\n",
              "      border-right-color: var(--fill-color);\n",
              "      border-top-color: var(--fill-color);\n",
              "    }\n",
              "    60% {\n",
              "      border-color: transparent;\n",
              "      border-right-color: var(--fill-color);\n",
              "    }\n",
              "    80% {\n",
              "      border-color: transparent;\n",
              "      border-right-color: var(--fill-color);\n",
              "      border-bottom-color: var(--fill-color);\n",
              "    }\n",
              "    90% {\n",
              "      border-color: transparent;\n",
              "      border-bottom-color: var(--fill-color);\n",
              "    }\n",
              "  }\n",
              "</style>\n",
              "\n",
              "  <script>\n",
              "    async function quickchart(key) {\n",
              "      const quickchartButtonEl =\n",
              "        document.querySelector('#' + key + ' button');\n",
              "      quickchartButtonEl.disabled = true;  // To prevent multiple clicks.\n",
              "      quickchartButtonEl.classList.add('colab-df-spinner');\n",
              "      try {\n",
              "        const charts = await google.colab.kernel.invokeFunction(\n",
              "            'suggestCharts', [key], {});\n",
              "      } catch (error) {\n",
              "        console.error('Error during call to suggestCharts:', error);\n",
              "      }\n",
              "      quickchartButtonEl.classList.remove('colab-df-spinner');\n",
              "      quickchartButtonEl.classList.add('colab-df-quickchart-complete');\n",
              "    }\n",
              "    (() => {\n",
              "      let quickchartButtonEl =\n",
              "        document.querySelector('#df-06b200ba-4914-443f-be93-f438954ef05c button');\n",
              "      quickchartButtonEl.style.display =\n",
              "        google.colab.kernel.accessAllowed ? 'block' : 'none';\n",
              "    })();\n",
              "  </script>\n",
              "</div>\n",
              "    </div>\n",
              "  </div>\n"
            ],
            "application/vnd.google.colaboratory.intrinsic+json": {
              "type": "dataframe",
              "variable_name": "data"
            }
          },
          "metadata": {},
          "execution_count": 74
        }
      ],
      "source": [
        "data.head()"
      ]
    },
    {
      "cell_type": "markdown",
      "metadata": {
        "id": "kHbf2JC3tQdq"
      },
      "source": [
        "##Let's finally concatenate the 774 columns of One Hot Encodings of integer mappings available in ```model``` column. For that let's create a function which will serve as a generic function for One Hot Encoding the integer mappings in rest of the columns too."
      ]
    },
    {
      "cell_type": "code",
      "execution_count": 75,
      "metadata": {
        "id": "wvlJZ9Amtwpb"
      },
      "outputs": [],
      "source": [
        "def convert_to_ohe_df(column_name):\n",
        "\n",
        "  model_unique_values = data[column_name].unique().shape[0]\n",
        "  identity_matrix = np.eye(model_unique_values,model_unique_values)\n",
        "  ohe_models = identity_matrix[data[column_name]]\n",
        "  df_column_names = [column_name+str(i) for i in range(model_unique_values)]\n",
        "  column_df = pd.DataFrame(data=ohe_models,columns=df_column_names)\n",
        "\n",
        "  return column_df"
      ]
    },
    {
      "cell_type": "markdown",
      "metadata": {
        "id": "qh2AkcQcsDmC"
      },
      "source": [
        "##Let's Integer Encode remaining columns so that we can One Hot Encode them."
      ]
    },
    {
      "cell_type": "code",
      "execution_count": 76,
      "metadata": {
        "id": "89t9kk8Qwf0-"
      },
      "outputs": [],
      "source": [
        "for single_column in [\"manufacturer\",\"fuel\",\"type\",\"paint_color\"]:\n",
        "\n",
        "  column_unique_values = data[single_column].unique()\n",
        "  data[single_column].replace(to_replace=column_unique_values,\n",
        "                              value=list(range(column_unique_values.shape[0])),\n",
        "                              inplace=True)"
      ]
    },
    {
      "cell_type": "code",
      "execution_count": 77,
      "metadata": {
        "colab": {
          "base_uri": "https://localhost:8080/",
          "height": 206
        },
        "id": "Sl0pxqIUxp69",
        "outputId": "0e8e2676-d3f9-42ea-ad4a-515cdad5c6bd"
      },
      "outputs": [
        {
          "output_type": "execute_result",
          "data": {
            "text/plain": [
              "   price    year  manufacturer  model  condition  cylinders  fuel  odometer  \\\n",
              "0  15000  2013.0             0    131          6          6     0  128000.0   \n",
              "1  27990  2012.0             1    165          3          8     0   68696.0   \n",
              "2  34590  2016.0             2     66          3          6     0   29499.0   \n",
              "3  35000  2019.0             3      6          6          6     0   43000.0   \n",
              "4  29990  2016.0             2     88          3          6     0   17302.0   \n",
              "\n",
              "   transmission  drive  size  type  paint_color  \n",
              "0             3      2     4     0            0  \n",
              "1             2      3     4     1            0  \n",
              "2             2      3     4     1            1  \n",
              "3             3      3     3     0            2  \n",
              "4             2      3     3     1            3  "
            ],
            "text/html": [
              "\n",
              "  <div id=\"df-85b91dca-815a-4d3e-a2c5-57b2c3c9b026\" class=\"colab-df-container\">\n",
              "    <div>\n",
              "<style scoped>\n",
              "    .dataframe tbody tr th:only-of-type {\n",
              "        vertical-align: middle;\n",
              "    }\n",
              "\n",
              "    .dataframe tbody tr th {\n",
              "        vertical-align: top;\n",
              "    }\n",
              "\n",
              "    .dataframe thead th {\n",
              "        text-align: right;\n",
              "    }\n",
              "</style>\n",
              "<table border=\"1\" class=\"dataframe\">\n",
              "  <thead>\n",
              "    <tr style=\"text-align: right;\">\n",
              "      <th></th>\n",
              "      <th>price</th>\n",
              "      <th>year</th>\n",
              "      <th>manufacturer</th>\n",
              "      <th>model</th>\n",
              "      <th>condition</th>\n",
              "      <th>cylinders</th>\n",
              "      <th>fuel</th>\n",
              "      <th>odometer</th>\n",
              "      <th>transmission</th>\n",
              "      <th>drive</th>\n",
              "      <th>size</th>\n",
              "      <th>type</th>\n",
              "      <th>paint_color</th>\n",
              "    </tr>\n",
              "  </thead>\n",
              "  <tbody>\n",
              "    <tr>\n",
              "      <th>0</th>\n",
              "      <td>15000</td>\n",
              "      <td>2013.0</td>\n",
              "      <td>0</td>\n",
              "      <td>131</td>\n",
              "      <td>6</td>\n",
              "      <td>6</td>\n",
              "      <td>0</td>\n",
              "      <td>128000.0</td>\n",
              "      <td>3</td>\n",
              "      <td>2</td>\n",
              "      <td>4</td>\n",
              "      <td>0</td>\n",
              "      <td>0</td>\n",
              "    </tr>\n",
              "    <tr>\n",
              "      <th>1</th>\n",
              "      <td>27990</td>\n",
              "      <td>2012.0</td>\n",
              "      <td>1</td>\n",
              "      <td>165</td>\n",
              "      <td>3</td>\n",
              "      <td>8</td>\n",
              "      <td>0</td>\n",
              "      <td>68696.0</td>\n",
              "      <td>2</td>\n",
              "      <td>3</td>\n",
              "      <td>4</td>\n",
              "      <td>1</td>\n",
              "      <td>0</td>\n",
              "    </tr>\n",
              "    <tr>\n",
              "      <th>2</th>\n",
              "      <td>34590</td>\n",
              "      <td>2016.0</td>\n",
              "      <td>2</td>\n",
              "      <td>66</td>\n",
              "      <td>3</td>\n",
              "      <td>6</td>\n",
              "      <td>0</td>\n",
              "      <td>29499.0</td>\n",
              "      <td>2</td>\n",
              "      <td>3</td>\n",
              "      <td>4</td>\n",
              "      <td>1</td>\n",
              "      <td>1</td>\n",
              "    </tr>\n",
              "    <tr>\n",
              "      <th>3</th>\n",
              "      <td>35000</td>\n",
              "      <td>2019.0</td>\n",
              "      <td>3</td>\n",
              "      <td>6</td>\n",
              "      <td>6</td>\n",
              "      <td>6</td>\n",
              "      <td>0</td>\n",
              "      <td>43000.0</td>\n",
              "      <td>3</td>\n",
              "      <td>3</td>\n",
              "      <td>3</td>\n",
              "      <td>0</td>\n",
              "      <td>2</td>\n",
              "    </tr>\n",
              "    <tr>\n",
              "      <th>4</th>\n",
              "      <td>29990</td>\n",
              "      <td>2016.0</td>\n",
              "      <td>2</td>\n",
              "      <td>88</td>\n",
              "      <td>3</td>\n",
              "      <td>6</td>\n",
              "      <td>0</td>\n",
              "      <td>17302.0</td>\n",
              "      <td>2</td>\n",
              "      <td>3</td>\n",
              "      <td>3</td>\n",
              "      <td>1</td>\n",
              "      <td>3</td>\n",
              "    </tr>\n",
              "  </tbody>\n",
              "</table>\n",
              "</div>\n",
              "    <div class=\"colab-df-buttons\">\n",
              "\n",
              "  <div class=\"colab-df-container\">\n",
              "    <button class=\"colab-df-convert\" onclick=\"convertToInteractive('df-85b91dca-815a-4d3e-a2c5-57b2c3c9b026')\"\n",
              "            title=\"Convert this dataframe to an interactive table.\"\n",
              "            style=\"display:none;\">\n",
              "\n",
              "  <svg xmlns=\"http://www.w3.org/2000/svg\" height=\"24px\" viewBox=\"0 -960 960 960\">\n",
              "    <path d=\"M120-120v-720h720v720H120Zm60-500h600v-160H180v160Zm220 220h160v-160H400v160Zm0 220h160v-160H400v160ZM180-400h160v-160H180v160Zm440 0h160v-160H620v160ZM180-180h160v-160H180v160Zm440 0h160v-160H620v160Z\"/>\n",
              "  </svg>\n",
              "    </button>\n",
              "\n",
              "  <style>\n",
              "    .colab-df-container {\n",
              "      display:flex;\n",
              "      gap: 12px;\n",
              "    }\n",
              "\n",
              "    .colab-df-convert {\n",
              "      background-color: #E8F0FE;\n",
              "      border: none;\n",
              "      border-radius: 50%;\n",
              "      cursor: pointer;\n",
              "      display: none;\n",
              "      fill: #1967D2;\n",
              "      height: 32px;\n",
              "      padding: 0 0 0 0;\n",
              "      width: 32px;\n",
              "    }\n",
              "\n",
              "    .colab-df-convert:hover {\n",
              "      background-color: #E2EBFA;\n",
              "      box-shadow: 0px 1px 2px rgba(60, 64, 67, 0.3), 0px 1px 3px 1px rgba(60, 64, 67, 0.15);\n",
              "      fill: #174EA6;\n",
              "    }\n",
              "\n",
              "    .colab-df-buttons div {\n",
              "      margin-bottom: 4px;\n",
              "    }\n",
              "\n",
              "    [theme=dark] .colab-df-convert {\n",
              "      background-color: #3B4455;\n",
              "      fill: #D2E3FC;\n",
              "    }\n",
              "\n",
              "    [theme=dark] .colab-df-convert:hover {\n",
              "      background-color: #434B5C;\n",
              "      box-shadow: 0px 1px 3px 1px rgba(0, 0, 0, 0.15);\n",
              "      filter: drop-shadow(0px 1px 2px rgba(0, 0, 0, 0.3));\n",
              "      fill: #FFFFFF;\n",
              "    }\n",
              "  </style>\n",
              "\n",
              "    <script>\n",
              "      const buttonEl =\n",
              "        document.querySelector('#df-85b91dca-815a-4d3e-a2c5-57b2c3c9b026 button.colab-df-convert');\n",
              "      buttonEl.style.display =\n",
              "        google.colab.kernel.accessAllowed ? 'block' : 'none';\n",
              "\n",
              "      async function convertToInteractive(key) {\n",
              "        const element = document.querySelector('#df-85b91dca-815a-4d3e-a2c5-57b2c3c9b026');\n",
              "        const dataTable =\n",
              "          await google.colab.kernel.invokeFunction('convertToInteractive',\n",
              "                                                    [key], {});\n",
              "        if (!dataTable) return;\n",
              "\n",
              "        const docLinkHtml = 'Like what you see? Visit the ' +\n",
              "          '<a target=\"_blank\" href=https://colab.research.google.com/notebooks/data_table.ipynb>data table notebook</a>'\n",
              "          + ' to learn more about interactive tables.';\n",
              "        element.innerHTML = '';\n",
              "        dataTable['output_type'] = 'display_data';\n",
              "        await google.colab.output.renderOutput(dataTable, element);\n",
              "        const docLink = document.createElement('div');\n",
              "        docLink.innerHTML = docLinkHtml;\n",
              "        element.appendChild(docLink);\n",
              "      }\n",
              "    </script>\n",
              "  </div>\n",
              "\n",
              "\n",
              "<div id=\"df-6abe37ab-a89a-473f-93af-ee9d666d39e0\">\n",
              "  <button class=\"colab-df-quickchart\" onclick=\"quickchart('df-6abe37ab-a89a-473f-93af-ee9d666d39e0')\"\n",
              "            title=\"Suggest charts\"\n",
              "            style=\"display:none;\">\n",
              "\n",
              "<svg xmlns=\"http://www.w3.org/2000/svg\" height=\"24px\"viewBox=\"0 0 24 24\"\n",
              "     width=\"24px\">\n",
              "    <g>\n",
              "        <path d=\"M19 3H5c-1.1 0-2 .9-2 2v14c0 1.1.9 2 2 2h14c1.1 0 2-.9 2-2V5c0-1.1-.9-2-2-2zM9 17H7v-7h2v7zm4 0h-2V7h2v10zm4 0h-2v-4h2v4z\"/>\n",
              "    </g>\n",
              "</svg>\n",
              "  </button>\n",
              "\n",
              "<style>\n",
              "  .colab-df-quickchart {\n",
              "      --bg-color: #E8F0FE;\n",
              "      --fill-color: #1967D2;\n",
              "      --hover-bg-color: #E2EBFA;\n",
              "      --hover-fill-color: #174EA6;\n",
              "      --disabled-fill-color: #AAA;\n",
              "      --disabled-bg-color: #DDD;\n",
              "  }\n",
              "\n",
              "  [theme=dark] .colab-df-quickchart {\n",
              "      --bg-color: #3B4455;\n",
              "      --fill-color: #D2E3FC;\n",
              "      --hover-bg-color: #434B5C;\n",
              "      --hover-fill-color: #FFFFFF;\n",
              "      --disabled-bg-color: #3B4455;\n",
              "      --disabled-fill-color: #666;\n",
              "  }\n",
              "\n",
              "  .colab-df-quickchart {\n",
              "    background-color: var(--bg-color);\n",
              "    border: none;\n",
              "    border-radius: 50%;\n",
              "    cursor: pointer;\n",
              "    display: none;\n",
              "    fill: var(--fill-color);\n",
              "    height: 32px;\n",
              "    padding: 0;\n",
              "    width: 32px;\n",
              "  }\n",
              "\n",
              "  .colab-df-quickchart:hover {\n",
              "    background-color: var(--hover-bg-color);\n",
              "    box-shadow: 0 1px 2px rgba(60, 64, 67, 0.3), 0 1px 3px 1px rgba(60, 64, 67, 0.15);\n",
              "    fill: var(--button-hover-fill-color);\n",
              "  }\n",
              "\n",
              "  .colab-df-quickchart-complete:disabled,\n",
              "  .colab-df-quickchart-complete:disabled:hover {\n",
              "    background-color: var(--disabled-bg-color);\n",
              "    fill: var(--disabled-fill-color);\n",
              "    box-shadow: none;\n",
              "  }\n",
              "\n",
              "  .colab-df-spinner {\n",
              "    border: 2px solid var(--fill-color);\n",
              "    border-color: transparent;\n",
              "    border-bottom-color: var(--fill-color);\n",
              "    animation:\n",
              "      spin 1s steps(1) infinite;\n",
              "  }\n",
              "\n",
              "  @keyframes spin {\n",
              "    0% {\n",
              "      border-color: transparent;\n",
              "      border-bottom-color: var(--fill-color);\n",
              "      border-left-color: var(--fill-color);\n",
              "    }\n",
              "    20% {\n",
              "      border-color: transparent;\n",
              "      border-left-color: var(--fill-color);\n",
              "      border-top-color: var(--fill-color);\n",
              "    }\n",
              "    30% {\n",
              "      border-color: transparent;\n",
              "      border-left-color: var(--fill-color);\n",
              "      border-top-color: var(--fill-color);\n",
              "      border-right-color: var(--fill-color);\n",
              "    }\n",
              "    40% {\n",
              "      border-color: transparent;\n",
              "      border-right-color: var(--fill-color);\n",
              "      border-top-color: var(--fill-color);\n",
              "    }\n",
              "    60% {\n",
              "      border-color: transparent;\n",
              "      border-right-color: var(--fill-color);\n",
              "    }\n",
              "    80% {\n",
              "      border-color: transparent;\n",
              "      border-right-color: var(--fill-color);\n",
              "      border-bottom-color: var(--fill-color);\n",
              "    }\n",
              "    90% {\n",
              "      border-color: transparent;\n",
              "      border-bottom-color: var(--fill-color);\n",
              "    }\n",
              "  }\n",
              "</style>\n",
              "\n",
              "  <script>\n",
              "    async function quickchart(key) {\n",
              "      const quickchartButtonEl =\n",
              "        document.querySelector('#' + key + ' button');\n",
              "      quickchartButtonEl.disabled = true;  // To prevent multiple clicks.\n",
              "      quickchartButtonEl.classList.add('colab-df-spinner');\n",
              "      try {\n",
              "        const charts = await google.colab.kernel.invokeFunction(\n",
              "            'suggestCharts', [key], {});\n",
              "      } catch (error) {\n",
              "        console.error('Error during call to suggestCharts:', error);\n",
              "      }\n",
              "      quickchartButtonEl.classList.remove('colab-df-spinner');\n",
              "      quickchartButtonEl.classList.add('colab-df-quickchart-complete');\n",
              "    }\n",
              "    (() => {\n",
              "      let quickchartButtonEl =\n",
              "        document.querySelector('#df-6abe37ab-a89a-473f-93af-ee9d666d39e0 button');\n",
              "      quickchartButtonEl.style.display =\n",
              "        google.colab.kernel.accessAllowed ? 'block' : 'none';\n",
              "    })();\n",
              "  </script>\n",
              "</div>\n",
              "    </div>\n",
              "  </div>\n"
            ],
            "application/vnd.google.colaboratory.intrinsic+json": {
              "type": "dataframe",
              "variable_name": "data"
            }
          },
          "metadata": {},
          "execution_count": 77
        }
      ],
      "source": [
        "data.head()"
      ]
    },
    {
      "cell_type": "code",
      "execution_count": 78,
      "metadata": {
        "id": "csWU1nnRs000"
      },
      "outputs": [],
      "source": [
        "for single_column in [\"manufacturer\",\"model\",\"fuel\",\"type\",\"paint_color\"]:\n",
        "\n",
        "  column_df = convert_to_ohe_df(single_column)\n",
        "  data.drop(labels=single_column,axis=1,inplace=True)\n",
        "  data = pd.concat([data,column_df],axis=1)"
      ]
    },
    {
      "cell_type": "code",
      "execution_count": 79,
      "metadata": {
        "colab": {
          "base_uri": "https://localhost:8080/",
          "height": 255
        },
        "id": "SE5GY1IG1K78",
        "outputId": "611a7ae0-2a47-4d55-f5ce-0f17b792539f"
      },
      "outputs": [
        {
          "output_type": "execute_result",
          "data": {
            "text/plain": [
              "   price    year  condition  cylinders  odometer  transmission  drive  size  \\\n",
              "0  15000  2013.0          6          6  128000.0             3      2     4   \n",
              "1  27990  2012.0          3          8   68696.0             2      3     4   \n",
              "2  34590  2016.0          3          6   29499.0             2      3     4   \n",
              "3  35000  2019.0          6          6   43000.0             3      3     3   \n",
              "4  29990  2016.0          3          6   17302.0             2      3     3   \n",
              "\n",
              "   manufacturer0  manufacturer1  ...  paint_color2  paint_color3  \\\n",
              "0            1.0            0.0  ...           0.0           0.0   \n",
              "1            0.0            1.0  ...           0.0           0.0   \n",
              "2            0.0            0.0  ...           0.0           0.0   \n",
              "3            0.0            0.0  ...           1.0           0.0   \n",
              "4            0.0            0.0  ...           0.0           1.0   \n",
              "\n",
              "   paint_color4  paint_color5  paint_color6  paint_color7  paint_color8  \\\n",
              "0           0.0           0.0           0.0           0.0           0.0   \n",
              "1           0.0           0.0           0.0           0.0           0.0   \n",
              "2           0.0           0.0           0.0           0.0           0.0   \n",
              "3           0.0           0.0           0.0           0.0           0.0   \n",
              "4           0.0           0.0           0.0           0.0           0.0   \n",
              "\n",
              "   paint_color9  paint_color10  paint_color11  \n",
              "0           0.0            0.0            0.0  \n",
              "1           0.0            0.0            0.0  \n",
              "2           0.0            0.0            0.0  \n",
              "3           0.0            0.0            0.0  \n",
              "4           0.0            0.0            0.0  \n",
              "\n",
              "[5 rows x 906 columns]"
            ],
            "text/html": [
              "\n",
              "  <div id=\"df-fd1c07a3-540c-4d43-8dd2-751164e9b299\" class=\"colab-df-container\">\n",
              "    <div>\n",
              "<style scoped>\n",
              "    .dataframe tbody tr th:only-of-type {\n",
              "        vertical-align: middle;\n",
              "    }\n",
              "\n",
              "    .dataframe tbody tr th {\n",
              "        vertical-align: top;\n",
              "    }\n",
              "\n",
              "    .dataframe thead th {\n",
              "        text-align: right;\n",
              "    }\n",
              "</style>\n",
              "<table border=\"1\" class=\"dataframe\">\n",
              "  <thead>\n",
              "    <tr style=\"text-align: right;\">\n",
              "      <th></th>\n",
              "      <th>price</th>\n",
              "      <th>year</th>\n",
              "      <th>condition</th>\n",
              "      <th>cylinders</th>\n",
              "      <th>odometer</th>\n",
              "      <th>transmission</th>\n",
              "      <th>drive</th>\n",
              "      <th>size</th>\n",
              "      <th>manufacturer0</th>\n",
              "      <th>manufacturer1</th>\n",
              "      <th>...</th>\n",
              "      <th>paint_color2</th>\n",
              "      <th>paint_color3</th>\n",
              "      <th>paint_color4</th>\n",
              "      <th>paint_color5</th>\n",
              "      <th>paint_color6</th>\n",
              "      <th>paint_color7</th>\n",
              "      <th>paint_color8</th>\n",
              "      <th>paint_color9</th>\n",
              "      <th>paint_color10</th>\n",
              "      <th>paint_color11</th>\n",
              "    </tr>\n",
              "  </thead>\n",
              "  <tbody>\n",
              "    <tr>\n",
              "      <th>0</th>\n",
              "      <td>15000</td>\n",
              "      <td>2013.0</td>\n",
              "      <td>6</td>\n",
              "      <td>6</td>\n",
              "      <td>128000.0</td>\n",
              "      <td>3</td>\n",
              "      <td>2</td>\n",
              "      <td>4</td>\n",
              "      <td>1.0</td>\n",
              "      <td>0.0</td>\n",
              "      <td>...</td>\n",
              "      <td>0.0</td>\n",
              "      <td>0.0</td>\n",
              "      <td>0.0</td>\n",
              "      <td>0.0</td>\n",
              "      <td>0.0</td>\n",
              "      <td>0.0</td>\n",
              "      <td>0.0</td>\n",
              "      <td>0.0</td>\n",
              "      <td>0.0</td>\n",
              "      <td>0.0</td>\n",
              "    </tr>\n",
              "    <tr>\n",
              "      <th>1</th>\n",
              "      <td>27990</td>\n",
              "      <td>2012.0</td>\n",
              "      <td>3</td>\n",
              "      <td>8</td>\n",
              "      <td>68696.0</td>\n",
              "      <td>2</td>\n",
              "      <td>3</td>\n",
              "      <td>4</td>\n",
              "      <td>0.0</td>\n",
              "      <td>1.0</td>\n",
              "      <td>...</td>\n",
              "      <td>0.0</td>\n",
              "      <td>0.0</td>\n",
              "      <td>0.0</td>\n",
              "      <td>0.0</td>\n",
              "      <td>0.0</td>\n",
              "      <td>0.0</td>\n",
              "      <td>0.0</td>\n",
              "      <td>0.0</td>\n",
              "      <td>0.0</td>\n",
              "      <td>0.0</td>\n",
              "    </tr>\n",
              "    <tr>\n",
              "      <th>2</th>\n",
              "      <td>34590</td>\n",
              "      <td>2016.0</td>\n",
              "      <td>3</td>\n",
              "      <td>6</td>\n",
              "      <td>29499.0</td>\n",
              "      <td>2</td>\n",
              "      <td>3</td>\n",
              "      <td>4</td>\n",
              "      <td>0.0</td>\n",
              "      <td>0.0</td>\n",
              "      <td>...</td>\n",
              "      <td>0.0</td>\n",
              "      <td>0.0</td>\n",
              "      <td>0.0</td>\n",
              "      <td>0.0</td>\n",
              "      <td>0.0</td>\n",
              "      <td>0.0</td>\n",
              "      <td>0.0</td>\n",
              "      <td>0.0</td>\n",
              "      <td>0.0</td>\n",
              "      <td>0.0</td>\n",
              "    </tr>\n",
              "    <tr>\n",
              "      <th>3</th>\n",
              "      <td>35000</td>\n",
              "      <td>2019.0</td>\n",
              "      <td>6</td>\n",
              "      <td>6</td>\n",
              "      <td>43000.0</td>\n",
              "      <td>3</td>\n",
              "      <td>3</td>\n",
              "      <td>3</td>\n",
              "      <td>0.0</td>\n",
              "      <td>0.0</td>\n",
              "      <td>...</td>\n",
              "      <td>1.0</td>\n",
              "      <td>0.0</td>\n",
              "      <td>0.0</td>\n",
              "      <td>0.0</td>\n",
              "      <td>0.0</td>\n",
              "      <td>0.0</td>\n",
              "      <td>0.0</td>\n",
              "      <td>0.0</td>\n",
              "      <td>0.0</td>\n",
              "      <td>0.0</td>\n",
              "    </tr>\n",
              "    <tr>\n",
              "      <th>4</th>\n",
              "      <td>29990</td>\n",
              "      <td>2016.0</td>\n",
              "      <td>3</td>\n",
              "      <td>6</td>\n",
              "      <td>17302.0</td>\n",
              "      <td>2</td>\n",
              "      <td>3</td>\n",
              "      <td>3</td>\n",
              "      <td>0.0</td>\n",
              "      <td>0.0</td>\n",
              "      <td>...</td>\n",
              "      <td>0.0</td>\n",
              "      <td>1.0</td>\n",
              "      <td>0.0</td>\n",
              "      <td>0.0</td>\n",
              "      <td>0.0</td>\n",
              "      <td>0.0</td>\n",
              "      <td>0.0</td>\n",
              "      <td>0.0</td>\n",
              "      <td>0.0</td>\n",
              "      <td>0.0</td>\n",
              "    </tr>\n",
              "  </tbody>\n",
              "</table>\n",
              "<p>5 rows × 906 columns</p>\n",
              "</div>\n",
              "    <div class=\"colab-df-buttons\">\n",
              "\n",
              "  <div class=\"colab-df-container\">\n",
              "    <button class=\"colab-df-convert\" onclick=\"convertToInteractive('df-fd1c07a3-540c-4d43-8dd2-751164e9b299')\"\n",
              "            title=\"Convert this dataframe to an interactive table.\"\n",
              "            style=\"display:none;\">\n",
              "\n",
              "  <svg xmlns=\"http://www.w3.org/2000/svg\" height=\"24px\" viewBox=\"0 -960 960 960\">\n",
              "    <path d=\"M120-120v-720h720v720H120Zm60-500h600v-160H180v160Zm220 220h160v-160H400v160Zm0 220h160v-160H400v160ZM180-400h160v-160H180v160Zm440 0h160v-160H620v160ZM180-180h160v-160H180v160Zm440 0h160v-160H620v160Z\"/>\n",
              "  </svg>\n",
              "    </button>\n",
              "\n",
              "  <style>\n",
              "    .colab-df-container {\n",
              "      display:flex;\n",
              "      gap: 12px;\n",
              "    }\n",
              "\n",
              "    .colab-df-convert {\n",
              "      background-color: #E8F0FE;\n",
              "      border: none;\n",
              "      border-radius: 50%;\n",
              "      cursor: pointer;\n",
              "      display: none;\n",
              "      fill: #1967D2;\n",
              "      height: 32px;\n",
              "      padding: 0 0 0 0;\n",
              "      width: 32px;\n",
              "    }\n",
              "\n",
              "    .colab-df-convert:hover {\n",
              "      background-color: #E2EBFA;\n",
              "      box-shadow: 0px 1px 2px rgba(60, 64, 67, 0.3), 0px 1px 3px 1px rgba(60, 64, 67, 0.15);\n",
              "      fill: #174EA6;\n",
              "    }\n",
              "\n",
              "    .colab-df-buttons div {\n",
              "      margin-bottom: 4px;\n",
              "    }\n",
              "\n",
              "    [theme=dark] .colab-df-convert {\n",
              "      background-color: #3B4455;\n",
              "      fill: #D2E3FC;\n",
              "    }\n",
              "\n",
              "    [theme=dark] .colab-df-convert:hover {\n",
              "      background-color: #434B5C;\n",
              "      box-shadow: 0px 1px 3px 1px rgba(0, 0, 0, 0.15);\n",
              "      filter: drop-shadow(0px 1px 2px rgba(0, 0, 0, 0.3));\n",
              "      fill: #FFFFFF;\n",
              "    }\n",
              "  </style>\n",
              "\n",
              "    <script>\n",
              "      const buttonEl =\n",
              "        document.querySelector('#df-fd1c07a3-540c-4d43-8dd2-751164e9b299 button.colab-df-convert');\n",
              "      buttonEl.style.display =\n",
              "        google.colab.kernel.accessAllowed ? 'block' : 'none';\n",
              "\n",
              "      async function convertToInteractive(key) {\n",
              "        const element = document.querySelector('#df-fd1c07a3-540c-4d43-8dd2-751164e9b299');\n",
              "        const dataTable =\n",
              "          await google.colab.kernel.invokeFunction('convertToInteractive',\n",
              "                                                    [key], {});\n",
              "        if (!dataTable) return;\n",
              "\n",
              "        const docLinkHtml = 'Like what you see? Visit the ' +\n",
              "          '<a target=\"_blank\" href=https://colab.research.google.com/notebooks/data_table.ipynb>data table notebook</a>'\n",
              "          + ' to learn more about interactive tables.';\n",
              "        element.innerHTML = '';\n",
              "        dataTable['output_type'] = 'display_data';\n",
              "        await google.colab.output.renderOutput(dataTable, element);\n",
              "        const docLink = document.createElement('div');\n",
              "        docLink.innerHTML = docLinkHtml;\n",
              "        element.appendChild(docLink);\n",
              "      }\n",
              "    </script>\n",
              "  </div>\n",
              "\n",
              "\n",
              "<div id=\"df-1fc2843c-fe3f-4a8e-8866-fbb7a3f51f87\">\n",
              "  <button class=\"colab-df-quickchart\" onclick=\"quickchart('df-1fc2843c-fe3f-4a8e-8866-fbb7a3f51f87')\"\n",
              "            title=\"Suggest charts\"\n",
              "            style=\"display:none;\">\n",
              "\n",
              "<svg xmlns=\"http://www.w3.org/2000/svg\" height=\"24px\"viewBox=\"0 0 24 24\"\n",
              "     width=\"24px\">\n",
              "    <g>\n",
              "        <path d=\"M19 3H5c-1.1 0-2 .9-2 2v14c0 1.1.9 2 2 2h14c1.1 0 2-.9 2-2V5c0-1.1-.9-2-2-2zM9 17H7v-7h2v7zm4 0h-2V7h2v10zm4 0h-2v-4h2v4z\"/>\n",
              "    </g>\n",
              "</svg>\n",
              "  </button>\n",
              "\n",
              "<style>\n",
              "  .colab-df-quickchart {\n",
              "      --bg-color: #E8F0FE;\n",
              "      --fill-color: #1967D2;\n",
              "      --hover-bg-color: #E2EBFA;\n",
              "      --hover-fill-color: #174EA6;\n",
              "      --disabled-fill-color: #AAA;\n",
              "      --disabled-bg-color: #DDD;\n",
              "  }\n",
              "\n",
              "  [theme=dark] .colab-df-quickchart {\n",
              "      --bg-color: #3B4455;\n",
              "      --fill-color: #D2E3FC;\n",
              "      --hover-bg-color: #434B5C;\n",
              "      --hover-fill-color: #FFFFFF;\n",
              "      --disabled-bg-color: #3B4455;\n",
              "      --disabled-fill-color: #666;\n",
              "  }\n",
              "\n",
              "  .colab-df-quickchart {\n",
              "    background-color: var(--bg-color);\n",
              "    border: none;\n",
              "    border-radius: 50%;\n",
              "    cursor: pointer;\n",
              "    display: none;\n",
              "    fill: var(--fill-color);\n",
              "    height: 32px;\n",
              "    padding: 0;\n",
              "    width: 32px;\n",
              "  }\n",
              "\n",
              "  .colab-df-quickchart:hover {\n",
              "    background-color: var(--hover-bg-color);\n",
              "    box-shadow: 0 1px 2px rgba(60, 64, 67, 0.3), 0 1px 3px 1px rgba(60, 64, 67, 0.15);\n",
              "    fill: var(--button-hover-fill-color);\n",
              "  }\n",
              "\n",
              "  .colab-df-quickchart-complete:disabled,\n",
              "  .colab-df-quickchart-complete:disabled:hover {\n",
              "    background-color: var(--disabled-bg-color);\n",
              "    fill: var(--disabled-fill-color);\n",
              "    box-shadow: none;\n",
              "  }\n",
              "\n",
              "  .colab-df-spinner {\n",
              "    border: 2px solid var(--fill-color);\n",
              "    border-color: transparent;\n",
              "    border-bottom-color: var(--fill-color);\n",
              "    animation:\n",
              "      spin 1s steps(1) infinite;\n",
              "  }\n",
              "\n",
              "  @keyframes spin {\n",
              "    0% {\n",
              "      border-color: transparent;\n",
              "      border-bottom-color: var(--fill-color);\n",
              "      border-left-color: var(--fill-color);\n",
              "    }\n",
              "    20% {\n",
              "      border-color: transparent;\n",
              "      border-left-color: var(--fill-color);\n",
              "      border-top-color: var(--fill-color);\n",
              "    }\n",
              "    30% {\n",
              "      border-color: transparent;\n",
              "      border-left-color: var(--fill-color);\n",
              "      border-top-color: var(--fill-color);\n",
              "      border-right-color: var(--fill-color);\n",
              "    }\n",
              "    40% {\n",
              "      border-color: transparent;\n",
              "      border-right-color: var(--fill-color);\n",
              "      border-top-color: var(--fill-color);\n",
              "    }\n",
              "    60% {\n",
              "      border-color: transparent;\n",
              "      border-right-color: var(--fill-color);\n",
              "    }\n",
              "    80% {\n",
              "      border-color: transparent;\n",
              "      border-right-color: var(--fill-color);\n",
              "      border-bottom-color: var(--fill-color);\n",
              "    }\n",
              "    90% {\n",
              "      border-color: transparent;\n",
              "      border-bottom-color: var(--fill-color);\n",
              "    }\n",
              "  }\n",
              "</style>\n",
              "\n",
              "  <script>\n",
              "    async function quickchart(key) {\n",
              "      const quickchartButtonEl =\n",
              "        document.querySelector('#' + key + ' button');\n",
              "      quickchartButtonEl.disabled = true;  // To prevent multiple clicks.\n",
              "      quickchartButtonEl.classList.add('colab-df-spinner');\n",
              "      try {\n",
              "        const charts = await google.colab.kernel.invokeFunction(\n",
              "            'suggestCharts', [key], {});\n",
              "      } catch (error) {\n",
              "        console.error('Error during call to suggestCharts:', error);\n",
              "      }\n",
              "      quickchartButtonEl.classList.remove('colab-df-spinner');\n",
              "      quickchartButtonEl.classList.add('colab-df-quickchart-complete');\n",
              "    }\n",
              "    (() => {\n",
              "      let quickchartButtonEl =\n",
              "        document.querySelector('#df-1fc2843c-fe3f-4a8e-8866-fbb7a3f51f87 button');\n",
              "      quickchartButtonEl.style.display =\n",
              "        google.colab.kernel.accessAllowed ? 'block' : 'none';\n",
              "    })();\n",
              "  </script>\n",
              "</div>\n",
              "    </div>\n",
              "  </div>\n"
            ],
            "application/vnd.google.colaboratory.intrinsic+json": {
              "type": "dataframe",
              "variable_name": "data"
            }
          },
          "metadata": {},
          "execution_count": 79
        }
      ],
      "source": [
        "data.head()"
      ]
    },
    {
      "cell_type": "markdown",
      "metadata": {
        "id": "o086ij775bOz"
      },
      "source": [
        "##**Let's also transform the ```year``` column of the pandas dataframe into something which represents how much old the car is by subtracting year of the oldest car in the dataset from the year of each car** or by subtracting the year when the first commercial car was introduced, that is 1886."
      ]
    },
    {
      "cell_type": "code",
      "execution_count": 80,
      "metadata": {
        "id": "X5SIxxMy5agq"
      },
      "outputs": [],
      "source": [
        "data[\"year\"] = data[\"year\"].max() - data[\"year\"]"
      ]
    },
    {
      "cell_type": "code",
      "execution_count": 81,
      "metadata": {
        "colab": {
          "base_uri": "https://localhost:8080/",
          "height": 255
        },
        "id": "eenEAsWp6iLw",
        "outputId": "804c401e-e868-44a5-9a57-d78365ab6883"
      },
      "outputs": [
        {
          "output_type": "execute_result",
          "data": {
            "text/plain": [
              "   price  year  condition  cylinders  odometer  transmission  drive  size  \\\n",
              "0  15000   9.0          6          6  128000.0             3      2     4   \n",
              "1  27990  10.0          3          8   68696.0             2      3     4   \n",
              "2  34590   6.0          3          6   29499.0             2      3     4   \n",
              "3  35000   3.0          6          6   43000.0             3      3     3   \n",
              "4  29990   6.0          3          6   17302.0             2      3     3   \n",
              "\n",
              "   manufacturer0  manufacturer1  ...  paint_color2  paint_color3  \\\n",
              "0            1.0            0.0  ...           0.0           0.0   \n",
              "1            0.0            1.0  ...           0.0           0.0   \n",
              "2            0.0            0.0  ...           0.0           0.0   \n",
              "3            0.0            0.0  ...           1.0           0.0   \n",
              "4            0.0            0.0  ...           0.0           1.0   \n",
              "\n",
              "   paint_color4  paint_color5  paint_color6  paint_color7  paint_color8  \\\n",
              "0           0.0           0.0           0.0           0.0           0.0   \n",
              "1           0.0           0.0           0.0           0.0           0.0   \n",
              "2           0.0           0.0           0.0           0.0           0.0   \n",
              "3           0.0           0.0           0.0           0.0           0.0   \n",
              "4           0.0           0.0           0.0           0.0           0.0   \n",
              "\n",
              "   paint_color9  paint_color10  paint_color11  \n",
              "0           0.0            0.0            0.0  \n",
              "1           0.0            0.0            0.0  \n",
              "2           0.0            0.0            0.0  \n",
              "3           0.0            0.0            0.0  \n",
              "4           0.0            0.0            0.0  \n",
              "\n",
              "[5 rows x 906 columns]"
            ],
            "text/html": [
              "\n",
              "  <div id=\"df-a7433068-fe36-4ed9-9867-709546d99a6f\" class=\"colab-df-container\">\n",
              "    <div>\n",
              "<style scoped>\n",
              "    .dataframe tbody tr th:only-of-type {\n",
              "        vertical-align: middle;\n",
              "    }\n",
              "\n",
              "    .dataframe tbody tr th {\n",
              "        vertical-align: top;\n",
              "    }\n",
              "\n",
              "    .dataframe thead th {\n",
              "        text-align: right;\n",
              "    }\n",
              "</style>\n",
              "<table border=\"1\" class=\"dataframe\">\n",
              "  <thead>\n",
              "    <tr style=\"text-align: right;\">\n",
              "      <th></th>\n",
              "      <th>price</th>\n",
              "      <th>year</th>\n",
              "      <th>condition</th>\n",
              "      <th>cylinders</th>\n",
              "      <th>odometer</th>\n",
              "      <th>transmission</th>\n",
              "      <th>drive</th>\n",
              "      <th>size</th>\n",
              "      <th>manufacturer0</th>\n",
              "      <th>manufacturer1</th>\n",
              "      <th>...</th>\n",
              "      <th>paint_color2</th>\n",
              "      <th>paint_color3</th>\n",
              "      <th>paint_color4</th>\n",
              "      <th>paint_color5</th>\n",
              "      <th>paint_color6</th>\n",
              "      <th>paint_color7</th>\n",
              "      <th>paint_color8</th>\n",
              "      <th>paint_color9</th>\n",
              "      <th>paint_color10</th>\n",
              "      <th>paint_color11</th>\n",
              "    </tr>\n",
              "  </thead>\n",
              "  <tbody>\n",
              "    <tr>\n",
              "      <th>0</th>\n",
              "      <td>15000</td>\n",
              "      <td>9.0</td>\n",
              "      <td>6</td>\n",
              "      <td>6</td>\n",
              "      <td>128000.0</td>\n",
              "      <td>3</td>\n",
              "      <td>2</td>\n",
              "      <td>4</td>\n",
              "      <td>1.0</td>\n",
              "      <td>0.0</td>\n",
              "      <td>...</td>\n",
              "      <td>0.0</td>\n",
              "      <td>0.0</td>\n",
              "      <td>0.0</td>\n",
              "      <td>0.0</td>\n",
              "      <td>0.0</td>\n",
              "      <td>0.0</td>\n",
              "      <td>0.0</td>\n",
              "      <td>0.0</td>\n",
              "      <td>0.0</td>\n",
              "      <td>0.0</td>\n",
              "    </tr>\n",
              "    <tr>\n",
              "      <th>1</th>\n",
              "      <td>27990</td>\n",
              "      <td>10.0</td>\n",
              "      <td>3</td>\n",
              "      <td>8</td>\n",
              "      <td>68696.0</td>\n",
              "      <td>2</td>\n",
              "      <td>3</td>\n",
              "      <td>4</td>\n",
              "      <td>0.0</td>\n",
              "      <td>1.0</td>\n",
              "      <td>...</td>\n",
              "      <td>0.0</td>\n",
              "      <td>0.0</td>\n",
              "      <td>0.0</td>\n",
              "      <td>0.0</td>\n",
              "      <td>0.0</td>\n",
              "      <td>0.0</td>\n",
              "      <td>0.0</td>\n",
              "      <td>0.0</td>\n",
              "      <td>0.0</td>\n",
              "      <td>0.0</td>\n",
              "    </tr>\n",
              "    <tr>\n",
              "      <th>2</th>\n",
              "      <td>34590</td>\n",
              "      <td>6.0</td>\n",
              "      <td>3</td>\n",
              "      <td>6</td>\n",
              "      <td>29499.0</td>\n",
              "      <td>2</td>\n",
              "      <td>3</td>\n",
              "      <td>4</td>\n",
              "      <td>0.0</td>\n",
              "      <td>0.0</td>\n",
              "      <td>...</td>\n",
              "      <td>0.0</td>\n",
              "      <td>0.0</td>\n",
              "      <td>0.0</td>\n",
              "      <td>0.0</td>\n",
              "      <td>0.0</td>\n",
              "      <td>0.0</td>\n",
              "      <td>0.0</td>\n",
              "      <td>0.0</td>\n",
              "      <td>0.0</td>\n",
              "      <td>0.0</td>\n",
              "    </tr>\n",
              "    <tr>\n",
              "      <th>3</th>\n",
              "      <td>35000</td>\n",
              "      <td>3.0</td>\n",
              "      <td>6</td>\n",
              "      <td>6</td>\n",
              "      <td>43000.0</td>\n",
              "      <td>3</td>\n",
              "      <td>3</td>\n",
              "      <td>3</td>\n",
              "      <td>0.0</td>\n",
              "      <td>0.0</td>\n",
              "      <td>...</td>\n",
              "      <td>1.0</td>\n",
              "      <td>0.0</td>\n",
              "      <td>0.0</td>\n",
              "      <td>0.0</td>\n",
              "      <td>0.0</td>\n",
              "      <td>0.0</td>\n",
              "      <td>0.0</td>\n",
              "      <td>0.0</td>\n",
              "      <td>0.0</td>\n",
              "      <td>0.0</td>\n",
              "    </tr>\n",
              "    <tr>\n",
              "      <th>4</th>\n",
              "      <td>29990</td>\n",
              "      <td>6.0</td>\n",
              "      <td>3</td>\n",
              "      <td>6</td>\n",
              "      <td>17302.0</td>\n",
              "      <td>2</td>\n",
              "      <td>3</td>\n",
              "      <td>3</td>\n",
              "      <td>0.0</td>\n",
              "      <td>0.0</td>\n",
              "      <td>...</td>\n",
              "      <td>0.0</td>\n",
              "      <td>1.0</td>\n",
              "      <td>0.0</td>\n",
              "      <td>0.0</td>\n",
              "      <td>0.0</td>\n",
              "      <td>0.0</td>\n",
              "      <td>0.0</td>\n",
              "      <td>0.0</td>\n",
              "      <td>0.0</td>\n",
              "      <td>0.0</td>\n",
              "    </tr>\n",
              "  </tbody>\n",
              "</table>\n",
              "<p>5 rows × 906 columns</p>\n",
              "</div>\n",
              "    <div class=\"colab-df-buttons\">\n",
              "\n",
              "  <div class=\"colab-df-container\">\n",
              "    <button class=\"colab-df-convert\" onclick=\"convertToInteractive('df-a7433068-fe36-4ed9-9867-709546d99a6f')\"\n",
              "            title=\"Convert this dataframe to an interactive table.\"\n",
              "            style=\"display:none;\">\n",
              "\n",
              "  <svg xmlns=\"http://www.w3.org/2000/svg\" height=\"24px\" viewBox=\"0 -960 960 960\">\n",
              "    <path d=\"M120-120v-720h720v720H120Zm60-500h600v-160H180v160Zm220 220h160v-160H400v160Zm0 220h160v-160H400v160ZM180-400h160v-160H180v160Zm440 0h160v-160H620v160ZM180-180h160v-160H180v160Zm440 0h160v-160H620v160Z\"/>\n",
              "  </svg>\n",
              "    </button>\n",
              "\n",
              "  <style>\n",
              "    .colab-df-container {\n",
              "      display:flex;\n",
              "      gap: 12px;\n",
              "    }\n",
              "\n",
              "    .colab-df-convert {\n",
              "      background-color: #E8F0FE;\n",
              "      border: none;\n",
              "      border-radius: 50%;\n",
              "      cursor: pointer;\n",
              "      display: none;\n",
              "      fill: #1967D2;\n",
              "      height: 32px;\n",
              "      padding: 0 0 0 0;\n",
              "      width: 32px;\n",
              "    }\n",
              "\n",
              "    .colab-df-convert:hover {\n",
              "      background-color: #E2EBFA;\n",
              "      box-shadow: 0px 1px 2px rgba(60, 64, 67, 0.3), 0px 1px 3px 1px rgba(60, 64, 67, 0.15);\n",
              "      fill: #174EA6;\n",
              "    }\n",
              "\n",
              "    .colab-df-buttons div {\n",
              "      margin-bottom: 4px;\n",
              "    }\n",
              "\n",
              "    [theme=dark] .colab-df-convert {\n",
              "      background-color: #3B4455;\n",
              "      fill: #D2E3FC;\n",
              "    }\n",
              "\n",
              "    [theme=dark] .colab-df-convert:hover {\n",
              "      background-color: #434B5C;\n",
              "      box-shadow: 0px 1px 3px 1px rgba(0, 0, 0, 0.15);\n",
              "      filter: drop-shadow(0px 1px 2px rgba(0, 0, 0, 0.3));\n",
              "      fill: #FFFFFF;\n",
              "    }\n",
              "  </style>\n",
              "\n",
              "    <script>\n",
              "      const buttonEl =\n",
              "        document.querySelector('#df-a7433068-fe36-4ed9-9867-709546d99a6f button.colab-df-convert');\n",
              "      buttonEl.style.display =\n",
              "        google.colab.kernel.accessAllowed ? 'block' : 'none';\n",
              "\n",
              "      async function convertToInteractive(key) {\n",
              "        const element = document.querySelector('#df-a7433068-fe36-4ed9-9867-709546d99a6f');\n",
              "        const dataTable =\n",
              "          await google.colab.kernel.invokeFunction('convertToInteractive',\n",
              "                                                    [key], {});\n",
              "        if (!dataTable) return;\n",
              "\n",
              "        const docLinkHtml = 'Like what you see? Visit the ' +\n",
              "          '<a target=\"_blank\" href=https://colab.research.google.com/notebooks/data_table.ipynb>data table notebook</a>'\n",
              "          + ' to learn more about interactive tables.';\n",
              "        element.innerHTML = '';\n",
              "        dataTable['output_type'] = 'display_data';\n",
              "        await google.colab.output.renderOutput(dataTable, element);\n",
              "        const docLink = document.createElement('div');\n",
              "        docLink.innerHTML = docLinkHtml;\n",
              "        element.appendChild(docLink);\n",
              "      }\n",
              "    </script>\n",
              "  </div>\n",
              "\n",
              "\n",
              "<div id=\"df-9c96aac7-68f7-4d47-9185-e7e6be359b61\">\n",
              "  <button class=\"colab-df-quickchart\" onclick=\"quickchart('df-9c96aac7-68f7-4d47-9185-e7e6be359b61')\"\n",
              "            title=\"Suggest charts\"\n",
              "            style=\"display:none;\">\n",
              "\n",
              "<svg xmlns=\"http://www.w3.org/2000/svg\" height=\"24px\"viewBox=\"0 0 24 24\"\n",
              "     width=\"24px\">\n",
              "    <g>\n",
              "        <path d=\"M19 3H5c-1.1 0-2 .9-2 2v14c0 1.1.9 2 2 2h14c1.1 0 2-.9 2-2V5c0-1.1-.9-2-2-2zM9 17H7v-7h2v7zm4 0h-2V7h2v10zm4 0h-2v-4h2v4z\"/>\n",
              "    </g>\n",
              "</svg>\n",
              "  </button>\n",
              "\n",
              "<style>\n",
              "  .colab-df-quickchart {\n",
              "      --bg-color: #E8F0FE;\n",
              "      --fill-color: #1967D2;\n",
              "      --hover-bg-color: #E2EBFA;\n",
              "      --hover-fill-color: #174EA6;\n",
              "      --disabled-fill-color: #AAA;\n",
              "      --disabled-bg-color: #DDD;\n",
              "  }\n",
              "\n",
              "  [theme=dark] .colab-df-quickchart {\n",
              "      --bg-color: #3B4455;\n",
              "      --fill-color: #D2E3FC;\n",
              "      --hover-bg-color: #434B5C;\n",
              "      --hover-fill-color: #FFFFFF;\n",
              "      --disabled-bg-color: #3B4455;\n",
              "      --disabled-fill-color: #666;\n",
              "  }\n",
              "\n",
              "  .colab-df-quickchart {\n",
              "    background-color: var(--bg-color);\n",
              "    border: none;\n",
              "    border-radius: 50%;\n",
              "    cursor: pointer;\n",
              "    display: none;\n",
              "    fill: var(--fill-color);\n",
              "    height: 32px;\n",
              "    padding: 0;\n",
              "    width: 32px;\n",
              "  }\n",
              "\n",
              "  .colab-df-quickchart:hover {\n",
              "    background-color: var(--hover-bg-color);\n",
              "    box-shadow: 0 1px 2px rgba(60, 64, 67, 0.3), 0 1px 3px 1px rgba(60, 64, 67, 0.15);\n",
              "    fill: var(--button-hover-fill-color);\n",
              "  }\n",
              "\n",
              "  .colab-df-quickchart-complete:disabled,\n",
              "  .colab-df-quickchart-complete:disabled:hover {\n",
              "    background-color: var(--disabled-bg-color);\n",
              "    fill: var(--disabled-fill-color);\n",
              "    box-shadow: none;\n",
              "  }\n",
              "\n",
              "  .colab-df-spinner {\n",
              "    border: 2px solid var(--fill-color);\n",
              "    border-color: transparent;\n",
              "    border-bottom-color: var(--fill-color);\n",
              "    animation:\n",
              "      spin 1s steps(1) infinite;\n",
              "  }\n",
              "\n",
              "  @keyframes spin {\n",
              "    0% {\n",
              "      border-color: transparent;\n",
              "      border-bottom-color: var(--fill-color);\n",
              "      border-left-color: var(--fill-color);\n",
              "    }\n",
              "    20% {\n",
              "      border-color: transparent;\n",
              "      border-left-color: var(--fill-color);\n",
              "      border-top-color: var(--fill-color);\n",
              "    }\n",
              "    30% {\n",
              "      border-color: transparent;\n",
              "      border-left-color: var(--fill-color);\n",
              "      border-top-color: var(--fill-color);\n",
              "      border-right-color: var(--fill-color);\n",
              "    }\n",
              "    40% {\n",
              "      border-color: transparent;\n",
              "      border-right-color: var(--fill-color);\n",
              "      border-top-color: var(--fill-color);\n",
              "    }\n",
              "    60% {\n",
              "      border-color: transparent;\n",
              "      border-right-color: var(--fill-color);\n",
              "    }\n",
              "    80% {\n",
              "      border-color: transparent;\n",
              "      border-right-color: var(--fill-color);\n",
              "      border-bottom-color: var(--fill-color);\n",
              "    }\n",
              "    90% {\n",
              "      border-color: transparent;\n",
              "      border-bottom-color: var(--fill-color);\n",
              "    }\n",
              "  }\n",
              "</style>\n",
              "\n",
              "  <script>\n",
              "    async function quickchart(key) {\n",
              "      const quickchartButtonEl =\n",
              "        document.querySelector('#' + key + ' button');\n",
              "      quickchartButtonEl.disabled = true;  // To prevent multiple clicks.\n",
              "      quickchartButtonEl.classList.add('colab-df-spinner');\n",
              "      try {\n",
              "        const charts = await google.colab.kernel.invokeFunction(\n",
              "            'suggestCharts', [key], {});\n",
              "      } catch (error) {\n",
              "        console.error('Error during call to suggestCharts:', error);\n",
              "      }\n",
              "      quickchartButtonEl.classList.remove('colab-df-spinner');\n",
              "      quickchartButtonEl.classList.add('colab-df-quickchart-complete');\n",
              "    }\n",
              "    (() => {\n",
              "      let quickchartButtonEl =\n",
              "        document.querySelector('#df-9c96aac7-68f7-4d47-9185-e7e6be359b61 button');\n",
              "      quickchartButtonEl.style.display =\n",
              "        google.colab.kernel.accessAllowed ? 'block' : 'none';\n",
              "    })();\n",
              "  </script>\n",
              "</div>\n",
              "    </div>\n",
              "  </div>\n"
            ],
            "application/vnd.google.colaboratory.intrinsic+json": {
              "type": "dataframe",
              "variable_name": "data"
            }
          },
          "metadata": {},
          "execution_count": 81
        }
      ],
      "source": [
        "data.head()"
      ]
    },
    {
      "cell_type": "code",
      "execution_count": 82,
      "metadata": {
        "id": "xS-Unu1C7ntW"
      },
      "outputs": [],
      "source": [
        "data.to_csv(\"/content/updated_cleaned_vehicles.csv\",index=False)"
      ]
    },
    {
      "cell_type": "code",
      "execution_count": 83,
      "metadata": {
        "colab": {
          "base_uri": "https://localhost:8080/"
        },
        "id": "yaewv_zB2Vgb",
        "outputId": "25feb3a0-c8c6-409d-e5bf-7661d65a1811"
      },
      "outputs": [
        {
          "output_type": "stream",
          "name": "stdout",
          "text": [
            "cp: cannot create regular file '/content/drive/MyDrive/': No such file or directory\n"
          ]
        }
      ],
      "source": [
        "!cp /content/updated_cleaned_vehicles.csv /content/drive/MyDrive/"
      ]
    },
    {
      "cell_type": "code",
      "execution_count": 84,
      "metadata": {
        "colab": {
          "base_uri": "https://localhost:8080/"
        },
        "id": "ckraAvn72pUl",
        "outputId": "305bd48a-b1e3-4f73-d829-8e475f616b35"
      },
      "outputs": [
        {
          "output_type": "stream",
          "name": "stdout",
          "text": [
            "cp: cannot stat '/content/drive/MyDrive/updated_cleaned_vehicles.csv': No such file or directory\n"
          ]
        }
      ],
      "source": [
        "!cp /content/drive/MyDrive/updated_cleaned_vehicles.csv /content/"
      ]
    },
    {
      "cell_type": "markdown",
      "metadata": {
        "id": "nrpGYMoN3MGw"
      },
      "source": [
        "##Let's filter out those input feature columns which have high pearson correlation with the ```price``` column.  "
      ]
    },
    {
      "cell_type": "code",
      "execution_count": 85,
      "metadata": {
        "id": "nfAxyrerF6St"
      },
      "outputs": [],
      "source": [
        "data = pd.read_csv(\"/content/updated_cleaned_vehicles.csv\")"
      ]
    },
    {
      "cell_type": "code",
      "execution_count": 86,
      "metadata": {
        "id": "O6em3ezj3z1O",
        "colab": {
          "base_uri": "https://localhost:8080/",
          "height": 53
        },
        "outputId": "6fc0d82e-de82-4cc9-dc8f-3df85a7060e9"
      },
      "outputs": [
        {
          "output_type": "execute_result",
          "data": {
            "text/plain": [
              "'\\npearson_corr = list()\\n\\nfor single_column in data.columns:\\n  pearson_corr.append(data[\"price\"].corr(data[single_column]))\\n\\nrelevant_columns_idx = np.argwhere(np.abs(np.array(pearson_corr))>10**(-2))\\n'"
            ],
            "application/vnd.google.colaboratory.intrinsic+json": {
              "type": "string"
            }
          },
          "metadata": {},
          "execution_count": 86
        }
      ],
      "source": [
        "\"\"\"\n",
        "pearson_corr = list()\n",
        "\n",
        "for single_column in data.columns:\n",
        "  pearson_corr.append(data[\"price\"].corr(data[single_column]))\n",
        "\n",
        "relevant_columns_idx = np.argwhere(np.abs(np.array(pearson_corr))>10**(-2))\n",
        "\"\"\""
      ]
    },
    {
      "cell_type": "code",
      "execution_count": 87,
      "metadata": {
        "id": "web6z8VZE8Ot",
        "colab": {
          "base_uri": "https://localhost:8080/",
          "height": 35
        },
        "outputId": "04567f18-2742-41b5-bd3d-035259a4a9df"
      },
      "outputs": [
        {
          "output_type": "execute_result",
          "data": {
            "text/plain": [
              "'\\nrelevant_columns_idx[:,0]\\n'"
            ],
            "application/vnd.google.colaboratory.intrinsic+json": {
              "type": "string"
            }
          },
          "metadata": {},
          "execution_count": 87
        }
      ],
      "source": [
        "\"\"\"\n",
        "relevant_columns_idx[:,0]\n",
        "\"\"\""
      ]
    },
    {
      "cell_type": "code",
      "execution_count": 88,
      "metadata": {
        "id": "sgkJu1hEFbkE",
        "colab": {
          "base_uri": "https://localhost:8080/",
          "height": 35
        },
        "outputId": "b56b2804-c145-4954-f0e6-74fbfd59b36f"
      },
      "outputs": [
        {
          "output_type": "execute_result",
          "data": {
            "text/plain": [
              "'\\ndata = data.iloc[:,relevant_columns_idx[:,0]]\\n'"
            ],
            "application/vnd.google.colaboratory.intrinsic+json": {
              "type": "string"
            }
          },
          "metadata": {},
          "execution_count": 88
        }
      ],
      "source": [
        "\"\"\"\n",
        "data = data.iloc[:,relevant_columns_idx[:,0]]\n",
        "\"\"\""
      ]
    },
    {
      "cell_type": "code",
      "execution_count": 89,
      "metadata": {
        "id": "nl4tipYBFnbz",
        "colab": {
          "base_uri": "https://localhost:8080/",
          "height": 255
        },
        "outputId": "be16771e-6a7d-4baf-d6ef-61dc5f4ae4be"
      },
      "outputs": [
        {
          "output_type": "execute_result",
          "data": {
            "text/plain": [
              "   price  year  condition  cylinders  odometer  transmission  drive  size  \\\n",
              "0  15000   9.0          6          6  128000.0             3      2     4   \n",
              "1  27990  10.0          3          8   68696.0             2      3     4   \n",
              "2  34590   6.0          3          6   29499.0             2      3     4   \n",
              "3  35000   3.0          6          6   43000.0             3      3     3   \n",
              "4  29990   6.0          3          6   17302.0             2      3     3   \n",
              "\n",
              "   manufacturer0  manufacturer1  ...  paint_color2  paint_color3  \\\n",
              "0            1.0            0.0  ...           0.0           0.0   \n",
              "1            0.0            1.0  ...           0.0           0.0   \n",
              "2            0.0            0.0  ...           0.0           0.0   \n",
              "3            0.0            0.0  ...           1.0           0.0   \n",
              "4            0.0            0.0  ...           0.0           1.0   \n",
              "\n",
              "   paint_color4  paint_color5  paint_color6  paint_color7  paint_color8  \\\n",
              "0           0.0           0.0           0.0           0.0           0.0   \n",
              "1           0.0           0.0           0.0           0.0           0.0   \n",
              "2           0.0           0.0           0.0           0.0           0.0   \n",
              "3           0.0           0.0           0.0           0.0           0.0   \n",
              "4           0.0           0.0           0.0           0.0           0.0   \n",
              "\n",
              "   paint_color9  paint_color10  paint_color11  \n",
              "0           0.0            0.0            0.0  \n",
              "1           0.0            0.0            0.0  \n",
              "2           0.0            0.0            0.0  \n",
              "3           0.0            0.0            0.0  \n",
              "4           0.0            0.0            0.0  \n",
              "\n",
              "[5 rows x 906 columns]"
            ],
            "text/html": [
              "\n",
              "  <div id=\"df-49851fe9-8a3d-4f40-842c-c3508632bf7f\" class=\"colab-df-container\">\n",
              "    <div>\n",
              "<style scoped>\n",
              "    .dataframe tbody tr th:only-of-type {\n",
              "        vertical-align: middle;\n",
              "    }\n",
              "\n",
              "    .dataframe tbody tr th {\n",
              "        vertical-align: top;\n",
              "    }\n",
              "\n",
              "    .dataframe thead th {\n",
              "        text-align: right;\n",
              "    }\n",
              "</style>\n",
              "<table border=\"1\" class=\"dataframe\">\n",
              "  <thead>\n",
              "    <tr style=\"text-align: right;\">\n",
              "      <th></th>\n",
              "      <th>price</th>\n",
              "      <th>year</th>\n",
              "      <th>condition</th>\n",
              "      <th>cylinders</th>\n",
              "      <th>odometer</th>\n",
              "      <th>transmission</th>\n",
              "      <th>drive</th>\n",
              "      <th>size</th>\n",
              "      <th>manufacturer0</th>\n",
              "      <th>manufacturer1</th>\n",
              "      <th>...</th>\n",
              "      <th>paint_color2</th>\n",
              "      <th>paint_color3</th>\n",
              "      <th>paint_color4</th>\n",
              "      <th>paint_color5</th>\n",
              "      <th>paint_color6</th>\n",
              "      <th>paint_color7</th>\n",
              "      <th>paint_color8</th>\n",
              "      <th>paint_color9</th>\n",
              "      <th>paint_color10</th>\n",
              "      <th>paint_color11</th>\n",
              "    </tr>\n",
              "  </thead>\n",
              "  <tbody>\n",
              "    <tr>\n",
              "      <th>0</th>\n",
              "      <td>15000</td>\n",
              "      <td>9.0</td>\n",
              "      <td>6</td>\n",
              "      <td>6</td>\n",
              "      <td>128000.0</td>\n",
              "      <td>3</td>\n",
              "      <td>2</td>\n",
              "      <td>4</td>\n",
              "      <td>1.0</td>\n",
              "      <td>0.0</td>\n",
              "      <td>...</td>\n",
              "      <td>0.0</td>\n",
              "      <td>0.0</td>\n",
              "      <td>0.0</td>\n",
              "      <td>0.0</td>\n",
              "      <td>0.0</td>\n",
              "      <td>0.0</td>\n",
              "      <td>0.0</td>\n",
              "      <td>0.0</td>\n",
              "      <td>0.0</td>\n",
              "      <td>0.0</td>\n",
              "    </tr>\n",
              "    <tr>\n",
              "      <th>1</th>\n",
              "      <td>27990</td>\n",
              "      <td>10.0</td>\n",
              "      <td>3</td>\n",
              "      <td>8</td>\n",
              "      <td>68696.0</td>\n",
              "      <td>2</td>\n",
              "      <td>3</td>\n",
              "      <td>4</td>\n",
              "      <td>0.0</td>\n",
              "      <td>1.0</td>\n",
              "      <td>...</td>\n",
              "      <td>0.0</td>\n",
              "      <td>0.0</td>\n",
              "      <td>0.0</td>\n",
              "      <td>0.0</td>\n",
              "      <td>0.0</td>\n",
              "      <td>0.0</td>\n",
              "      <td>0.0</td>\n",
              "      <td>0.0</td>\n",
              "      <td>0.0</td>\n",
              "      <td>0.0</td>\n",
              "    </tr>\n",
              "    <tr>\n",
              "      <th>2</th>\n",
              "      <td>34590</td>\n",
              "      <td>6.0</td>\n",
              "      <td>3</td>\n",
              "      <td>6</td>\n",
              "      <td>29499.0</td>\n",
              "      <td>2</td>\n",
              "      <td>3</td>\n",
              "      <td>4</td>\n",
              "      <td>0.0</td>\n",
              "      <td>0.0</td>\n",
              "      <td>...</td>\n",
              "      <td>0.0</td>\n",
              "      <td>0.0</td>\n",
              "      <td>0.0</td>\n",
              "      <td>0.0</td>\n",
              "      <td>0.0</td>\n",
              "      <td>0.0</td>\n",
              "      <td>0.0</td>\n",
              "      <td>0.0</td>\n",
              "      <td>0.0</td>\n",
              "      <td>0.0</td>\n",
              "    </tr>\n",
              "    <tr>\n",
              "      <th>3</th>\n",
              "      <td>35000</td>\n",
              "      <td>3.0</td>\n",
              "      <td>6</td>\n",
              "      <td>6</td>\n",
              "      <td>43000.0</td>\n",
              "      <td>3</td>\n",
              "      <td>3</td>\n",
              "      <td>3</td>\n",
              "      <td>0.0</td>\n",
              "      <td>0.0</td>\n",
              "      <td>...</td>\n",
              "      <td>1.0</td>\n",
              "      <td>0.0</td>\n",
              "      <td>0.0</td>\n",
              "      <td>0.0</td>\n",
              "      <td>0.0</td>\n",
              "      <td>0.0</td>\n",
              "      <td>0.0</td>\n",
              "      <td>0.0</td>\n",
              "      <td>0.0</td>\n",
              "      <td>0.0</td>\n",
              "    </tr>\n",
              "    <tr>\n",
              "      <th>4</th>\n",
              "      <td>29990</td>\n",
              "      <td>6.0</td>\n",
              "      <td>3</td>\n",
              "      <td>6</td>\n",
              "      <td>17302.0</td>\n",
              "      <td>2</td>\n",
              "      <td>3</td>\n",
              "      <td>3</td>\n",
              "      <td>0.0</td>\n",
              "      <td>0.0</td>\n",
              "      <td>...</td>\n",
              "      <td>0.0</td>\n",
              "      <td>1.0</td>\n",
              "      <td>0.0</td>\n",
              "      <td>0.0</td>\n",
              "      <td>0.0</td>\n",
              "      <td>0.0</td>\n",
              "      <td>0.0</td>\n",
              "      <td>0.0</td>\n",
              "      <td>0.0</td>\n",
              "      <td>0.0</td>\n",
              "    </tr>\n",
              "  </tbody>\n",
              "</table>\n",
              "<p>5 rows × 906 columns</p>\n",
              "</div>\n",
              "    <div class=\"colab-df-buttons\">\n",
              "\n",
              "  <div class=\"colab-df-container\">\n",
              "    <button class=\"colab-df-convert\" onclick=\"convertToInteractive('df-49851fe9-8a3d-4f40-842c-c3508632bf7f')\"\n",
              "            title=\"Convert this dataframe to an interactive table.\"\n",
              "            style=\"display:none;\">\n",
              "\n",
              "  <svg xmlns=\"http://www.w3.org/2000/svg\" height=\"24px\" viewBox=\"0 -960 960 960\">\n",
              "    <path d=\"M120-120v-720h720v720H120Zm60-500h600v-160H180v160Zm220 220h160v-160H400v160Zm0 220h160v-160H400v160ZM180-400h160v-160H180v160Zm440 0h160v-160H620v160ZM180-180h160v-160H180v160Zm440 0h160v-160H620v160Z\"/>\n",
              "  </svg>\n",
              "    </button>\n",
              "\n",
              "  <style>\n",
              "    .colab-df-container {\n",
              "      display:flex;\n",
              "      gap: 12px;\n",
              "    }\n",
              "\n",
              "    .colab-df-convert {\n",
              "      background-color: #E8F0FE;\n",
              "      border: none;\n",
              "      border-radius: 50%;\n",
              "      cursor: pointer;\n",
              "      display: none;\n",
              "      fill: #1967D2;\n",
              "      height: 32px;\n",
              "      padding: 0 0 0 0;\n",
              "      width: 32px;\n",
              "    }\n",
              "\n",
              "    .colab-df-convert:hover {\n",
              "      background-color: #E2EBFA;\n",
              "      box-shadow: 0px 1px 2px rgba(60, 64, 67, 0.3), 0px 1px 3px 1px rgba(60, 64, 67, 0.15);\n",
              "      fill: #174EA6;\n",
              "    }\n",
              "\n",
              "    .colab-df-buttons div {\n",
              "      margin-bottom: 4px;\n",
              "    }\n",
              "\n",
              "    [theme=dark] .colab-df-convert {\n",
              "      background-color: #3B4455;\n",
              "      fill: #D2E3FC;\n",
              "    }\n",
              "\n",
              "    [theme=dark] .colab-df-convert:hover {\n",
              "      background-color: #434B5C;\n",
              "      box-shadow: 0px 1px 3px 1px rgba(0, 0, 0, 0.15);\n",
              "      filter: drop-shadow(0px 1px 2px rgba(0, 0, 0, 0.3));\n",
              "      fill: #FFFFFF;\n",
              "    }\n",
              "  </style>\n",
              "\n",
              "    <script>\n",
              "      const buttonEl =\n",
              "        document.querySelector('#df-49851fe9-8a3d-4f40-842c-c3508632bf7f button.colab-df-convert');\n",
              "      buttonEl.style.display =\n",
              "        google.colab.kernel.accessAllowed ? 'block' : 'none';\n",
              "\n",
              "      async function convertToInteractive(key) {\n",
              "        const element = document.querySelector('#df-49851fe9-8a3d-4f40-842c-c3508632bf7f');\n",
              "        const dataTable =\n",
              "          await google.colab.kernel.invokeFunction('convertToInteractive',\n",
              "                                                    [key], {});\n",
              "        if (!dataTable) return;\n",
              "\n",
              "        const docLinkHtml = 'Like what you see? Visit the ' +\n",
              "          '<a target=\"_blank\" href=https://colab.research.google.com/notebooks/data_table.ipynb>data table notebook</a>'\n",
              "          + ' to learn more about interactive tables.';\n",
              "        element.innerHTML = '';\n",
              "        dataTable['output_type'] = 'display_data';\n",
              "        await google.colab.output.renderOutput(dataTable, element);\n",
              "        const docLink = document.createElement('div');\n",
              "        docLink.innerHTML = docLinkHtml;\n",
              "        element.appendChild(docLink);\n",
              "      }\n",
              "    </script>\n",
              "  </div>\n",
              "\n",
              "\n",
              "<div id=\"df-dc0ccf98-0ec9-4a04-ad9b-6e13d14c8aaf\">\n",
              "  <button class=\"colab-df-quickchart\" onclick=\"quickchart('df-dc0ccf98-0ec9-4a04-ad9b-6e13d14c8aaf')\"\n",
              "            title=\"Suggest charts\"\n",
              "            style=\"display:none;\">\n",
              "\n",
              "<svg xmlns=\"http://www.w3.org/2000/svg\" height=\"24px\"viewBox=\"0 0 24 24\"\n",
              "     width=\"24px\">\n",
              "    <g>\n",
              "        <path d=\"M19 3H5c-1.1 0-2 .9-2 2v14c0 1.1.9 2 2 2h14c1.1 0 2-.9 2-2V5c0-1.1-.9-2-2-2zM9 17H7v-7h2v7zm4 0h-2V7h2v10zm4 0h-2v-4h2v4z\"/>\n",
              "    </g>\n",
              "</svg>\n",
              "  </button>\n",
              "\n",
              "<style>\n",
              "  .colab-df-quickchart {\n",
              "      --bg-color: #E8F0FE;\n",
              "      --fill-color: #1967D2;\n",
              "      --hover-bg-color: #E2EBFA;\n",
              "      --hover-fill-color: #174EA6;\n",
              "      --disabled-fill-color: #AAA;\n",
              "      --disabled-bg-color: #DDD;\n",
              "  }\n",
              "\n",
              "  [theme=dark] .colab-df-quickchart {\n",
              "      --bg-color: #3B4455;\n",
              "      --fill-color: #D2E3FC;\n",
              "      --hover-bg-color: #434B5C;\n",
              "      --hover-fill-color: #FFFFFF;\n",
              "      --disabled-bg-color: #3B4455;\n",
              "      --disabled-fill-color: #666;\n",
              "  }\n",
              "\n",
              "  .colab-df-quickchart {\n",
              "    background-color: var(--bg-color);\n",
              "    border: none;\n",
              "    border-radius: 50%;\n",
              "    cursor: pointer;\n",
              "    display: none;\n",
              "    fill: var(--fill-color);\n",
              "    height: 32px;\n",
              "    padding: 0;\n",
              "    width: 32px;\n",
              "  }\n",
              "\n",
              "  .colab-df-quickchart:hover {\n",
              "    background-color: var(--hover-bg-color);\n",
              "    box-shadow: 0 1px 2px rgba(60, 64, 67, 0.3), 0 1px 3px 1px rgba(60, 64, 67, 0.15);\n",
              "    fill: var(--button-hover-fill-color);\n",
              "  }\n",
              "\n",
              "  .colab-df-quickchart-complete:disabled,\n",
              "  .colab-df-quickchart-complete:disabled:hover {\n",
              "    background-color: var(--disabled-bg-color);\n",
              "    fill: var(--disabled-fill-color);\n",
              "    box-shadow: none;\n",
              "  }\n",
              "\n",
              "  .colab-df-spinner {\n",
              "    border: 2px solid var(--fill-color);\n",
              "    border-color: transparent;\n",
              "    border-bottom-color: var(--fill-color);\n",
              "    animation:\n",
              "      spin 1s steps(1) infinite;\n",
              "  }\n",
              "\n",
              "  @keyframes spin {\n",
              "    0% {\n",
              "      border-color: transparent;\n",
              "      border-bottom-color: var(--fill-color);\n",
              "      border-left-color: var(--fill-color);\n",
              "    }\n",
              "    20% {\n",
              "      border-color: transparent;\n",
              "      border-left-color: var(--fill-color);\n",
              "      border-top-color: var(--fill-color);\n",
              "    }\n",
              "    30% {\n",
              "      border-color: transparent;\n",
              "      border-left-color: var(--fill-color);\n",
              "      border-top-color: var(--fill-color);\n",
              "      border-right-color: var(--fill-color);\n",
              "    }\n",
              "    40% {\n",
              "      border-color: transparent;\n",
              "      border-right-color: var(--fill-color);\n",
              "      border-top-color: var(--fill-color);\n",
              "    }\n",
              "    60% {\n",
              "      border-color: transparent;\n",
              "      border-right-color: var(--fill-color);\n",
              "    }\n",
              "    80% {\n",
              "      border-color: transparent;\n",
              "      border-right-color: var(--fill-color);\n",
              "      border-bottom-color: var(--fill-color);\n",
              "    }\n",
              "    90% {\n",
              "      border-color: transparent;\n",
              "      border-bottom-color: var(--fill-color);\n",
              "    }\n",
              "  }\n",
              "</style>\n",
              "\n",
              "  <script>\n",
              "    async function quickchart(key) {\n",
              "      const quickchartButtonEl =\n",
              "        document.querySelector('#' + key + ' button');\n",
              "      quickchartButtonEl.disabled = true;  // To prevent multiple clicks.\n",
              "      quickchartButtonEl.classList.add('colab-df-spinner');\n",
              "      try {\n",
              "        const charts = await google.colab.kernel.invokeFunction(\n",
              "            'suggestCharts', [key], {});\n",
              "      } catch (error) {\n",
              "        console.error('Error during call to suggestCharts:', error);\n",
              "      }\n",
              "      quickchartButtonEl.classList.remove('colab-df-spinner');\n",
              "      quickchartButtonEl.classList.add('colab-df-quickchart-complete');\n",
              "    }\n",
              "    (() => {\n",
              "      let quickchartButtonEl =\n",
              "        document.querySelector('#df-dc0ccf98-0ec9-4a04-ad9b-6e13d14c8aaf button');\n",
              "      quickchartButtonEl.style.display =\n",
              "        google.colab.kernel.accessAllowed ? 'block' : 'none';\n",
              "    })();\n",
              "  </script>\n",
              "</div>\n",
              "    </div>\n",
              "  </div>\n"
            ],
            "application/vnd.google.colaboratory.intrinsic+json": {
              "type": "dataframe",
              "variable_name": "data"
            }
          },
          "metadata": {},
          "execution_count": 89
        }
      ],
      "source": [
        "data.head()"
      ]
    },
    {
      "cell_type": "code",
      "execution_count": 90,
      "metadata": {
        "id": "4MQzCEZaEHeP"
      },
      "outputs": [],
      "source": [
        "def apply_pca(X,preserved_variance_percentage):\n",
        "\n",
        "  unprojected_X = np.array(X)\n",
        "  X_cov = np.array(X.cov())\n",
        "  Q_lambda_QT = np.linalg.svd(X_cov)\n",
        "  total_variance = np.sum(Q_lambda_QT[1])\n",
        "  variance_sum = 0\n",
        "  num_eigen_vectors = 1\n",
        "\n",
        "  if preserved_variance_percentage == 1:\n",
        "    projected_X = np.matmul(unprojected_X,Q_lambda_QT[0])\n",
        "    projected_X = pd.DataFrame(data=projected_X,\n",
        "                             columns=[\"feature_\"+str(i) for i in range(X.shape[1])])\n",
        "  else:\n",
        "    for variance in Q_lambda_QT[1]:\n",
        "\n",
        "      if (variance_sum/total_variance) > preserved_variance_percentage:\n",
        "        break\n",
        "\n",
        "      variance_sum += variance\n",
        "      num_eigen_vectors += 1\n",
        "\n",
        "    projected_X = np.matmul(unprojected_X,Q_lambda_QT[0][:,0:num_eigen_vectors])\n",
        "\n",
        "    projected_X = pd.DataFrame(data=projected_X,\n",
        "                             columns=[\"feature_\"+str(i) for i in range(num_eigen_vectors)])\n",
        "\n",
        "  return projected_X"
      ]
    },
    {
      "cell_type": "code",
      "execution_count": 91,
      "metadata": {
        "id": "X_iZC5MQDqw2"
      },
      "outputs": [],
      "source": [
        "projected_X = apply_pca(data.iloc[:,1:],0.991)"
      ]
    },
    {
      "cell_type": "code",
      "execution_count": 92,
      "metadata": {
        "id": "ovOMhcQsKEYk",
        "colab": {
          "base_uri": "https://localhost:8080/",
          "height": 206
        },
        "outputId": "54fb4c8d-88a0-4c51-c11c-1a93917692be"
      },
      "outputs": [
        {
          "output_type": "execute_result",
          "data": {
            "text/plain": [
              "       feature_0  feature_1\n",
              "0 -128000.000046   8.341524\n",
              "1  -68696.000053   9.773457\n",
              "2  -29499.000032   5.930348\n",
              "3  -43000.000015   2.788631\n",
              "4  -17302.000032   5.996605"
            ],
            "text/html": [
              "\n",
              "  <div id=\"df-ac1849c0-bc85-4a90-84d6-e3ffdc3fb24b\" class=\"colab-df-container\">\n",
              "    <div>\n",
              "<style scoped>\n",
              "    .dataframe tbody tr th:only-of-type {\n",
              "        vertical-align: middle;\n",
              "    }\n",
              "\n",
              "    .dataframe tbody tr th {\n",
              "        vertical-align: top;\n",
              "    }\n",
              "\n",
              "    .dataframe thead th {\n",
              "        text-align: right;\n",
              "    }\n",
              "</style>\n",
              "<table border=\"1\" class=\"dataframe\">\n",
              "  <thead>\n",
              "    <tr style=\"text-align: right;\">\n",
              "      <th></th>\n",
              "      <th>feature_0</th>\n",
              "      <th>feature_1</th>\n",
              "    </tr>\n",
              "  </thead>\n",
              "  <tbody>\n",
              "    <tr>\n",
              "      <th>0</th>\n",
              "      <td>-128000.000046</td>\n",
              "      <td>8.341524</td>\n",
              "    </tr>\n",
              "    <tr>\n",
              "      <th>1</th>\n",
              "      <td>-68696.000053</td>\n",
              "      <td>9.773457</td>\n",
              "    </tr>\n",
              "    <tr>\n",
              "      <th>2</th>\n",
              "      <td>-29499.000032</td>\n",
              "      <td>5.930348</td>\n",
              "    </tr>\n",
              "    <tr>\n",
              "      <th>3</th>\n",
              "      <td>-43000.000015</td>\n",
              "      <td>2.788631</td>\n",
              "    </tr>\n",
              "    <tr>\n",
              "      <th>4</th>\n",
              "      <td>-17302.000032</td>\n",
              "      <td>5.996605</td>\n",
              "    </tr>\n",
              "  </tbody>\n",
              "</table>\n",
              "</div>\n",
              "    <div class=\"colab-df-buttons\">\n",
              "\n",
              "  <div class=\"colab-df-container\">\n",
              "    <button class=\"colab-df-convert\" onclick=\"convertToInteractive('df-ac1849c0-bc85-4a90-84d6-e3ffdc3fb24b')\"\n",
              "            title=\"Convert this dataframe to an interactive table.\"\n",
              "            style=\"display:none;\">\n",
              "\n",
              "  <svg xmlns=\"http://www.w3.org/2000/svg\" height=\"24px\" viewBox=\"0 -960 960 960\">\n",
              "    <path d=\"M120-120v-720h720v720H120Zm60-500h600v-160H180v160Zm220 220h160v-160H400v160Zm0 220h160v-160H400v160ZM180-400h160v-160H180v160Zm440 0h160v-160H620v160ZM180-180h160v-160H180v160Zm440 0h160v-160H620v160Z\"/>\n",
              "  </svg>\n",
              "    </button>\n",
              "\n",
              "  <style>\n",
              "    .colab-df-container {\n",
              "      display:flex;\n",
              "      gap: 12px;\n",
              "    }\n",
              "\n",
              "    .colab-df-convert {\n",
              "      background-color: #E8F0FE;\n",
              "      border: none;\n",
              "      border-radius: 50%;\n",
              "      cursor: pointer;\n",
              "      display: none;\n",
              "      fill: #1967D2;\n",
              "      height: 32px;\n",
              "      padding: 0 0 0 0;\n",
              "      width: 32px;\n",
              "    }\n",
              "\n",
              "    .colab-df-convert:hover {\n",
              "      background-color: #E2EBFA;\n",
              "      box-shadow: 0px 1px 2px rgba(60, 64, 67, 0.3), 0px 1px 3px 1px rgba(60, 64, 67, 0.15);\n",
              "      fill: #174EA6;\n",
              "    }\n",
              "\n",
              "    .colab-df-buttons div {\n",
              "      margin-bottom: 4px;\n",
              "    }\n",
              "\n",
              "    [theme=dark] .colab-df-convert {\n",
              "      background-color: #3B4455;\n",
              "      fill: #D2E3FC;\n",
              "    }\n",
              "\n",
              "    [theme=dark] .colab-df-convert:hover {\n",
              "      background-color: #434B5C;\n",
              "      box-shadow: 0px 1px 3px 1px rgba(0, 0, 0, 0.15);\n",
              "      filter: drop-shadow(0px 1px 2px rgba(0, 0, 0, 0.3));\n",
              "      fill: #FFFFFF;\n",
              "    }\n",
              "  </style>\n",
              "\n",
              "    <script>\n",
              "      const buttonEl =\n",
              "        document.querySelector('#df-ac1849c0-bc85-4a90-84d6-e3ffdc3fb24b button.colab-df-convert');\n",
              "      buttonEl.style.display =\n",
              "        google.colab.kernel.accessAllowed ? 'block' : 'none';\n",
              "\n",
              "      async function convertToInteractive(key) {\n",
              "        const element = document.querySelector('#df-ac1849c0-bc85-4a90-84d6-e3ffdc3fb24b');\n",
              "        const dataTable =\n",
              "          await google.colab.kernel.invokeFunction('convertToInteractive',\n",
              "                                                    [key], {});\n",
              "        if (!dataTable) return;\n",
              "\n",
              "        const docLinkHtml = 'Like what you see? Visit the ' +\n",
              "          '<a target=\"_blank\" href=https://colab.research.google.com/notebooks/data_table.ipynb>data table notebook</a>'\n",
              "          + ' to learn more about interactive tables.';\n",
              "        element.innerHTML = '';\n",
              "        dataTable['output_type'] = 'display_data';\n",
              "        await google.colab.output.renderOutput(dataTable, element);\n",
              "        const docLink = document.createElement('div');\n",
              "        docLink.innerHTML = docLinkHtml;\n",
              "        element.appendChild(docLink);\n",
              "      }\n",
              "    </script>\n",
              "  </div>\n",
              "\n",
              "\n",
              "<div id=\"df-925babbc-a862-4121-987e-6cede9278ab7\">\n",
              "  <button class=\"colab-df-quickchart\" onclick=\"quickchart('df-925babbc-a862-4121-987e-6cede9278ab7')\"\n",
              "            title=\"Suggest charts\"\n",
              "            style=\"display:none;\">\n",
              "\n",
              "<svg xmlns=\"http://www.w3.org/2000/svg\" height=\"24px\"viewBox=\"0 0 24 24\"\n",
              "     width=\"24px\">\n",
              "    <g>\n",
              "        <path d=\"M19 3H5c-1.1 0-2 .9-2 2v14c0 1.1.9 2 2 2h14c1.1 0 2-.9 2-2V5c0-1.1-.9-2-2-2zM9 17H7v-7h2v7zm4 0h-2V7h2v10zm4 0h-2v-4h2v4z\"/>\n",
              "    </g>\n",
              "</svg>\n",
              "  </button>\n",
              "\n",
              "<style>\n",
              "  .colab-df-quickchart {\n",
              "      --bg-color: #E8F0FE;\n",
              "      --fill-color: #1967D2;\n",
              "      --hover-bg-color: #E2EBFA;\n",
              "      --hover-fill-color: #174EA6;\n",
              "      --disabled-fill-color: #AAA;\n",
              "      --disabled-bg-color: #DDD;\n",
              "  }\n",
              "\n",
              "  [theme=dark] .colab-df-quickchart {\n",
              "      --bg-color: #3B4455;\n",
              "      --fill-color: #D2E3FC;\n",
              "      --hover-bg-color: #434B5C;\n",
              "      --hover-fill-color: #FFFFFF;\n",
              "      --disabled-bg-color: #3B4455;\n",
              "      --disabled-fill-color: #666;\n",
              "  }\n",
              "\n",
              "  .colab-df-quickchart {\n",
              "    background-color: var(--bg-color);\n",
              "    border: none;\n",
              "    border-radius: 50%;\n",
              "    cursor: pointer;\n",
              "    display: none;\n",
              "    fill: var(--fill-color);\n",
              "    height: 32px;\n",
              "    padding: 0;\n",
              "    width: 32px;\n",
              "  }\n",
              "\n",
              "  .colab-df-quickchart:hover {\n",
              "    background-color: var(--hover-bg-color);\n",
              "    box-shadow: 0 1px 2px rgba(60, 64, 67, 0.3), 0 1px 3px 1px rgba(60, 64, 67, 0.15);\n",
              "    fill: var(--button-hover-fill-color);\n",
              "  }\n",
              "\n",
              "  .colab-df-quickchart-complete:disabled,\n",
              "  .colab-df-quickchart-complete:disabled:hover {\n",
              "    background-color: var(--disabled-bg-color);\n",
              "    fill: var(--disabled-fill-color);\n",
              "    box-shadow: none;\n",
              "  }\n",
              "\n",
              "  .colab-df-spinner {\n",
              "    border: 2px solid var(--fill-color);\n",
              "    border-color: transparent;\n",
              "    border-bottom-color: var(--fill-color);\n",
              "    animation:\n",
              "      spin 1s steps(1) infinite;\n",
              "  }\n",
              "\n",
              "  @keyframes spin {\n",
              "    0% {\n",
              "      border-color: transparent;\n",
              "      border-bottom-color: var(--fill-color);\n",
              "      border-left-color: var(--fill-color);\n",
              "    }\n",
              "    20% {\n",
              "      border-color: transparent;\n",
              "      border-left-color: var(--fill-color);\n",
              "      border-top-color: var(--fill-color);\n",
              "    }\n",
              "    30% {\n",
              "      border-color: transparent;\n",
              "      border-left-color: var(--fill-color);\n",
              "      border-top-color: var(--fill-color);\n",
              "      border-right-color: var(--fill-color);\n",
              "    }\n",
              "    40% {\n",
              "      border-color: transparent;\n",
              "      border-right-color: var(--fill-color);\n",
              "      border-top-color: var(--fill-color);\n",
              "    }\n",
              "    60% {\n",
              "      border-color: transparent;\n",
              "      border-right-color: var(--fill-color);\n",
              "    }\n",
              "    80% {\n",
              "      border-color: transparent;\n",
              "      border-right-color: var(--fill-color);\n",
              "      border-bottom-color: var(--fill-color);\n",
              "    }\n",
              "    90% {\n",
              "      border-color: transparent;\n",
              "      border-bottom-color: var(--fill-color);\n",
              "    }\n",
              "  }\n",
              "</style>\n",
              "\n",
              "  <script>\n",
              "    async function quickchart(key) {\n",
              "      const quickchartButtonEl =\n",
              "        document.querySelector('#' + key + ' button');\n",
              "      quickchartButtonEl.disabled = true;  // To prevent multiple clicks.\n",
              "      quickchartButtonEl.classList.add('colab-df-spinner');\n",
              "      try {\n",
              "        const charts = await google.colab.kernel.invokeFunction(\n",
              "            'suggestCharts', [key], {});\n",
              "      } catch (error) {\n",
              "        console.error('Error during call to suggestCharts:', error);\n",
              "      }\n",
              "      quickchartButtonEl.classList.remove('colab-df-spinner');\n",
              "      quickchartButtonEl.classList.add('colab-df-quickchart-complete');\n",
              "    }\n",
              "    (() => {\n",
              "      let quickchartButtonEl =\n",
              "        document.querySelector('#df-925babbc-a862-4121-987e-6cede9278ab7 button');\n",
              "      quickchartButtonEl.style.display =\n",
              "        google.colab.kernel.accessAllowed ? 'block' : 'none';\n",
              "    })();\n",
              "  </script>\n",
              "</div>\n",
              "    </div>\n",
              "  </div>\n"
            ],
            "application/vnd.google.colaboratory.intrinsic+json": {
              "type": "dataframe",
              "variable_name": "projected_X"
            }
          },
          "metadata": {},
          "execution_count": 92
        }
      ],
      "source": [
        "projected_X.head()"
      ]
    },
    {
      "cell_type": "code",
      "execution_count": 93,
      "metadata": {
        "id": "8rFhuV5i-wkM"
      },
      "outputs": [],
      "source": [
        "projected_X = (projected_X - projected_X.mean())/projected_X.std()"
      ]
    },
    {
      "cell_type": "code",
      "execution_count": 94,
      "metadata": {
        "id": "V1piPE6htyuh"
      },
      "outputs": [],
      "source": [
        "projected_data = pd.concat([projected_X,data[\"price\"]],axis=1)"
      ]
    },
    {
      "cell_type": "code",
      "execution_count": 95,
      "metadata": {
        "id": "hjXHKaGOKSc0",
        "colab": {
          "base_uri": "https://localhost:8080/",
          "height": 470
        },
        "outputId": "6a70f736-6c05-491b-ccf0-01f0b66d3a16"
      },
      "outputs": [
        {
          "output_type": "execute_result",
          "data": {
            "text/plain": [
              "<Figure size 4000x4000 with 0 Axes>"
            ]
          },
          "metadata": {},
          "execution_count": 95
        },
        {
          "output_type": "display_data",
          "data": {
            "text/plain": [
              "<Figure size 640x480 with 2 Axes>"
            ],
            "image/png": "[encoded data removed]"
          },
          "metadata": {}
        },
        {
          "output_type": "display_data",
          "data": {
            "text/plain": [
              "<Figure size 4000x4000 with 0 Axes>"
            ]
          },
          "metadata": {}
        }
      ],
      "source": [
        "sns.heatmap(projected_data.corr(),xticklabels=True,yticklabels=True)\n",
        "plt.figure(figsize=(40,40))"
      ]
    },
    {
      "cell_type": "markdown",
      "metadata": {
        "id": "VfoUuUx2u7uR"
      },
      "source": [
        "##Now, we are going to split this data into Training and Testing Data with 70 % of the rows in Training Data and remaining 30 % in the Testing Data. Therefore, $N_\\text{train} = 0.7 \\times 144017 = 100811$ and $N_\\text{test} = (144017 - 100811) = 43206$"
      ]
    },
    {
      "cell_type": "code",
      "execution_count": 96,
      "metadata": {
        "id": "nWF6aw89uCFi"
      },
      "outputs": [],
      "source": [
        "training_data_len = int(0.7 * projected_data.shape[0])\n",
        "training_data = projected_data.iloc[0:training_data_len,:]\n",
        "\n",
        "testing_data = projected_data.iloc[training_data_len:,:]"
      ]
    },
    {
      "cell_type": "code",
      "execution_count": 97,
      "metadata": {
        "id": "sH7UEyUFxLoQ",
        "colab": {
          "base_uri": "https://localhost:8080/"
        },
        "outputId": "6f3ea79e-64e1-460b-9a55-49e3d7fba80e"
      },
      "outputs": [
        {
          "output_type": "execute_result",
          "data": {
            "text/plain": [
              "(100811, 3)"
            ]
          },
          "metadata": {},
          "execution_count": 97
        }
      ],
      "source": [
        "training_data.shape"
      ]
    },
    {
      "cell_type": "code",
      "execution_count": 98,
      "metadata": {
        "id": "V5rQjRauytfU",
        "colab": {
          "base_uri": "https://localhost:8080/"
        },
        "outputId": "0d3278dc-9bef-4acb-968f-1987f4dbc392"
      },
      "outputs": [
        {
          "output_type": "execute_result",
          "data": {
            "text/plain": [
              "(43206, 3)"
            ]
          },
          "metadata": {},
          "execution_count": 98
        }
      ],
      "source": [
        "testing_data.shape"
      ]
    },
    {
      "cell_type": "code",
      "execution_count": 99,
      "metadata": {
        "id": "urX0m5TZyvmF",
        "colab": {
          "base_uri": "https://localhost:8080/",
          "height": 206
        },
        "outputId": "ebb7647d-b993-4eec-82ae-8e4fd0095507"
      },
      "outputs": [
        {
          "output_type": "execute_result",
          "data": {
            "text/plain": [
              "   feature_0  feature_1  price\n",
              "0  -0.071109  -0.354019  15000\n",
              "1   0.182435  -0.212019  27990\n",
              "2   0.350015  -0.593127  34590\n",
              "3   0.292294  -0.904680  35000\n",
              "4   0.402161  -0.586556  29990"
            ],
            "text/html": [
              "\n",
              "  <div id=\"df-71d5bc9f-8e3a-4d52-9dbc-7e8d351f04fa\" class=\"colab-df-container\">\n",
              "    <div>\n",
              "<style scoped>\n",
              "    .dataframe tbody tr th:only-of-type {\n",
              "        vertical-align: middle;\n",
              "    }\n",
              "\n",
              "    .dataframe tbody tr th {\n",
              "        vertical-align: top;\n",
              "    }\n",
              "\n",
              "    .dataframe thead th {\n",
              "        text-align: right;\n",
              "    }\n",
              "</style>\n",
              "<table border=\"1\" class=\"dataframe\">\n",
              "  <thead>\n",
              "    <tr style=\"text-align: right;\">\n",
              "      <th></th>\n",
              "      <th>feature_0</th>\n",
              "      <th>feature_1</th>\n",
              "      <th>price</th>\n",
              "    </tr>\n",
              "  </thead>\n",
              "  <tbody>\n",
              "    <tr>\n",
              "      <th>0</th>\n",
              "      <td>-0.071109</td>\n",
              "      <td>-0.354019</td>\n",
              "      <td>15000</td>\n",
              "    </tr>\n",
              "    <tr>\n",
              "      <th>1</th>\n",
              "      <td>0.182435</td>\n",
              "      <td>-0.212019</td>\n",
              "      <td>27990</td>\n",
              "    </tr>\n",
              "    <tr>\n",
              "      <th>2</th>\n",
              "      <td>0.350015</td>\n",
              "      <td>-0.593127</td>\n",
              "      <td>34590</td>\n",
              "    </tr>\n",
              "    <tr>\n",
              "      <th>3</th>\n",
              "      <td>0.292294</td>\n",
              "      <td>-0.904680</td>\n",
              "      <td>35000</td>\n",
              "    </tr>\n",
              "    <tr>\n",
              "      <th>4</th>\n",
              "      <td>0.402161</td>\n",
              "      <td>-0.586556</td>\n",
              "      <td>29990</td>\n",
              "    </tr>\n",
              "  </tbody>\n",
              "</table>\n",
              "</div>\n",
              "    <div class=\"colab-df-buttons\">\n",
              "\n",
              "  <div class=\"colab-df-container\">\n",
              "    <button class=\"colab-df-convert\" onclick=\"convertToInteractive('df-71d5bc9f-8e3a-4d52-9dbc-7e8d351f04fa')\"\n",
              "            title=\"Convert this dataframe to an interactive table.\"\n",
              "            style=\"display:none;\">\n",
              "\n",
              "  <svg xmlns=\"http://www.w3.org/2000/svg\" height=\"24px\" viewBox=\"0 -960 960 960\">\n",
              "    <path d=\"M120-120v-720h720v720H120Zm60-500h600v-160H180v160Zm220 220h160v-160H400v160Zm0 220h160v-160H400v160ZM180-400h160v-160H180v160Zm440 0h160v-160H620v160ZM180-180h160v-160H180v160Zm440 0h160v-160H620v160Z\"/>\n",
              "  </svg>\n",
              "    </button>\n",
              "\n",
              "  <style>\n",
              "    .colab-df-container {\n",
              "      display:flex;\n",
              "      gap: 12px;\n",
              "    }\n",
              "\n",
              "    .colab-df-convert {\n",
              "      background-color: #E8F0FE;\n",
              "      border: none;\n",
              "      border-radius: 50%;\n",
              "      cursor: pointer;\n",
              "      display: none;\n",
              "      fill: #1967D2;\n",
              "      height: 32px;\n",
              "      padding: 0 0 0 0;\n",
              "      width: 32px;\n",
              "    }\n",
              "\n",
              "    .colab-df-convert:hover {\n",
              "      background-color: #E2EBFA;\n",
              "      box-shadow: 0px 1px 2px rgba(60, 64, 67, 0.3), 0px 1px 3px 1px rgba(60, 64, 67, 0.15);\n",
              "      fill: #174EA6;\n",
              "    }\n",
              "\n",
              "    .colab-df-buttons div {\n",
              "      margin-bottom: 4px;\n",
              "    }\n",
              "\n",
              "    [theme=dark] .colab-df-convert {\n",
              "      background-color: #3B4455;\n",
              "      fill: #D2E3FC;\n",
              "    }\n",
              "\n",
              "    [theme=dark] .colab-df-convert:hover {\n",
              "      background-color: #434B5C;\n",
              "      box-shadow: 0px 1px 3px 1px rgba(0, 0, 0, 0.15);\n",
              "      filter: drop-shadow(0px 1px 2px rgba(0, 0, 0, 0.3));\n",
              "      fill: #FFFFFF;\n",
              "    }\n",
              "  </style>\n",
              "\n",
              "    <script>\n",
              "      const buttonEl =\n",
              "        document.querySelector('#df-71d5bc9f-8e3a-4d52-9dbc-7e8d351f04fa button.colab-df-convert');\n",
              "      buttonEl.style.display =\n",
              "        google.colab.kernel.accessAllowed ? 'block' : 'none';\n",
              "\n",
              "      async function convertToInteractive(key) {\n",
              "        const element = document.querySelector('#df-71d5bc9f-8e3a-4d52-9dbc-7e8d351f04fa');\n",
              "        const dataTable =\n",
              "          await google.colab.kernel.invokeFunction('convertToInteractive',\n",
              "                                                    [key], {});\n",
              "        if (!dataTable) return;\n",
              "\n",
              "        const docLinkHtml = 'Like what you see? Visit the ' +\n",
              "          '<a target=\"_blank\" href=https://colab.research.google.com/notebooks/data_table.ipynb>data table notebook</a>'\n",
              "          + ' to learn more about interactive tables.';\n",
              "        element.innerHTML = '';\n",
              "        dataTable['output_type'] = 'display_data';\n",
              "        await google.colab.output.renderOutput(dataTable, element);\n",
              "        const docLink = document.createElement('div');\n",
              "        docLink.innerHTML = docLinkHtml;\n",
              "        element.appendChild(docLink);\n",
              "      }\n",
              "    </script>\n",
              "  </div>\n",
              "\n",
              "\n",
              "<div id=\"df-a7026091-f1ed-4288-b5c4-0a382f391e64\">\n",
              "  <button class=\"colab-df-quickchart\" onclick=\"quickchart('df-a7026091-f1ed-4288-b5c4-0a382f391e64')\"\n",
              "            title=\"Suggest charts\"\n",
              "            style=\"display:none;\">\n",
              "\n",
              "<svg xmlns=\"http://www.w3.org/2000/svg\" height=\"24px\"viewBox=\"0 0 24 24\"\n",
              "     width=\"24px\">\n",
              "    <g>\n",
              "        <path d=\"M19 3H5c-1.1 0-2 .9-2 2v14c0 1.1.9 2 2 2h14c1.1 0 2-.9 2-2V5c0-1.1-.9-2-2-2zM9 17H7v-7h2v7zm4 0h-2V7h2v10zm4 0h-2v-4h2v4z\"/>\n",
              "    </g>\n",
              "</svg>\n",
              "  </button>\n",
              "\n",
              "<style>\n",
              "  .colab-df-quickchart {\n",
              "      --bg-color: #E8F0FE;\n",
              "      --fill-color: #1967D2;\n",
              "      --hover-bg-color: #E2EBFA;\n",
              "      --hover-fill-color: #174EA6;\n",
              "      --disabled-fill-color: #AAA;\n",
              "      --disabled-bg-color: #DDD;\n",
              "  }\n",
              "\n",
              "  [theme=dark] .colab-df-quickchart {\n",
              "      --bg-color: #3B4455;\n",
              "      --fill-color: #D2E3FC;\n",
              "      --hover-bg-color: #434B5C;\n",
              "      --hover-fill-color: #FFFFFF;\n",
              "      --disabled-bg-color: #3B4455;\n",
              "      --disabled-fill-color: #666;\n",
              "  }\n",
              "\n",
              "  .colab-df-quickchart {\n",
              "    background-color: var(--bg-color);\n",
              "    border: none;\n",
              "    border-radius: 50%;\n",
              "    cursor: pointer;\n",
              "    display: none;\n",
              "    fill: var(--fill-color);\n",
              "    height: 32px;\n",
              "    padding: 0;\n",
              "    width: 32px;\n",
              "  }\n",
              "\n",
              "  .colab-df-quickchart:hover {\n",
              "    background-color: var(--hover-bg-color);\n",
              "    box-shadow: 0 1px 2px rgba(60, 64, 67, 0.3), 0 1px 3px 1px rgba(60, 64, 67, 0.15);\n",
              "    fill: var(--button-hover-fill-color);\n",
              "  }\n",
              "\n",
              "  .colab-df-quickchart-complete:disabled,\n",
              "  .colab-df-quickchart-complete:disabled:hover {\n",
              "    background-color: var(--disabled-bg-color);\n",
              "    fill: var(--disabled-fill-color);\n",
              "    box-shadow: none;\n",
              "  }\n",
              "\n",
              "  .colab-df-spinner {\n",
              "    border: 2px solid var(--fill-color);\n",
              "    border-color: transparent;\n",
              "    border-bottom-color: var(--fill-color);\n",
              "    animation:\n",
              "      spin 1s steps(1) infinite;\n",
              "  }\n",
              "\n",
              "  @keyframes spin {\n",
              "    0% {\n",
              "      border-color: transparent;\n",
              "      border-bottom-color: var(--fill-color);\n",
              "      border-left-color: var(--fill-color);\n",
              "    }\n",
              "    20% {\n",
              "      border-color: transparent;\n",
              "      border-left-color: var(--fill-color);\n",
              "      border-top-color: var(--fill-color);\n",
              "    }\n",
              "    30% {\n",
              "      border-color: transparent;\n",
              "      border-left-color: var(--fill-color);\n",
              "      border-top-color: var(--fill-color);\n",
              "      border-right-color: var(--fill-color);\n",
              "    }\n",
              "    40% {\n",
              "      border-color: transparent;\n",
              "      border-right-color: var(--fill-color);\n",
              "      border-top-color: var(--fill-color);\n",
              "    }\n",
              "    60% {\n",
              "      border-color: transparent;\n",
              "      border-right-color: var(--fill-color);\n",
              "    }\n",
              "    80% {\n",
              "      border-color: transparent;\n",
              "      border-right-color: var(--fill-color);\n",
              "      border-bottom-color: var(--fill-color);\n",
              "    }\n",
              "    90% {\n",
              "      border-color: transparent;\n",
              "      border-bottom-color: var(--fill-color);\n",
              "    }\n",
              "  }\n",
              "</style>\n",
              "\n",
              "  <script>\n",
              "    async function quickchart(key) {\n",
              "      const quickchartButtonEl =\n",
              "        document.querySelector('#' + key + ' button');\n",
              "      quickchartButtonEl.disabled = true;  // To prevent multiple clicks.\n",
              "      quickchartButtonEl.classList.add('colab-df-spinner');\n",
              "      try {\n",
              "        const charts = await google.colab.kernel.invokeFunction(\n",
              "            'suggestCharts', [key], {});\n",
              "      } catch (error) {\n",
              "        console.error('Error during call to suggestCharts:', error);\n",
              "      }\n",
              "      quickchartButtonEl.classList.remove('colab-df-spinner');\n",
              "      quickchartButtonEl.classList.add('colab-df-quickchart-complete');\n",
              "    }\n",
              "    (() => {\n",
              "      let quickchartButtonEl =\n",
              "        document.querySelector('#df-a7026091-f1ed-4288-b5c4-0a382f391e64 button');\n",
              "      quickchartButtonEl.style.display =\n",
              "        google.colab.kernel.accessAllowed ? 'block' : 'none';\n",
              "    })();\n",
              "  </script>\n",
              "</div>\n",
              "    </div>\n",
              "  </div>\n"
            ],
            "application/vnd.google.colaboratory.intrinsic+json": {
              "type": "dataframe",
              "variable_name": "training_data"
            }
          },
          "metadata": {},
          "execution_count": 99
        }
      ],
      "source": [
        "training_data.head()"
      ]
    },
    {
      "cell_type": "code",
      "execution_count": 100,
      "metadata": {
        "id": "MEJej7D2zKoj"
      },
      "outputs": [],
      "source": [
        "X_train_transpose = np.array(training_data.iloc[:,0:projected_data.shape[1]-1])\n",
        "y_train = np.array(training_data[\"price\"]).reshape(-1,1)\n",
        "\n",
        "X_test_transpose = np.array(testing_data.iloc[:,0:projected_data.shape[1]-1])\n",
        "y_test = np.array(testing_data[\"price\"]).reshape(-1,1)"
      ]
    },
    {
      "cell_type": "code",
      "execution_count": 101,
      "metadata": {
        "id": "ia9fmISK0Dfc",
        "colab": {
          "base_uri": "https://localhost:8080/"
        },
        "outputId": "d9f03357-d5d4-400e-e212-4a42a6c907ad"
      },
      "outputs": [
        {
          "output_type": "execute_result",
          "data": {
            "text/plain": [
              "(100811, 2)"
            ]
          },
          "metadata": {},
          "execution_count": 101
        }
      ],
      "source": [
        "X_train_transpose.shape"
      ]
    },
    {
      "cell_type": "code",
      "execution_count": 102,
      "metadata": {
        "id": "zAofSUPW2GOK",
        "colab": {
          "base_uri": "https://localhost:8080/"
        },
        "outputId": "c4ffc83b-65de-41fc-f549-a0e0a8653c86"
      },
      "outputs": [
        {
          "output_type": "execute_result",
          "data": {
            "text/plain": [
              "array([[-0.07110874, -0.35401864],\n",
              "       [ 0.18243525, -0.21201862],\n",
              "       [ 0.35001523, -0.59312682],\n",
              "       ...,\n",
              "       [ 0.04474835, -0.04898073],\n",
              "       [ 0.33023757, -0.80109591],\n",
              "       [ 0.4333841 ,  5.46756238]])"
            ]
          },
          "metadata": {},
          "execution_count": 102
        }
      ],
      "source": [
        "X_train_transpose"
      ]
    },
    {
      "cell_type": "markdown",
      "metadata": {
        "id": "CLNwyUsl2dPd"
      },
      "source": [
        "##The dataset has finally the following Input Features:\n",
        "\n",
        "##$1.$ **```manufacturer3```** $(x_1)$\n",
        "##$2.$ **```model30```** $(x_2)$\n",
        "##$3.$ **```model31```** $(x_3)$"
      ]
    },
    {
      "cell_type": "markdown",
      "metadata": {
        "id": "KS7w9qum4uz-"
      },
      "source": [
        "#The Input feature row vector of any $i^{th}$ row of the data in this case is given as:\n",
        "#\\begin{equation}\n",
        "\\vec{x}^i =\n",
        "\\begin{bmatrix}\n",
        "x_1^i \\cdots x_j^i \\cdots x_{3}^i\n",
        "\\end{bmatrix}\n",
        "\\end{equation}"
      ]
    },
    {
      "cell_type": "markdown",
      "metadata": {
        "id": "es4H8sWN4Lbh"
      },
      "source": [
        "#Therefore,\n",
        "#\\begin{equation}\n",
        "X_\\text{train}^T =\n",
        "\\begin{bmatrix}\n",
        "\\longleftarrow \\vec{x}^1 \\longrightarrow \\\\\n",
        "\\vdots \\\\\n",
        "x_1^i \\cdots x_j^i \\cdots x_{3}^i \\\\\n",
        "\\vdots \\\\\n",
        "\\longleftarrow \\vec{x}^{N_\\text{train}} \\longrightarrow\n",
        "\\end{bmatrix}\n",
        "\\end{equation}\n",
        "\n",
        "\n"
      ]
    },
    {
      "cell_type": "code",
      "execution_count": 103,
      "metadata": {
        "id": "DcHNLN_r0O2I",
        "colab": {
          "base_uri": "https://localhost:8080/"
        },
        "outputId": "b4b10879-b3a8-4bc3-a759-5d071ee70195"
      },
      "outputs": [
        {
          "output_type": "execute_result",
          "data": {
            "text/plain": [
              "(100811, 1)"
            ]
          },
          "metadata": {},
          "execution_count": 103
        }
      ],
      "source": [
        "y_train.shape"
      ]
    },
    {
      "cell_type": "markdown",
      "metadata": {
        "id": "Q3T6g7Gh10w_"
      },
      "source": [
        "#And,\n",
        "#\\begin{equation}\n",
        "\\begin{bmatrix}\n",
        "y_1 \\\\\n",
        "\\vdots \\\\\n",
        "y_i \\\\\n",
        "\\vdots \\\\\n",
        "y_{N_\\text{train}}\n",
        "\\end{bmatrix}\n",
        "\\end{equation}"
      ]
    },
    {
      "cell_type": "markdown",
      "metadata": {
        "id": "9rce7LON8Xpi"
      },
      "source": [
        "#Now, we will be **training a Linear Regression Model on our training data using Gradient Descent Algorithm** using the following update in a **while or for loop until this update rule converges to the Minima of the $MSE$, that is $(\\theta_0^*, \\vec{\\theta}^*)$** also known as Loss Function:\n",
        "\n",
        "#\\begin{equation}\n",
        "\\theta_{final} = \\theta_{initial} - \\epsilon \\cdot \\frac{\\partial MSE}{\\partial \\theta}\n",
        "\\end{equation}\n",
        "\n",
        "#Where,\n",
        "$\\frac{\\partial MSE}{\\partial \\theta_0}$\n"
      ]
    },
    {
      "cell_type": "code",
      "execution_count": 104,
      "metadata": {
        "id": "zcpWZiz2H6YA"
      },
      "outputs": [],
      "source": [
        "N_train = y_train.shape[0]"
      ]
    },
    {
      "cell_type": "code",
      "execution_count": 105,
      "metadata": {
        "id": "6Bx9lkTh0TAa"
      },
      "outputs": [],
      "source": [
        "def del_by_del_thetas(theta_0,theta):\n",
        "\n",
        "  y_pred = (theta_0 + np.matmul(X_train_transpose,theta))\n",
        "  error_vector_transpose = np.transpose(y_pred - y_train)\n",
        "\n",
        "  del_by_del_theta = (2/N_train)*np.transpose(np.matmul(error_vector_transpose,\n",
        "                                                        X_train_transpose))\n",
        "  del_by_del_theta_0 = (2/N_train)*np.sum(error_vector_transpose)\n",
        "\n",
        "  return [del_by_del_theta_0,del_by_del_theta]"
      ]
    },
    {
      "cell_type": "code",
      "execution_count": 106,
      "metadata": {
        "id": "HshNZToRwxDW"
      },
      "outputs": [],
      "source": [
        "def mae(theta_0,theta):\n",
        "\n",
        "  y_pred = (theta_0 + np.matmul(X_train_transpose,theta))\n",
        "  abs_error_vector = np.abs(y_pred - y_train)\n",
        "\n",
        "  return np.mean(abs_error_vector)"
      ]
    },
    {
      "cell_type": "markdown",
      "metadata": {
        "id": "AqqsvrtWf2xc"
      },
      "source": [
        "#Now, Finally we are going **train Linear Regression Model using Gradient Descent Algorithm.**"
      ]
    },
    {
      "cell_type": "code",
      "execution_count": 107,
      "metadata": {
        "id": "d2QVt14xfc_7",
        "colab": {
          "base_uri": "https://localhost:8080/",
          "height": 1000
        },
        "outputId": "950ef261-be0a-4a53-b81e-881abeffbec9"
      },
      "outputs": [
        {
          "output_type": "stream",
          "name": "stdout",
          "text": [
            "The Value of MAE at iteration # 0 is 30877.16790826398\n",
            "The Value of MAE at iteration # 1 is 30821.59920460758\n",
            "The Value of MAE at iteration # 2 is 30766.240491504093\n",
            "The Value of MAE at iteration # 3 is 30711.063505990973\n",
            "The Value of MAE at iteration # 4 is 30656.125855758008\n",
            "The Value of MAE at iteration # 5 is 30601.523642947293\n",
            "The Value of MAE at iteration # 6 is 30547.192122241515\n",
            "The Value of MAE at iteration # 7 is 30493.087074996558\n",
            "The Value of MAE at iteration # 8 is 30439.242307430988\n",
            "The Value of MAE at iteration # 9 is 30385.6316560063\n",
            "The Value of MAE at iteration # 10 is 30332.24210624943\n",
            "The Value of MAE at iteration # 11 is 30279.118650357726\n",
            "The Value of MAE at iteration # 12 is 30226.256171701563\n",
            "The Value of MAE at iteration # 13 is 30173.64986121921\n",
            "The Value of MAE at iteration # 14 is 30121.344235985955\n",
            "The Value of MAE at iteration # 15 is 30069.373145707796\n",
            "The Value of MAE at iteration # 16 is 30017.708661138367\n",
            "The Value of MAE at iteration # 17 is 29966.33962706378\n",
            "The Value of MAE at iteration # 18 is 29915.236296598785\n",
            "The Value of MAE at iteration # 19 is 29864.429560206885\n",
            "The Value of MAE at iteration # 20 is 29813.923440970775\n",
            "The Value of MAE at iteration # 21 is 29763.771439232838\n",
            "The Value of MAE at iteration # 22 is 29713.97898364341\n",
            "The Value of MAE at iteration # 23 is 29664.512657683063\n",
            "The Value of MAE at iteration # 24 is 29615.38711121311\n",
            "The Value of MAE at iteration # 25 is 29566.60138014839\n",
            "The Value of MAE at iteration # 26 is 29518.13138293483\n",
            "The Value of MAE at iteration # 27 is 29470.00346119072\n",
            "The Value of MAE at iteration # 28 is 29422.24254020038\n",
            "The Value of MAE at iteration # 29 is 29374.848600738384\n",
            "The Value of MAE at iteration # 30 is 29327.810500295316\n",
            "The Value of MAE at iteration # 31 is 29281.163859932152\n",
            "The Value of MAE at iteration # 32 is 29234.919809246923\n",
            "The Value of MAE at iteration # 33 is 29189.06964666261\n",
            "The Value of MAE at iteration # 34 is 29143.594985985532\n",
            "The Value of MAE at iteration # 35 is 29098.49883951837\n",
            "The Value of MAE at iteration # 36 is 29053.81983805241\n",
            "The Value of MAE at iteration # 37 is 29009.540042860546\n",
            "The Value of MAE at iteration # 38 is 28965.727254867943\n",
            "The Value of MAE at iteration # 39 is 28922.374339627397\n",
            "The Value of MAE at iteration # 40 is 28879.437251171064\n",
            "The Value of MAE at iteration # 41 is 28836.980393244492\n",
            "The Value of MAE at iteration # 42 is 28794.958556703034\n",
            "The Value of MAE at iteration # 43 is 28753.391284957186\n",
            "The Value of MAE at iteration # 44 is 28712.255890831817\n",
            "The Value of MAE at iteration # 45 is 28671.545796129896\n",
            "The Value of MAE at iteration # 46 is 28631.261812271758\n",
            "The Value of MAE at iteration # 47 is 28591.39435879151\n",
            "The Value of MAE at iteration # 48 is 28551.956688429196\n",
            "The Value of MAE at iteration # 49 is 28512.95851220891\n",
            "The Value of MAE at iteration # 50 is 28474.410358907127\n",
            "The Value of MAE at iteration # 51 is 28436.29648047632\n",
            "The Value of MAE at iteration # 52 is 28398.623187663736\n",
            "The Value of MAE at iteration # 53 is 28361.386270423543\n",
            "The Value of MAE at iteration # 54 is 28324.592366403816\n",
            "The Value of MAE at iteration # 55 is 28288.23683558627\n",
            "The Value of MAE at iteration # 56 is 28252.294183884373\n",
            "The Value of MAE at iteration # 57 is 28216.791829691247\n",
            "The Value of MAE at iteration # 58 is 28181.742099020983\n",
            "The Value of MAE at iteration # 59 is 28147.150791002794\n",
            "The Value of MAE at iteration # 60 is 28113.04236020902\n",
            "The Value of MAE at iteration # 61 is 28079.400387103564\n",
            "The Value of MAE at iteration # 62 is 28046.223802481796\n",
            "The Value of MAE at iteration # 63 is 28013.47916064291\n",
            "The Value of MAE at iteration # 64 is 27981.15588238611\n",
            "The Value of MAE at iteration # 65 is 27949.242322656693\n",
            "The Value of MAE at iteration # 66 is 27917.76546619424\n",
            "The Value of MAE at iteration # 67 is 27886.706802612283\n",
            "The Value of MAE at iteration # 68 is 27856.064922069865\n",
            "The Value of MAE at iteration # 69 is 27825.82012124568\n",
            "The Value of MAE at iteration # 70 is 27795.929533446935\n",
            "The Value of MAE at iteration # 71 is 27766.402773205846\n",
            "The Value of MAE at iteration # 72 is 27737.33389403947\n",
            "The Value of MAE at iteration # 73 is 27708.667429428584\n",
            "The Value of MAE at iteration # 74 is 27680.400430690213\n",
            "The Value of MAE at iteration # 75 is 27652.515388384552\n",
            "The Value of MAE at iteration # 76 is 27625.0356052606\n",
            "The Value of MAE at iteration # 77 is 27597.99662086846\n",
            "The Value of MAE at iteration # 78 is 27571.361970507558\n",
            "The Value of MAE at iteration # 79 is 27545.133744563147\n",
            "The Value of MAE at iteration # 80 is 27519.291218467686\n",
            "The Value of MAE at iteration # 81 is 27493.842549046687\n",
            "The Value of MAE at iteration # 82 is 27468.7778704889\n",
            "The Value of MAE at iteration # 83 is 27444.11449610611\n",
            "The Value of MAE at iteration # 84 is 27419.845968495534\n",
            "The Value of MAE at iteration # 85 is 27395.941400486037\n",
            "The Value of MAE at iteration # 86 is 27372.43306534513\n",
            "The Value of MAE at iteration # 87 is 27349.284164546025\n",
            "The Value of MAE at iteration # 88 is 27326.492863483636\n",
            "The Value of MAE at iteration # 89 is 27304.018963370585\n",
            "The Value of MAE at iteration # 90 is 27281.87769861281\n",
            "The Value of MAE at iteration # 91 is 27260.089528527104\n",
            "The Value of MAE at iteration # 92 is 27238.662519640842\n",
            "The Value of MAE at iteration # 93 is 27217.60014690724\n",
            "The Value of MAE at iteration # 94 is 27196.883678026305\n",
            "The Value of MAE at iteration # 95 is 27176.50252607473\n",
            "The Value of MAE at iteration # 96 is 27156.435725193318\n",
            "The Value of MAE at iteration # 97 is 27136.703250678038\n",
            "The Value of MAE at iteration # 98 is 27117.305054859156\n",
            "The Value of MAE at iteration # 99 is 27098.231683331687\n",
            "The Value of MAE at iteration # 100 is 27079.448537370223\n",
            "The Value of MAE at iteration # 101 is 27060.992647798103\n",
            "The Value of MAE at iteration # 102 is 27042.878497006448\n",
            "The Value of MAE at iteration # 103 is 27025.08026489071\n",
            "The Value of MAE at iteration # 104 is 27007.606818353892\n",
            "The Value of MAE at iteration # 105 is 26990.461785731444\n",
            "The Value of MAE at iteration # 106 is 26973.600612509163\n",
            "The Value of MAE at iteration # 107 is 26957.00951733559\n",
            "The Value of MAE at iteration # 108 is 26940.716517549306\n",
            "The Value of MAE at iteration # 109 is 26924.70826595103\n",
            "The Value of MAE at iteration # 110 is 26909.013135399953\n",
            "The Value of MAE at iteration # 111 is 26893.65763290771\n",
            "The Value of MAE at iteration # 112 is 26878.59678431468\n",
            "The Value of MAE at iteration # 113 is 26863.805496241723\n",
            "The Value of MAE at iteration # 114 is 26849.305446670976\n",
            "The Value of MAE at iteration # 115 is 26835.104490151818\n",
            "The Value of MAE at iteration # 116 is 26821.173816971965\n",
            "The Value of MAE at iteration # 117 is 26807.550108913016\n",
            "The Value of MAE at iteration # 118 is 26794.192281126743\n",
            "The Value of MAE at iteration # 119 is 26781.083730430186\n",
            "The Value of MAE at iteration # 120 is 26768.255340685235\n",
            "The Value of MAE at iteration # 121 is 26755.736953586613\n",
            "The Value of MAE at iteration # 122 is 26743.507890107492\n",
            "The Value of MAE at iteration # 123 is 26731.554623446682\n",
            "The Value of MAE at iteration # 124 is 26719.861164389793\n",
            "The Value of MAE at iteration # 125 is 26708.435195812788\n",
            "The Value of MAE at iteration # 126 is 26697.26663509314\n",
            "The Value of MAE at iteration # 127 is 26686.353181220384\n",
            "The Value of MAE at iteration # 128 is 26675.67512724841\n",
            "The Value of MAE at iteration # 129 is 26665.22888768313\n",
            "The Value of MAE at iteration # 130 is 26655.009745428615\n",
            "The Value of MAE at iteration # 131 is 26645.020074681543\n",
            "The Value of MAE at iteration # 132 is 26635.248069858484\n",
            "The Value of MAE at iteration # 133 is 26625.69029888671\n",
            "The Value of MAE at iteration # 134 is 26616.37065333214\n",
            "The Value of MAE at iteration # 135 is 26607.281905537453\n",
            "The Value of MAE at iteration # 136 is 26598.418005949177\n",
            "The Value of MAE at iteration # 137 is 26589.777396574762\n",
            "The Value of MAE at iteration # 138 is 26581.3481666468\n",
            "The Value of MAE at iteration # 139 is 26573.111658252048\n",
            "The Value of MAE at iteration # 140 is 26565.092331768963\n",
            "The Value of MAE at iteration # 141 is 26557.278008255926\n",
            "The Value of MAE at iteration # 142 is 26549.699953900992\n",
            "The Value of MAE at iteration # 143 is 26542.329281157847\n",
            "The Value of MAE at iteration # 144 is 26535.18104545574\n",
            "The Value of MAE at iteration # 145 is 26528.23966307782\n",
            "The Value of MAE at iteration # 146 is 26521.52280263608\n",
            "The Value of MAE at iteration # 147 is 26515.01129790476\n",
            "The Value of MAE at iteration # 148 is 26508.705729871326\n",
            "The Value of MAE at iteration # 149 is 26502.581382297394\n",
            "The Value of MAE at iteration # 150 is 26496.659741198513\n",
            "The Value of MAE at iteration # 151 is 26490.90078400757\n",
            "The Value of MAE at iteration # 152 is 26485.324847022624\n",
            "The Value of MAE at iteration # 153 is 26479.944889732287\n",
            "The Value of MAE at iteration # 154 is 26474.777586773816\n",
            "The Value of MAE at iteration # 155 is 26469.79610928627\n",
            "The Value of MAE at iteration # 156 is 26464.969310615277\n",
            "The Value of MAE at iteration # 157 is 26460.33040981764\n",
            "The Value of MAE at iteration # 158 is 26455.887420447027\n",
            "The Value of MAE at iteration # 159 is 26451.64223470176\n",
            "The Value of MAE at iteration # 160 is 26447.595449143246\n",
            "The Value of MAE at iteration # 161 is 26443.705753875995\n",
            "The Value of MAE at iteration # 162 is 26439.98896127916\n",
            "The Value of MAE at iteration # 163 is 26436.44725697792\n",
            "The Value of MAE at iteration # 164 is 26433.103477923083\n",
            "The Value of MAE at iteration # 165 is 26429.952080317227\n",
            "The Value of MAE at iteration # 166 is 26426.958514852533\n",
            "The Value of MAE at iteration # 167 is 26424.12166150933\n",
            "The Value of MAE at iteration # 168 is 26421.425379494725\n",
            "The Value of MAE at iteration # 169 is 26418.904384714337\n",
            "The Value of MAE at iteration # 170 is 26416.536958368455\n",
            "The Value of MAE at iteration # 171 is 26414.34465619272\n",
            "The Value of MAE at iteration # 172 is 26412.308483392964\n",
            "The Value of MAE at iteration # 173 is 26410.41242300979\n",
            "The Value of MAE at iteration # 174 is 26408.676814123297\n",
            "The Value of MAE at iteration # 175 is 26407.107385507567\n",
            "The Value of MAE at iteration # 176 is 26405.703614422535\n",
            "The Value of MAE at iteration # 177 is 26404.447626561447\n",
            "The Value of MAE at iteration # 178 is 26403.323551926933\n",
            "The Value of MAE at iteration # 179 is 26402.321780911916\n",
            "The Value of MAE at iteration # 180 is 26401.438127254532\n",
            "The Value of MAE at iteration # 181 is 26400.677496720233\n",
            "The Value of MAE at iteration # 182 is 26400.07687164601\n",
            "The Value of MAE at iteration # 183 is 26399.619064422917\n",
            "The Value of MAE at iteration # 184 is 26399.290245151922\n",
            "The Value of MAE at iteration # 185 is 26399.092687080887\n",
            "The Value of MAE at iteration # 186 is 26399.039834952382\n",
            "The Value of MAE at iteration # 187 is 26399.12734679778\n",
            "The Value of MAE at iteration # 188 is 26399.329144358326\n",
            "The Value of MAE at iteration # 189 is 26399.6660902363\n",
            "The Value of MAE at iteration # 190 is 26400.146549687972\n",
            "The Value of MAE at iteration # 191 is 26400.77296571828\n",
            "The Value of MAE at iteration # 192 is 26401.49192444204\n",
            "The Value of MAE at iteration # 193 is 26402.31313811216\n",
            "The Value of MAE at iteration # 194 is 26403.252102667284\n",
            "The Value of MAE at iteration # 195 is 26404.330628763753\n",
            "The Value of MAE at iteration # 196 is 26405.52972840617\n",
            "The Value of MAE at iteration # 197 is 26406.852125408634\n",
            "The Value of MAE at iteration # 198 is 26408.292356566075\n",
            "The Value of MAE at iteration # 199 is 26409.828902747788\n",
            "The Value of MAE at iteration # 200 is 26411.464065858338\n",
            "The Value of MAE at iteration # 201 is 26413.213983265287\n",
            "The Value of MAE at iteration # 202 is 26415.10538379856\n",
            "The Value of MAE at iteration # 203 is 26417.10043325716\n",
            "The Value of MAE at iteration # 204 is 26419.206567106576\n",
            "The Value of MAE at iteration # 205 is 26421.436920541622\n",
            "The Value of MAE at iteration # 206 is 26423.756669554958\n",
            "The Value of MAE at iteration # 207 is 26426.165033201116\n",
            "The Value of MAE at iteration # 208 is 26428.681807512156\n",
            "The Value of MAE at iteration # 209 is 26431.293709569945\n",
            "The Value of MAE at iteration # 210 is 26434.002356866535\n",
            "The Value of MAE at iteration # 211 is 26436.844566773445\n",
            "The Value of MAE at iteration # 212 is 26439.79251050942\n",
            "The Value of MAE at iteration # 213 is 26442.852294359825\n",
            "The Value of MAE at iteration # 214 is 26446.003677920547\n",
            "The Value of MAE at iteration # 215 is 26449.234951421444\n",
            "The Value of MAE at iteration # 216 is 26452.557169916436\n",
            "The Value of MAE at iteration # 217 is 26455.96543745146\n",
            "The Value of MAE at iteration # 218 is 26459.477553019085\n",
            "The Value of MAE at iteration # 219 is 26463.087864624573\n",
            "The Value of MAE at iteration # 220 is 26466.778370663455\n",
            "The Value of MAE at iteration # 221 is 26470.56094358114\n",
            "The Value of MAE at iteration # 222 is 26474.430799841157\n",
            "The Value of MAE at iteration # 223 is 26478.37868438615\n",
            "The Value of MAE at iteration # 224 is 26482.40831284247\n",
            "The Value of MAE at iteration # 225 is 26486.526523962704\n",
            "The Value of MAE at iteration # 226 is 26490.7557057375\n",
            "The Value of MAE at iteration # 227 is 26495.060193491267\n",
            "The Value of MAE at iteration # 228 is 26499.449045229332\n",
            "The Value of MAE at iteration # 229 is 26503.913765266803\n",
            "The Value of MAE at iteration # 230 is 26508.46063893339\n",
            "The Value of MAE at iteration # 231 is 26513.084969885873\n",
            "The Value of MAE at iteration # 232 is 26517.792325047685\n",
            "The Value of MAE at iteration # 233 is 26522.58880050384\n",
            "The Value of MAE at iteration # 234 is 26527.461088485215\n",
            "The Value of MAE at iteration # 235 is 26532.403089015454\n",
            "The Value of MAE at iteration # 236 is 26537.411732498374\n",
            "The Value of MAE at iteration # 237 is 26542.488142210754\n",
            "The Value of MAE at iteration # 238 is 26547.643774147524\n",
            "The Value of MAE at iteration # 239 is 26552.88642274753\n",
            "The Value of MAE at iteration # 240 is 26558.20039790599\n",
            "The Value of MAE at iteration # 241 is 26563.585504027527\n",
            "The Value of MAE at iteration # 242 is 26569.04061150183\n",
            "The Value of MAE at iteration # 243 is 26574.546048148815\n",
            "The Value of MAE at iteration # 244 is 26580.106324626227\n",
            "The Value of MAE at iteration # 245 is 26585.725695427118\n",
            "The Value of MAE at iteration # 246 is 26591.409020276795\n",
            "The Value of MAE at iteration # 247 is 26597.149612991347\n",
            "The Value of MAE at iteration # 248 is 26602.948929928483\n",
            "The Value of MAE at iteration # 249 is 26608.83060698701\n",
            "The Value of MAE at iteration # 250 is 26614.78142337584\n",
            "The Value of MAE at iteration # 251 is 26620.795485841998\n",
            "The Value of MAE at iteration # 252 is 26626.870245228627\n",
            "The Value of MAE at iteration # 253 is 26633.00581791503\n",
            "The Value of MAE at iteration # 254 is 26639.19883274117\n",
            "The Value of MAE at iteration # 255 is 26645.44954425241\n",
            "The Value of MAE at iteration # 256 is 26651.77067514497\n",
            "The Value of MAE at iteration # 257 is 26658.14458499805\n",
            "The Value of MAE at iteration # 258 is 26664.587468371632\n",
            "The Value of MAE at iteration # 259 is 26671.0847849382\n",
            "The Value of MAE at iteration # 260 is 26677.646783159253\n",
            "The Value of MAE at iteration # 261 is 26684.26610055588\n",
            "The Value of MAE at iteration # 262 is 26690.94357998399\n",
            "The Value of MAE at iteration # 263 is 26697.68685646422\n",
            "The Value of MAE at iteration # 264 is 26704.483949077483\n",
            "The Value of MAE at iteration # 265 is 26711.328500880038\n",
            "The Value of MAE at iteration # 266 is 26718.222926639708\n",
            "The Value of MAE at iteration # 267 is 26725.15324892515\n",
            "The Value of MAE at iteration # 268 is 26732.114934845442\n",
            "The Value of MAE at iteration # 269 is 26739.118284514745\n",
            "The Value of MAE at iteration # 270 is 26746.169684182067\n",
            "The Value of MAE at iteration # 271 is 26753.26425245703\n",
            "The Value of MAE at iteration # 272 is 26760.414345552996\n",
            "The Value of MAE at iteration # 273 is 26767.618208641426\n",
            "The Value of MAE at iteration # 274 is 26774.861992395985\n",
            "The Value of MAE at iteration # 275 is 26782.14791733481\n",
            "The Value of MAE at iteration # 276 is 26789.48588787407\n",
            "The Value of MAE at iteration # 277 is 26796.858708169326\n",
            "The Value of MAE at iteration # 278 is 26804.260339578388\n",
            "The Value of MAE at iteration # 279 is 26811.69177542267\n",
            "The Value of MAE at iteration # 280 is 26819.160647566994\n",
            "The Value of MAE at iteration # 281 is 26826.663628647602\n",
            "The Value of MAE at iteration # 282 is 26834.213419424468\n",
            "The Value of MAE at iteration # 283 is 26841.81091857729\n",
            "The Value of MAE at iteration # 284 is 26849.457833313685\n",
            "The Value of MAE at iteration # 285 is 26857.15676465962\n",
            "The Value of MAE at iteration # 286 is 26864.88061388026\n",
            "The Value of MAE at iteration # 287 is 26872.635560727187\n",
            "The Value of MAE at iteration # 288 is 26880.429855559243\n",
            "The Value of MAE at iteration # 289 is 26888.27287825689\n",
            "The Value of MAE at iteration # 290 is 26896.155223404145\n",
            "The Value of MAE at iteration # 291 is 26904.085752937543\n",
            "The Value of MAE at iteration # 292 is 26912.062975661876\n",
            "The Value of MAE at iteration # 293 is 26920.07856329512\n",
            "The Value of MAE at iteration # 294 is 26928.12881185403\n",
            "The Value of MAE at iteration # 295 is 26936.21499350799\n",
            "The Value of MAE at iteration # 296 is 26944.328501753975\n",
            "The Value of MAE at iteration # 297 is 26952.472085234815\n",
            "The Value of MAE at iteration # 298 is 26960.64874786288\n",
            "The Value of MAE at iteration # 299 is 26968.855219669684\n",
            "The Value of MAE at iteration # 300 is 26977.090968183216\n",
            "The Value of MAE at iteration # 301 is 26985.354287267422\n",
            "The Value of MAE at iteration # 302 is 26993.65957081095\n",
            "The Value of MAE at iteration # 303 is 27002.014793348735\n",
            "The Value of MAE at iteration # 304 is 27010.417462134516\n",
            "The Value of MAE at iteration # 305 is 27018.864785367747\n",
            "The Value of MAE at iteration # 306 is 27027.344211480093\n",
            "The Value of MAE at iteration # 307 is 27035.862821059607\n",
            "The Value of MAE at iteration # 308 is 27044.429140689124\n",
            "The Value of MAE at iteration # 309 is 27053.026181217116\n",
            "The Value of MAE at iteration # 310 is 27061.661998044226\n",
            "The Value of MAE at iteration # 311 is 27070.331280411792\n",
            "The Value of MAE at iteration # 312 is 27079.039142966543\n",
            "The Value of MAE at iteration # 313 is 27087.787081473813\n",
            "The Value of MAE at iteration # 314 is 27096.56619208594\n",
            "The Value of MAE at iteration # 315 is 27105.371581329786\n",
            "The Value of MAE at iteration # 316 is 27114.199686925884\n",
            "The Value of MAE at iteration # 317 is 27123.056186989783\n",
            "The Value of MAE at iteration # 318 is 27131.945958849956\n",
            "The Value of MAE at iteration # 319 is 27140.86310951\n",
            "The Value of MAE at iteration # 320 is 27149.7986648625\n",
            "The Value of MAE at iteration # 321 is 27158.762247010563\n",
            "The Value of MAE at iteration # 322 is 27167.76011329839\n",
            "The Value of MAE at iteration # 323 is 27176.777041094894\n",
            "The Value of MAE at iteration # 324 is 27185.821602157146\n",
            "The Value of MAE at iteration # 325 is 27194.899826228164\n",
            "The Value of MAE at iteration # 326 is 27204.00698480551\n",
            "The Value of MAE at iteration # 327 is 27213.13924244151\n",
            "The Value of MAE at iteration # 328 is 27222.293706122833\n",
            "The Value of MAE at iteration # 329 is 27231.4762743903\n",
            "The Value of MAE at iteration # 330 is 27240.68195223566\n",
            "The Value of MAE at iteration # 331 is 27249.909982967463\n",
            "The Value of MAE at iteration # 332 is 27259.159152292665\n",
            "The Value of MAE at iteration # 333 is 27268.424081324985\n",
            "The Value of MAE at iteration # 334 is 27277.710522197696\n",
            "The Value of MAE at iteration # 335 is 27287.024976391385\n",
            "The Value of MAE at iteration # 336 is 27296.358924598175\n",
            "The Value of MAE at iteration # 337 is 27305.71240817266\n",
            "The Value of MAE at iteration # 338 is 27315.078648671682\n",
            "The Value of MAE at iteration # 339 is 27324.46746895943\n",
            "The Value of MAE at iteration # 340 is 27333.878777091173\n",
            "The Value of MAE at iteration # 341 is 27343.307585876708\n",
            "The Value of MAE at iteration # 342 is 27352.762849996125\n",
            "The Value of MAE at iteration # 343 is 27362.231718675735\n",
            "The Value of MAE at iteration # 344 is 27371.710163280317\n",
            "The Value of MAE at iteration # 345 is 27381.20129991032\n",
            "The Value of MAE at iteration # 346 is 27390.70692588902\n",
            "The Value of MAE at iteration # 347 is 27400.239666493533\n",
            "The Value of MAE at iteration # 348 is 27409.796280377443\n",
            "The Value of MAE at iteration # 349 is 27419.36886804855\n",
            "The Value of MAE at iteration # 350 is 27428.951419779627\n",
            "The Value of MAE at iteration # 351 is 27438.547874639647\n",
            "The Value of MAE at iteration # 352 is 27448.173923686787\n",
            "The Value of MAE at iteration # 353 is 27457.80799357151\n",
            "The Value of MAE at iteration # 354 is 27467.458808016632\n",
            "The Value of MAE at iteration # 355 is 27477.129693629246\n",
            "The Value of MAE at iteration # 356 is 27486.812558201284\n",
            "The Value of MAE at iteration # 357 is 27496.510093527737\n",
            "The Value of MAE at iteration # 358 is 27506.22264092402\n",
            "The Value of MAE at iteration # 359 is 27515.95847885513\n",
            "The Value of MAE at iteration # 360 is 27525.70033926996\n",
            "The Value of MAE at iteration # 361 is 27535.453717226632\n",
            "The Value of MAE at iteration # 362 is 27545.23807282966\n",
            "The Value of MAE at iteration # 363 is 27555.03731424908\n",
            "The Value of MAE at iteration # 364 is 27564.860810536058\n",
            "The Value of MAE at iteration # 365 is 27574.705785527414\n",
            "The Value of MAE at iteration # 366 is 27584.57302940381\n",
            "The Value of MAE at iteration # 367 is 27594.448280024597\n",
            "The Value of MAE at iteration # 368 is 27604.339612149364\n",
            "The Value of MAE at iteration # 369 is 27614.24141787172\n",
            "The Value of MAE at iteration # 370 is 27624.1500497565\n",
            "The Value of MAE at iteration # 371 is 27634.06023267883\n",
            "The Value of MAE at iteration # 372 is 27643.97536647552\n",
            "The Value of MAE at iteration # 373 is 27653.898498541337\n",
            "The Value of MAE at iteration # 374 is 27663.835313181033\n",
            "The Value of MAE at iteration # 375 is 27673.783217947617\n",
            "The Value of MAE at iteration # 376 is 27683.743329437693\n",
            "The Value of MAE at iteration # 377 is 27693.721090628835\n",
            "The Value of MAE at iteration # 378 is 27703.71179247017\n",
            "The Value of MAE at iteration # 379 is 27713.714617060254\n",
            "The Value of MAE at iteration # 380 is 27723.72765383983\n",
            "The Value of MAE at iteration # 381 is 27733.75699428319\n",
            "The Value of MAE at iteration # 382 is 27743.804866146013\n",
            "The Value of MAE at iteration # 383 is 27753.86630257893\n",
            "The Value of MAE at iteration # 384 is 27763.941453729025\n",
            "The Value of MAE at iteration # 385 is 27774.026966884077\n",
            "The Value of MAE at iteration # 386 is 27784.116814776444\n",
            "The Value of MAE at iteration # 387 is 27794.21626870361\n",
            "The Value of MAE at iteration # 388 is 27804.337224288458\n",
            "The Value of MAE at iteration # 389 is 27814.466660291688\n",
            "The Value of MAE at iteration # 390 is 27824.599279965947\n",
            "The Value of MAE at iteration # 391 is 27834.741153062274\n",
            "The Value of MAE at iteration # 392 is 27844.89401803766\n",
            "The Value of MAE at iteration # 393 is 27855.054389311223\n",
            "The Value of MAE at iteration # 394 is 27865.215233008228\n",
            "The Value of MAE at iteration # 395 is 27875.381376964408\n",
            "The Value of MAE at iteration # 396 is 27885.554364378673\n",
            "The Value of MAE at iteration # 397 is 27895.736260463145\n",
            "The Value of MAE at iteration # 398 is 27905.92882149436\n",
            "The Value of MAE at iteration # 399 is 27916.12834740249\n",
            "The Value of MAE at iteration # 400 is 27926.338473911193\n",
            "The Value of MAE at iteration # 401 is 27936.554988407122\n",
            "The Value of MAE at iteration # 402 is 27946.784997947547\n",
            "The Value of MAE at iteration # 403 is 27957.02336600408\n",
            "The Value of MAE at iteration # 404 is 27967.27307273766\n",
            "The Value of MAE at iteration # 405 is 27977.538578678963\n",
            "The Value of MAE at iteration # 406 is 27987.80778879661\n",
            "The Value of MAE at iteration # 407 is 27998.07623713578\n",
            "The Value of MAE at iteration # 408 is 28008.343889925305\n",
            "The Value of MAE at iteration # 409 is 28018.612955479883\n",
            "The Value of MAE at iteration # 410 is 28028.892334553584\n",
            "The Value of MAE at iteration # 411 is 28039.17195983731\n",
            "The Value of MAE at iteration # 412 is 28049.45456634934\n",
            "The Value of MAE at iteration # 413 is 28059.74007217375\n",
            "The Value of MAE at iteration # 414 is 28070.026918416555\n",
            "The Value of MAE at iteration # 415 is 28080.318370956702\n",
            "The Value of MAE at iteration # 416 is 28090.614213908662\n",
            "The Value of MAE at iteration # 417 is 28100.922167777575\n",
            "The Value of MAE at iteration # 418 is 28111.23950318356\n",
            "The Value of MAE at iteration # 419 is 28121.55521715199\n",
            "The Value of MAE at iteration # 420 is 28131.87541455177\n",
            "The Value of MAE at iteration # 421 is 28142.205705209464\n",
            "The Value of MAE at iteration # 422 is 28152.53952888323\n",
            "The Value of MAE at iteration # 423 is 28162.879043375357\n",
            "The Value of MAE at iteration # 424 is 28173.222377253293\n",
            "The Value of MAE at iteration # 425 is 28183.574325880578\n",
            "The Value of MAE at iteration # 426 is 28193.933735352108\n",
            "The Value of MAE at iteration # 427 is 28204.29374341678\n",
            "The Value of MAE at iteration # 428 is 28214.649565952146\n",
            "The Value of MAE at iteration # 429 is 28225.00534774977\n",
            "The Value of MAE at iteration # 430 is 28235.360288112286\n",
            "The Value of MAE at iteration # 431 is 28245.706852246472\n",
            "The Value of MAE at iteration # 432 is 28256.058132340146\n",
            "The Value of MAE at iteration # 433 is 28266.412124325136\n",
            "The Value of MAE at iteration # 434 is 28276.76523277096\n",
            "The Value of MAE at iteration # 435 is 28287.120722342133\n",
            "The Value of MAE at iteration # 436 is 28297.476439652466\n",
            "The Value of MAE at iteration # 437 is 28307.832282650375\n",
            "The Value of MAE at iteration # 438 is 28318.191257237588\n",
            "The Value of MAE at iteration # 439 is 28328.551200177313\n",
            "The Value of MAE at iteration # 440 is 28338.914945071723\n",
            "The Value of MAE at iteration # 441 is 28349.282570784213\n",
            "The Value of MAE at iteration # 442 is 28359.65477391001\n",
            "The Value of MAE at iteration # 443 is 28370.02861409123\n",
            "The Value of MAE at iteration # 444 is 28380.408422140936\n",
            "The Value of MAE at iteration # 445 is 28390.791845874555\n",
            "The Value of MAE at iteration # 446 is 28401.182277454547\n",
            "The Value of MAE at iteration # 447 is 28411.570488930247\n",
            "The Value of MAE at iteration # 448 is 28421.955195968472\n",
            "The Value of MAE at iteration # 449 is 28432.333637406497\n",
            "The Value of MAE at iteration # 450 is 28442.70498403077\n",
            "The Value of MAE at iteration # 451 is 28453.071701696055\n",
            "The Value of MAE at iteration # 452 is 28463.43011888198\n",
            "The Value of MAE at iteration # 453 is 28473.78322743164\n",
            "The Value of MAE at iteration # 454 is 28484.127838765395\n",
            "The Value of MAE at iteration # 455 is 28494.46834803587\n",
            "The Value of MAE at iteration # 456 is 28504.801994079997\n",
            "The Value of MAE at iteration # 457 is 28515.127179206793\n",
            "The Value of MAE at iteration # 458 is 28525.453430541398\n",
            "The Value of MAE at iteration # 459 is 28535.779046237665\n",
            "The Value of MAE at iteration # 460 is 28546.106144360005\n",
            "The Value of MAE at iteration # 461 is 28556.440395537076\n",
            "The Value of MAE at iteration # 462 is 28566.771740889562\n",
            "The Value of MAE at iteration # 463 is 28577.10009790282\n",
            "The Value of MAE at iteration # 464 is 28587.42764094884\n",
            "The Value of MAE at iteration # 465 is 28597.760872859755\n",
            "The Value of MAE at iteration # 466 is 28608.08791117667\n",
            "The Value of MAE at iteration # 467 is 28618.40983086282\n",
            "The Value of MAE at iteration # 468 is 28628.730600490217\n",
            "The Value of MAE at iteration # 469 is 28639.050853110737\n",
            "The Value of MAE at iteration # 470 is 28649.37146932609\n",
            "The Value of MAE at iteration # 471 is 28659.691308465077\n",
            "The Value of MAE at iteration # 472 is 28670.00695868792\n",
            "The Value of MAE at iteration # 473 is 28680.318808705837\n",
            "The Value of MAE at iteration # 474 is 28690.623648136385\n",
            "The Value of MAE at iteration # 475 is 28700.923293858126\n",
            "The Value of MAE at iteration # 476 is 28711.216645731267\n",
            "The Value of MAE at iteration # 477 is 28721.500471067873\n",
            "The Value of MAE at iteration # 478 is 28731.775866734064\n",
            "The Value of MAE at iteration # 479 is 28742.043314690785\n",
            "The Value of MAE at iteration # 480 is 28752.303037297577\n",
            "The Value of MAE at iteration # 481 is 28762.56496772859\n",
            "The Value of MAE at iteration # 482 is 28772.823142497156\n",
            "The Value of MAE at iteration # 483 is 28783.083755742253\n",
            "The Value of MAE at iteration # 484 is 28793.343167303985\n",
            "The Value of MAE at iteration # 485 is 28803.59711032807\n",
            "The Value of MAE at iteration # 486 is 28813.85169750085\n",
            "The Value of MAE at iteration # 487 is 28824.10039207196\n",
            "The Value of MAE at iteration # 488 is 28834.347449961293\n",
            "The Value of MAE at iteration # 489 is 28844.596899233202\n",
            "The Value of MAE at iteration # 490 is 28854.845364844707\n",
            "The Value of MAE at iteration # 491 is 28865.088549362295\n",
            "The Value of MAE at iteration # 492 is 28875.328183423586\n",
            "The Value of MAE at iteration # 493 is 28885.561926582446\n",
            "The Value of MAE at iteration # 494 is 28895.784981443525\n",
            "The Value of MAE at iteration # 495 is 28906.00049287061\n",
            "The Value of MAE at iteration # 496 is 28916.2125045478\n",
            "The Value of MAE at iteration # 497 is 28926.418385170797\n",
            "The Value of MAE at iteration # 498 is 28936.61764088794\n",
            "The Value of MAE at iteration # 499 is 28946.81302376132\n",
            "The Value of MAE at iteration # 500 is 28956.997636646593\n",
            "The Value of MAE at iteration # 501 is 28967.172587441815\n",
            "The Value of MAE at iteration # 502 is 28977.34396262446\n",
            "The Value of MAE at iteration # 503 is 28987.504835339554\n",
            "The Value of MAE at iteration # 504 is 28997.657580192914\n",
            "The Value of MAE at iteration # 505 is 29007.80056011051\n",
            "The Value of MAE at iteration # 506 is 29017.92968931394\n",
            "The Value of MAE at iteration # 507 is 29028.048034363776\n",
            "The Value of MAE at iteration # 508 is 29038.158405060298\n",
            "The Value of MAE at iteration # 509 is 29048.259492211295\n",
            "The Value of MAE at iteration # 510 is 29058.362332415156\n",
            "The Value of MAE at iteration # 511 is 29068.459186154443\n",
            "The Value of MAE at iteration # 512 is 29078.553140989272\n",
            "The Value of MAE at iteration # 513 is 29088.642362535134\n",
            "The Value of MAE at iteration # 514 is 29098.729264672267\n",
            "The Value of MAE at iteration # 515 is 29108.81027082281\n",
            "The Value of MAE at iteration # 516 is 29118.889530685083\n",
            "The Value of MAE at iteration # 517 is 29128.96728873173\n",
            "The Value of MAE at iteration # 518 is 29139.04228872057\n",
            "The Value of MAE at iteration # 519 is 29149.108248462722\n",
            "The Value of MAE at iteration # 520 is 29159.165078565973\n",
            "The Value of MAE at iteration # 521 is 29169.217678762107\n",
            "The Value of MAE at iteration # 522 is 29179.261134095177\n",
            "The Value of MAE at iteration # 523 is 29189.298361008445\n",
            "The Value of MAE at iteration # 524 is 29199.32877021493\n",
            "The Value of MAE at iteration # 525 is 29209.344610113847\n",
            "The Value of MAE at iteration # 526 is 29219.351799204916\n",
            "The Value of MAE at iteration # 527 is 29229.351467775374\n",
            "The Value of MAE at iteration # 528 is 29239.34124690125\n",
            "The Value of MAE at iteration # 529 is 29249.322071577128\n",
            "The Value of MAE at iteration # 530 is 29259.299074937593\n",
            "The Value of MAE at iteration # 531 is 29269.27116119073\n",
            "The Value of MAE at iteration # 532 is 29279.236900009684\n",
            "The Value of MAE at iteration # 533 is 29289.200276673706\n",
            "The Value of MAE at iteration # 534 is 29299.162276425013\n",
            "The Value of MAE at iteration # 535 is 29309.11434677682\n",
            "The Value of MAE at iteration # 536 is 29319.057054540048\n",
            "The Value of MAE at iteration # 537 is 29328.995494229355\n",
            "The Value of MAE at iteration # 538 is 29338.92572757323\n",
            "The Value of MAE at iteration # 539 is 29348.850394849112\n",
            "The Value of MAE at iteration # 540 is 29358.772651516632\n",
            "The Value of MAE at iteration # 541 is 29368.682470711192\n",
            "The Value of MAE at iteration # 542 is 29378.58406929428\n",
            "The Value of MAE at iteration # 543 is 29388.475580458242\n",
            "The Value of MAE at iteration # 544 is 29398.35762487128\n",
            "The Value of MAE at iteration # 545 is 29408.22932510438\n",
            "The Value of MAE at iteration # 546 is 29418.0918248498\n",
            "The Value of MAE at iteration # 547 is 29427.95164934816\n",
            "The Value of MAE at iteration # 548 is 29437.802557698808\n",
            "The Value of MAE at iteration # 549 is 29447.642047045658\n",
            "The Value of MAE at iteration # 550 is 29457.470808272512\n",
            "The Value of MAE at iteration # 551 is 29467.289149928634\n",
            "The Value of MAE at iteration # 552 is 29477.09919365544\n",
            "The Value of MAE at iteration # 553 is 29486.897235233566\n",
            "The Value of MAE at iteration # 554 is 29496.68139770925\n",
            "The Value of MAE at iteration # 555 is 29506.457621273024\n",
            "The Value of MAE at iteration # 556 is 29516.225555604822\n",
            "The Value of MAE at iteration # 557 is 29525.983171687523\n",
            "The Value of MAE at iteration # 558 is 29535.734038081733\n",
            "The Value of MAE at iteration # 559 is 29545.473024009996\n",
            "The Value of MAE at iteration # 560 is 29555.201977864945\n",
            "The Value of MAE at iteration # 561 is 29564.925600046885\n",
            "The Value of MAE at iteration # 562 is 29574.639515887924\n",
            "The Value of MAE at iteration # 563 is 29584.34543413692\n",
            "The Value of MAE at iteration # 564 is 29594.048706657206\n",
            "The Value of MAE at iteration # 565 is 29603.74382667466\n",
            "The Value of MAE at iteration # 566 is 29613.43340026397\n",
            "The Value of MAE at iteration # 567 is 29623.12227979358\n",
            "The Value of MAE at iteration # 568 is 29632.804500756552\n",
            "The Value of MAE at iteration # 569 is 29642.482730259326\n",
            "The Value of MAE at iteration # 570 is 29652.163670977174\n",
            "The Value of MAE at iteration # 571 is 29661.837679360575\n",
            "The Value of MAE at iteration # 572 is 29671.499223784973\n",
            "The Value of MAE at iteration # 573 is 29681.154036671156\n",
            "The Value of MAE at iteration # 574 is 29690.80988709675\n",
            "The Value of MAE at iteration # 575 is 29700.46037932753\n",
            "The Value of MAE at iteration # 576 is 29710.101327945376\n",
            "The Value of MAE at iteration # 577 is 29719.73150567425\n",
            "The Value of MAE at iteration # 578 is 29729.356914335676\n",
            "The Value of MAE at iteration # 579 is 29738.9697759358\n",
            "The Value of MAE at iteration # 580 is 29748.572448095667\n",
            "The Value of MAE at iteration # 581 is 29758.164893073106\n",
            "The Value of MAE at iteration # 582 is 29767.747661556066\n",
            "The Value of MAE at iteration # 583 is 29777.321634017542\n",
            "The Value of MAE at iteration # 584 is 29786.88474941179\n",
            "The Value of MAE at iteration # 585 is 29796.438984101158\n",
            "The Value of MAE at iteration # 586 is 29805.980243428094\n",
            "The Value of MAE at iteration # 587 is 29815.51028559391\n",
            "The Value of MAE at iteration # 588 is 29825.027659955198\n",
            "The Value of MAE at iteration # 589 is 29834.53594823534\n",
            "The Value of MAE at iteration # 590 is 29844.032687483945\n",
            "The Value of MAE at iteration # 591 is 29853.518941025326\n",
            "The Value of MAE at iteration # 592 is 29862.997305030516\n",
            "The Value of MAE at iteration # 593 is 29872.464588163562\n",
            "The Value of MAE at iteration # 594 is 29881.918945770118\n",
            "The Value of MAE at iteration # 595 is 29891.36038538533\n",
            "The Value of MAE at iteration # 596 is 29900.800955434246\n",
            "The Value of MAE at iteration # 597 is 29910.228380066626\n",
            "The Value of MAE at iteration # 598 is 29919.64238879647\n",
            "The Value of MAE at iteration # 599 is 29929.04597078366\n",
            "The Value of MAE at iteration # 600 is 29938.435733134644\n",
            "The Value of MAE at iteration # 601 is 29947.8175164539\n",
            "The Value of MAE at iteration # 602 is 29957.19062585023\n",
            "The Value of MAE at iteration # 603 is 29966.555356518485\n",
            "The Value of MAE at iteration # 604 is 29975.909004175242\n",
            "The Value of MAE at iteration # 605 is 29985.25298680179\n",
            "The Value of MAE at iteration # 606 is 29994.588767012174\n",
            "The Value of MAE at iteration # 607 is 30003.9163985172\n",
            "The Value of MAE at iteration # 608 is 30013.23571626688\n",
            "The Value of MAE at iteration # 609 is 30022.544851371506\n",
            "The Value of MAE at iteration # 610 is 30031.843709519\n",
            "The Value of MAE at iteration # 611 is 30041.133054298287\n",
            "The Value of MAE at iteration # 612 is 30050.40968044326\n",
            "The Value of MAE at iteration # 613 is 30059.67432187388\n",
            "The Value of MAE at iteration # 614 is 30068.925504174204\n",
            "The Value of MAE at iteration # 615 is 30078.16397459675\n",
            "The Value of MAE at iteration # 616 is 30087.39536852376\n",
            "The Value of MAE at iteration # 617 is 30096.61555445265\n",
            "The Value of MAE at iteration # 618 is 30105.822173168162\n",
            "The Value of MAE at iteration # 619 is 30115.01277004088\n",
            "The Value of MAE at iteration # 620 is 30124.188934683258\n",
            "The Value of MAE at iteration # 621 is 30133.35374412796\n",
            "The Value of MAE at iteration # 622 is 30142.50754384749\n",
            "The Value of MAE at iteration # 623 is 30151.649591355854\n",
            "The Value of MAE at iteration # 624 is 30160.784861238782\n",
            "The Value of MAE at iteration # 625 is 30169.913621872827\n",
            "The Value of MAE at iteration # 626 is 30179.03440614066\n",
            "The Value of MAE at iteration # 627 is 30188.14378067754\n",
            "The Value of MAE at iteration # 628 is 30197.24563815802\n",
            "The Value of MAE at iteration # 629 is 30206.335873472224\n",
            "The Value of MAE at iteration # 630 is 30215.414171285167\n",
            "The Value of MAE at iteration # 631 is 30224.477601832205\n",
            "The Value of MAE at iteration # 632 is 30233.53071530342\n",
            "The Value of MAE at iteration # 633 is 30242.57266750413\n",
            "The Value of MAE at iteration # 634 is 30251.60382660333\n",
            "The Value of MAE at iteration # 635 is 30260.62207277736\n",
            "The Value of MAE at iteration # 636 is 30269.631890412893\n",
            "The Value of MAE at iteration # 637 is 30278.632843359155\n",
            "The Value of MAE at iteration # 638 is 30287.62251019647\n",
            "The Value of MAE at iteration # 639 is 30296.601337180524\n",
            "The Value of MAE at iteration # 640 is 30305.56946287884\n",
            "The Value of MAE at iteration # 641 is 30314.5289132735\n",
            "The Value of MAE at iteration # 642 is 30323.47784551754\n",
            "The Value of MAE at iteration # 643 is 30332.414605020207\n",
            "The Value of MAE at iteration # 644 is 30341.34095473225\n",
            "The Value of MAE at iteration # 645 is 30350.255293966988\n",
            "The Value of MAE at iteration # 646 is 30359.15677749895\n",
            "The Value of MAE at iteration # 647 is 30368.0472050034\n",
            "The Value of MAE at iteration # 648 is 30376.92293867679\n",
            "The Value of MAE at iteration # 649 is 30385.794315295436\n",
            "The Value of MAE at iteration # 650 is 30394.65687569706\n",
            "The Value of MAE at iteration # 651 is 30403.506575974956\n",
            "The Value of MAE at iteration # 652 is 30412.34445664601\n",
            "The Value of MAE at iteration # 653 is 30421.17354869346\n",
            "The Value of MAE at iteration # 654 is 30429.992547165453\n",
            "The Value of MAE at iteration # 655 is 30438.79801900781\n",
            "The Value of MAE at iteration # 656 is 30447.59059135779\n",
            "The Value of MAE at iteration # 657 is 30456.369089593274\n",
            "The Value of MAE at iteration # 658 is 30465.134842974225\n",
            "The Value of MAE at iteration # 659 is 30473.886244331792\n",
            "The Value of MAE at iteration # 660 is 30482.625699577373\n",
            "The Value of MAE at iteration # 661 is 30491.352646402996\n",
            "The Value of MAE at iteration # 662 is 30500.069438582857\n",
            "The Value of MAE at iteration # 663 is 30508.772514502616\n",
            "The Value of MAE at iteration # 664 is 30517.4621559361\n",
            "The Value of MAE at iteration # 665 is 30526.13961451983\n",
            "The Value of MAE at iteration # 666 is 30534.806457184193\n",
            "The Value of MAE at iteration # 667 is 30543.463602901065\n",
            "The Value of MAE at iteration # 668 is 30552.108916016845\n",
            "The Value of MAE at iteration # 669 is 30560.743233307167\n",
            "The Value of MAE at iteration # 670 is 30569.366473611917\n",
            "The Value of MAE at iteration # 671 is 30577.976656880397\n",
            "The Value of MAE at iteration # 672 is 30586.57596743461\n",
            "The Value of MAE at iteration # 673 is 30595.161833257433\n",
            "The Value of MAE at iteration # 674 is 30603.73549034094\n",
            "The Value of MAE at iteration # 675 is 30612.293946696638\n",
            "The Value of MAE at iteration # 676 is 30620.838836843668\n",
            "The Value of MAE at iteration # 677 is 30629.371022009338\n",
            "The Value of MAE at iteration # 678 is 30637.889578228052\n",
            "The Value of MAE at iteration # 679 is 30646.39441710555\n",
            "The Value of MAE at iteration # 680 is 30654.88396281526\n",
            "The Value of MAE at iteration # 681 is 30663.360375711094\n",
            "The Value of MAE at iteration # 682 is 30671.824240890786\n",
            "The Value of MAE at iteration # 683 is 30680.282068024968\n",
            "The Value of MAE at iteration # 684 is 30688.7301909846\n",
            "The Value of MAE at iteration # 685 is 30697.171232745324\n",
            "The Value of MAE at iteration # 686 is 30705.599729458983\n",
            "The Value of MAE at iteration # 687 is 30714.01938343582\n",
            "The Value of MAE at iteration # 688 is 30722.42972428408\n",
            "The Value of MAE at iteration # 689 is 30730.82839259383\n",
            "The Value of MAE at iteration # 690 is 30739.215255981606\n",
            "The Value of MAE at iteration # 691 is 30747.58790686977\n",
            "The Value of MAE at iteration # 692 is 30755.945748797883\n",
            "The Value of MAE at iteration # 693 is 30764.290403950065\n",
            "The Value of MAE at iteration # 694 is 30772.623918892692\n",
            "The Value of MAE at iteration # 695 is 30780.944276053415\n",
            "The Value of MAE at iteration # 696 is 30789.251215163564\n",
            "The Value of MAE at iteration # 697 is 30797.54464921015\n",
            "The Value of MAE at iteration # 698 is 30805.825466317725\n",
            "The Value of MAE at iteration # 699 is 30814.096208329596\n",
            "The Value of MAE at iteration # 700 is 30822.35657122413\n",
            "The Value of MAE at iteration # 701 is 30830.609611608765\n",
            "The Value of MAE at iteration # 702 is 30838.851176415108\n",
            "The Value of MAE at iteration # 703 is 30847.080121881023\n",
            "The Value of MAE at iteration # 704 is 30855.296046008618\n",
            "The Value of MAE at iteration # 705 is 30863.498961048474\n",
            "The Value of MAE at iteration # 706 is 30871.688685454268\n",
            "The Value of MAE at iteration # 707 is 30879.866302120347\n",
            "The Value of MAE at iteration # 708 is 30888.03406506744\n",
            "The Value of MAE at iteration # 709 is 30896.188907331263\n",
            "The Value of MAE at iteration # 710 is 30904.332275581175\n",
            "The Value of MAE at iteration # 711 is 30912.46474991224\n",
            "The Value of MAE at iteration # 712 is 30920.584329167144\n",
            "The Value of MAE at iteration # 713 is 30928.691244075562\n",
            "The Value of MAE at iteration # 714 is 30936.785405535335\n",
            "The Value of MAE at iteration # 715 is 30944.872550709515\n",
            "The Value of MAE at iteration # 716 is 30952.948186102767\n",
            "The Value of MAE at iteration # 717 is 30961.013150556253\n",
            "The Value of MAE at iteration # 718 is 30969.070886090503\n",
            "The Value of MAE at iteration # 719 is 30977.116226539798\n",
            "The Value of MAE at iteration # 720 is 30985.14928238031\n",
            "The Value of MAE at iteration # 721 is 30993.17067155081\n",
            "The Value of MAE at iteration # 722 is 31001.181150892953\n",
            "The Value of MAE at iteration # 723 is 31009.180029603867\n",
            "The Value of MAE at iteration # 724 is 31017.167888228574\n",
            "The Value of MAE at iteration # 725 is 31025.143388917404\n",
            "The Value of MAE at iteration # 726 is 31033.1066944878\n",
            "The Value of MAE at iteration # 727 is 31041.056479290746\n",
            "The Value of MAE at iteration # 728 is 31048.994238209016\n",
            "The Value of MAE at iteration # 729 is 31056.91951637547\n",
            "The Value of MAE at iteration # 730 is 31064.832450237365\n",
            "The Value of MAE at iteration # 731 is 31072.7312638422\n",
            "The Value of MAE at iteration # 732 is 31080.61647529444\n",
            "The Value of MAE at iteration # 733 is 31088.489443000908\n",
            "The Value of MAE at iteration # 734 is 31096.349796918937\n",
            "The Value of MAE at iteration # 735 is 31104.19791184166\n",
            "The Value of MAE at iteration # 736 is 31112.036656074677\n",
            "The Value of MAE at iteration # 737 is 31119.86728692347\n",
            "The Value of MAE at iteration # 738 is 31127.683888685126\n",
            "The Value of MAE at iteration # 739 is 31135.48661169348\n",
            "The Value of MAE at iteration # 740 is 31143.276514657045\n",
            "The Value of MAE at iteration # 741 is 31151.054370090584\n",
            "The Value of MAE at iteration # 742 is 31158.820689814856\n",
            "The Value of MAE at iteration # 743 is 31166.574222074847\n",
            "The Value of MAE at iteration # 744 is 31174.3142710551\n",
            "The Value of MAE at iteration # 745 is 31182.041873238755\n",
            "The Value of MAE at iteration # 746 is 31189.757282049337\n",
            "The Value of MAE at iteration # 747 is 31197.459862982472\n",
            "The Value of MAE at iteration # 748 is 31205.151492886303\n",
            "The Value of MAE at iteration # 749 is 31212.83093100145\n",
            "The Value of MAE at iteration # 750 is 31220.498739138817\n",
            "The Value of MAE at iteration # 751 is 31228.15446540738\n",
            "The Value of MAE at iteration # 752 is 31235.799928511264\n",
            "The Value of MAE at iteration # 753 is 31243.43423593407\n",
            "The Value of MAE at iteration # 754 is 31251.05676843626\n",
            "The Value of MAE at iteration # 755 is 31258.668420508006\n",
            "The Value of MAE at iteration # 756 is 31266.269986734143\n",
            "The Value of MAE at iteration # 757 is 31273.859807257802\n"
          ]
        },
        {
          "output_type": "error",
          "ename": "KeyboardInterrupt",
          "evalue": "",
          "traceback": [
            "\u001b[0;31m---------------------------------------------------------------------------\u001b[0m",
            "\u001b[0;31mKeyboardInterrupt\u001b[0m                         Traceback (most recent call last)",
            "\u001b[0;32m<ipython-input-107-2aae562f13a5>\u001b[0m in \u001b[0;36m<cell line: 8>\u001b[0;34m()\u001b[0m\n\u001b[1;32m     25\u001b[0m   \u001b[0minitial_mae\u001b[0m \u001b[0;34m=\u001b[0m \u001b[0mmae\u001b[0m\u001b[0;34m(\u001b[0m\u001b[0mtheta_0_initial\u001b[0m\u001b[0;34m,\u001b[0m\u001b[0mtheta_initial\u001b[0m\u001b[0;34m)\u001b[0m\u001b[0;34m\u001b[0m\u001b[0;34m\u001b[0m\u001b[0m\n\u001b[1;32m     26\u001b[0m \u001b[0;34m\u001b[0m\u001b[0m\n\u001b[0;32m---> 27\u001b[0;31m   \u001b[0mprint\u001b[0m\u001b[0;34m(\u001b[0m\u001b[0;34m\"The Value of MAE at iteration # {} is {}\"\u001b[0m\u001b[0;34m.\u001b[0m\u001b[0mformat\u001b[0m\u001b[0;34m(\u001b[0m\u001b[0miteration\u001b[0m\u001b[0;34m,\u001b[0m\u001b[0minitial_mae\u001b[0m\u001b[0;34m)\u001b[0m\u001b[0;34m)\u001b[0m\u001b[0;34m\u001b[0m\u001b[0;34m\u001b[0m\u001b[0m\n\u001b[0m\u001b[1;32m     28\u001b[0m \u001b[0;34m\u001b[0m\u001b[0m\n\u001b[1;32m     29\u001b[0m   \u001b[0mtheta_0_initial\u001b[0m \u001b[0;34m=\u001b[0m \u001b[0mtheta_0_final\u001b[0m\u001b[0;34m\u001b[0m\u001b[0;34m\u001b[0m\u001b[0m\n",
            "\u001b[0;32m/usr/local/lib/python3.10/dist-packages/ipykernel/iostream.py\u001b[0m in \u001b[0;36mwrite\u001b[0;34m(self, string)\u001b[0m\n\u001b[1;32m    400\u001b[0m             \u001b[0mis_child\u001b[0m \u001b[0;34m=\u001b[0m \u001b[0;34m(\u001b[0m\u001b[0;32mnot\u001b[0m \u001b[0mself\u001b[0m\u001b[0;34m.\u001b[0m\u001b[0m_is_master_process\u001b[0m\u001b[0;34m(\u001b[0m\u001b[0;34m)\u001b[0m\u001b[0;34m)\u001b[0m\u001b[0;34m\u001b[0m\u001b[0;34m\u001b[0m\u001b[0m\n\u001b[1;32m    401\u001b[0m             \u001b[0;31m# only touch the buffer in the IO thread to avoid races\u001b[0m\u001b[0;34m\u001b[0m\u001b[0;34m\u001b[0m\u001b[0m\n\u001b[0;32m--> 402\u001b[0;31m             \u001b[0mself\u001b[0m\u001b[0;34m.\u001b[0m\u001b[0mpub_thread\u001b[0m\u001b[0;34m.\u001b[0m\u001b[0mschedule\u001b[0m\u001b[0;34m(\u001b[0m\u001b[0;32mlambda\u001b[0m \u001b[0;34m:\u001b[0m \u001b[0mself\u001b[0m\u001b[0;34m.\u001b[0m\u001b[0m_buffer\u001b[0m\u001b[0;34m.\u001b[0m\u001b[0mwrite\u001b[0m\u001b[0;34m(\u001b[0m\u001b[0mstring\u001b[0m\u001b[0;34m)\u001b[0m\u001b[0;34m)\u001b[0m\u001b[0;34m\u001b[0m\u001b[0;34m\u001b[0m\u001b[0m\n\u001b[0m\u001b[1;32m    403\u001b[0m             \u001b[0;32mif\u001b[0m \u001b[0mis_child\u001b[0m\u001b[0;34m:\u001b[0m\u001b[0;34m\u001b[0m\u001b[0;34m\u001b[0m\u001b[0m\n\u001b[1;32m    404\u001b[0m                 \u001b[0;31m# mp.Pool cannot be trusted to flush promptly (or ever),\u001b[0m\u001b[0;34m\u001b[0m\u001b[0;34m\u001b[0m\u001b[0m\n",
            "\u001b[0;32m/usr/local/lib/python3.10/dist-packages/ipykernel/iostream.py\u001b[0m in \u001b[0;36mschedule\u001b[0;34m(self, f)\u001b[0m\n\u001b[1;32m    201\u001b[0m             \u001b[0mself\u001b[0m\u001b[0;34m.\u001b[0m\u001b[0m_events\u001b[0m\u001b[0;34m.\u001b[0m\u001b[0mappend\u001b[0m\u001b[0;34m(\u001b[0m\u001b[0mf\u001b[0m\u001b[0;34m)\u001b[0m\u001b[0;34m\u001b[0m\u001b[0;34m\u001b[0m\u001b[0m\n\u001b[1;32m    202\u001b[0m             \u001b[0;31m# wake event thread (message content is ignored)\u001b[0m\u001b[0;34m\u001b[0m\u001b[0;34m\u001b[0m\u001b[0m\n\u001b[0;32m--> 203\u001b[0;31m             \u001b[0mself\u001b[0m\u001b[0;34m.\u001b[0m\u001b[0m_event_pipe\u001b[0m\u001b[0;34m.\u001b[0m\u001b[0msend\u001b[0m\u001b[0;34m(\u001b[0m\u001b[0;34mb''\u001b[0m\u001b[0;34m)\u001b[0m\u001b[0;34m\u001b[0m\u001b[0;34m\u001b[0m\u001b[0m\n\u001b[0m\u001b[1;32m    204\u001b[0m         \u001b[0;32melse\u001b[0m\u001b[0;34m:\u001b[0m\u001b[0;34m\u001b[0m\u001b[0;34m\u001b[0m\u001b[0m\n\u001b[1;32m    205\u001b[0m             \u001b[0mf\u001b[0m\u001b[0;34m(\u001b[0m\u001b[0;34m)\u001b[0m\u001b[0;34m\u001b[0m\u001b[0;34m\u001b[0m\u001b[0m\n",
            "\u001b[0;32m/usr/local/lib/python3.10/dist-packages/zmq/sugar/socket.py\u001b[0m in \u001b[0;36msend\u001b[0;34m(self, data, flags, copy, track, routing_id, group)\u001b[0m\n\u001b[1;32m    616\u001b[0m                 )\n\u001b[1;32m    617\u001b[0m             \u001b[0mdata\u001b[0m\u001b[0;34m.\u001b[0m\u001b[0mgroup\u001b[0m \u001b[0;34m=\u001b[0m \u001b[0mgroup\u001b[0m\u001b[0;34m\u001b[0m\u001b[0;34m\u001b[0m\u001b[0m\n\u001b[0;32m--> 618\u001b[0;31m         \u001b[0;32mreturn\u001b[0m \u001b[0msuper\u001b[0m\u001b[0;34m(\u001b[0m\u001b[0;34m)\u001b[0m\u001b[0;34m.\u001b[0m\u001b[0msend\u001b[0m\u001b[0;34m(\u001b[0m\u001b[0mdata\u001b[0m\u001b[0;34m,\u001b[0m \u001b[0mflags\u001b[0m\u001b[0;34m=\u001b[0m\u001b[0mflags\u001b[0m\u001b[0;34m,\u001b[0m \u001b[0mcopy\u001b[0m\u001b[0;34m=\u001b[0m\u001b[0mcopy\u001b[0m\u001b[0;34m,\u001b[0m \u001b[0mtrack\u001b[0m\u001b[0;34m=\u001b[0m\u001b[0mtrack\u001b[0m\u001b[0;34m)\u001b[0m\u001b[0;34m\u001b[0m\u001b[0;34m\u001b[0m\u001b[0m\n\u001b[0m\u001b[1;32m    619\u001b[0m \u001b[0;34m\u001b[0m\u001b[0m\n\u001b[1;32m    620\u001b[0m     def send_multipart(\n",
            "\u001b[0;32mzmq/backend/cython/socket.pyx\u001b[0m in \u001b[0;36mzmq.backend.cython.socket.Socket.send\u001b[0;34m()\u001b[0m\n",
            "\u001b[0;32mzmq/backend/cython/socket.pyx\u001b[0m in \u001b[0;36mzmq.backend.cython.socket.Socket.send\u001b[0;34m()\u001b[0m\n",
            "\u001b[0;32mzmq/backend/cython/socket.pyx\u001b[0m in \u001b[0;36mzmq.backend.cython.socket._send_copy\u001b[0;34m()\u001b[0m\n",
            "\u001b[0;32m/usr/local/lib/python3.10/dist-packages/zmq/backend/cython/checkrc.pxd\u001b[0m in \u001b[0;36mzmq.backend.cython.checkrc._check_rc\u001b[0;34m()\u001b[0m\n",
            "\u001b[0;31mKeyboardInterrupt\u001b[0m: "
          ]
        }
      ],
      "source": [
        "epsilon = 10**(-3)\n",
        "tol = 10**(-3)\n",
        "#theta_0_initial = np.random.randn(1,)[0]\n",
        "theta_0_initial = 0\n",
        "theta_initial = np.zeros((X_train_transpose.shape[1],1))\n",
        "iteration = 0\n",
        "\n",
        "while True:\n",
        "\n",
        "  initial_gradients = del_by_del_thetas(theta_0_initial,\n",
        "                                        theta_initial)\n",
        "\n",
        "  theta_0_final = theta_0_initial - (epsilon * initial_gradients[0])\n",
        "  theta_final = theta_initial - (epsilon * initial_gradients[1])\n",
        "\n",
        "  initial_gradient_vector = np.concatenate((np.array([[initial_gradients[0]]]),\n",
        "                                           initial_gradients[1]))\n",
        "\n",
        "  initial_mae = mae(theta_0_initial,theta_initial)\n",
        "  final_mae = mae(theta_0_final,theta_final)\n",
        "\n",
        "  if abs(initial_mae - final_mae) < tol:\n",
        "    break\n",
        "\n",
        "  initial_mae = mae(theta_0_initial,theta_initial)\n",
        "\n",
        "  print(\"The Value of MAE at iteration # {} is {}\".format(iteration,initial_mae))\n",
        "\n",
        "  theta_0_initial = theta_0_final\n",
        "  theta_initial = theta_final\n",
        "\n",
        "  iteration += 1"
      ]
    },
    {
      "cell_type": "code",
      "execution_count": null,
      "metadata": {
        "id": "s3CRcZAJh9pJ"
      },
      "outputs": [],
      "source": []
    }
  ],
  "metadata": {
    "colab": {
      "provenance": [],
      "include_colab_link": true
    },
    "kernelspec": {
      "display_name": "Python 3",
      "name": "python3"
    },
    "language_info": {
      "name": "python"
    }
  },
  "nbformat": 4,
  "nbformat_minor": 0
}